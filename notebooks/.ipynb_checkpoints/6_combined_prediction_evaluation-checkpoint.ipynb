{
 "cells": [
  {
   "cell_type": "markdown",
   "id": "d6249c8a",
   "metadata": {},
   "source": [
    "# Notebook combines in_text and out_of_text tag predictions for the BR24 data set and evaluates the accuracy percentage"
   ]
  },
  {
   "cell_type": "markdown",
   "id": "d7b7b88a",
   "metadata": {},
   "source": [
    "### In_text predictions are saved in /data/in_text_approach_1.pkl and out_of_text predictions are saved in out_of_text.pkl. Both are used in this notebook"
   ]
  },
  {
   "cell_type": "code",
   "execution_count": null,
   "id": "1b581fd5",
   "metadata": {},
   "outputs": [],
   "source": []
  },
  {
   "cell_type": "code",
   "execution_count": 1,
   "id": "439da13d",
   "metadata": {},
   "outputs": [],
   "source": [
    "import pickle as pk\n",
    "import pandas as pd\n",
    "import re\n",
    "from collections import Counter\n",
    "import matplotlib.pyplot as plt\n",
    "\n",
    "from tqdm import tqdm\n",
    "tqdm.pandas()"
   ]
  },
  {
   "cell_type": "code",
   "execution_count": null,
   "id": "8cd31553",
   "metadata": {},
   "outputs": [],
   "source": [
    "df_in = pd.read_pickle(\"../data/in_text_approach_1.pkl\", compression='zip')\n",
    "df_out = pd.read_pickle(\"../data/out_of_text.pkl\")"
   ]
  },
  {
   "cell_type": "code",
   "execution_count": 3,
   "id": "816639fe",
   "metadata": {},
   "outputs": [],
   "source": [
    "df = pd.merge(df_in, df_out, on=\"row_id\")"
   ]
  },
  {
   "cell_type": "code",
   "execution_count": 4,
   "id": "80b84c1e",
   "metadata": {},
   "outputs": [],
   "source": [
    "df = df[['created_at_x', 'primary_category_x', 'share_url_x', 'row_id', 'tags_x',\n",
    "       'title_x', 'text_x', 'type_x', \n",
    "       'clean_text_x', 'in_text_x', 'out_of_text_x', 'in_text_percent_x',\n",
    "       'out_of_text_percent_x', 'nouns', 'ner', 'extractions', 'approach_1_step_2b',\n",
    "       'approach_1_step_2b_x_tags', 'approach_1_step_2b_x_in_text', 'approach_2_step_1b', 'approach_2_step_2b',\n",
    "       'approach_2_x_out_of_text']]"
   ]
  },
  {
   "cell_type": "code",
   "execution_count": 5,
   "id": "e4385b51",
   "metadata": {},
   "outputs": [],
   "source": [
    "df.columns = df.columns.str.rstrip('_x')"
   ]
  },
  {
   "cell_type": "code",
   "execution_count": 7,
   "id": "a9ec3a3b",
   "metadata": {},
   "outputs": [],
   "source": [
    "df['combined_prediction'] = df['approach_1_step_2b'] + df['approach_2_step_2b']"
   ]
  },
  {
   "cell_type": "code",
   "execution_count": null,
   "id": "b4d8730d",
   "metadata": {},
   "outputs": [],
   "source": []
  },
  {
   "cell_type": "markdown",
   "id": "e49dbd2f",
   "metadata": {},
   "source": [
    "# Find matches"
   ]
  },
  {
   "cell_type": "code",
   "execution_count": 8,
   "id": "a9d927c6",
   "metadata": {},
   "outputs": [],
   "source": [
    "import difflib"
   ]
  },
  {
   "cell_type": "code",
   "execution_count": 9,
   "id": "69d5bcfa",
   "metadata": {},
   "outputs": [],
   "source": [
    "def find_matches(truth, predictions):\n",
    "    \"\"\"\n",
    "    Functions compares the truth value (editor tags) and predictions made by the system using the difflib library.\n",
    "    1. A prediction is considered as a match if it a close match and scores at least 0.7 with an editor tag using the difflib.get_close_matches\n",
    "    2. If no match is found then we look for a substring match.\n",
    "    \n",
    "    If both steps do not give a match, then there is no prediction for that particular editor tag.\n",
    "    \n",
    "    :param truth: editor tags\n",
    "    :param predictions: predictions made by the system\n",
    "    :return: those predictions which are correct, i.e., match with editor predictions\n",
    "    \"\"\"\n",
    "    matches = []\n",
    "    for tag in truth:\n",
    "        predicted = difflib.get_close_matches(tag, predictions, 1, 0.7) #closest match\n",
    "        if not predicted:\n",
    "            predicted = [key for key in predictions if tag in key] #if no closest match then take substring match\n",
    "        \n",
    "        if predicted:\n",
    "            matches.append(predicted[0])\n",
    "        else:\n",
    "            continue\n",
    "    return matches"
   ]
  },
  {
   "cell_type": "code",
   "execution_count": 10,
   "id": "93c0890f",
   "metadata": {},
   "outputs": [
    {
     "name": "stderr",
     "output_type": "stream",
     "text": [
      "100%|██████████| 40862/40862 [00:42<00:00, 970.95it/s] \n"
     ]
    }
   ],
   "source": [
    "df['combined_x_tags'] = df.progress_apply(lambda x: find_matches(x['tags'], x['combined_prediction']), axis=1)"
   ]
  },
  {
   "cell_type": "code",
   "execution_count": 11,
   "id": "863c96e5",
   "metadata": {},
   "outputs": [],
   "source": [
    "combined_x_tags_acc = df.apply(lambda row: int(((len(row.combined_x_tags)/len(row.tags) if len(row.tags) != 0 else -1 ))*100), axis=1)"
   ]
  },
  {
   "cell_type": "code",
   "execution_count": 12,
   "id": "acbc959a",
   "metadata": {},
   "outputs": [
    {
     "name": "stdout",
     "output_type": "stream",
     "text": [
      "64.82636679555577\n"
     ]
    }
   ],
   "source": [
    "print(combined_x_tags_acc[combined_x_tags_acc >= 0].mean())"
   ]
  },
  {
   "cell_type": "code",
   "execution_count": null,
   "id": "f9c70d37",
   "metadata": {},
   "outputs": [],
   "source": []
  },
  {
   "cell_type": "markdown",
   "id": "33963220",
   "metadata": {},
   "source": [
    "# Sample"
   ]
  },
  {
   "cell_type": "code",
   "execution_count": 34,
   "id": "4d47f31e",
   "metadata": {},
   "outputs": [
    {
     "data": {
      "text/plain": [
       "array(['Urteil', 'Rammbock', 'Auto', 'Bamberg', 'Landgericht',\n",
       "       'Ex-Polizisten', 'Juweliergeschäft', 'Oberfranken'], dtype=object)"
      ]
     },
     "execution_count": 34,
     "metadata": {},
     "output_type": "execute_result"
    }
   ],
   "source": [
    "df.iloc[1].tags"
   ]
  },
  {
   "cell_type": "code",
   "execution_count": 35,
   "id": "6b464101",
   "metadata": {},
   "outputs": [
    {
     "name": "stdout",
     "output_type": "stream",
     "text": [
      "['Landgericht Bamberg', 'Gericht', 'Geschäfts', 'Überfall auf Juwelierladen Auto', 'Bamberger', 'Wagen', 'Raub', 'Gesamtfreiheitsstrafe', 'Juweliergeschäft', 'Elektroartikel', 'Ex-Polizisten', 'Ruhestand', 'Fachmarkt', 'Rammbock', 'ausgeraubtDasselbe', 'Anklageschrift', 'Gebrauchtwagen', 'Polizeibeamten', 'Geländewagens', 'Landespolizei', 'Elektrogeräte', 'Bundespolizei', 'Verurteilten', 'Schaufenster', 'Verkaufswert', 'Angeklagten', 'Probefahrt', 'Diebstahls', '-Jährigen', 'Komplize', 'Bundespolizei', 'Kriminalpolizei', 'Würzburger Kickers', 'Diebstahl', 'Polizeigewalt', 'Regionalliga Bayern', 'Borussia Dortmund', 'Bayerischer Verwaltungsgerichtshof', 'Deutscher Fußball-Bund', 'Polizeieinsatz']\n"
     ]
    }
   ],
   "source": [
    "print(df.iloc[1].combined_prediction,)"
   ]
  },
  {
   "cell_type": "code",
   "execution_count": 14,
   "id": "56e34537",
   "metadata": {},
   "outputs": [
    {
     "data": {
      "text/plain": [
       "'Die Grünen können im Saarland nicht mit einer Landesliste an der Bundestagswahl teilnehmen. Der Bundeswahlausschuss bestätigte die Entscheidung des saarländischen Landeswahlausschusses, die dortige Landesliste nicht zuzulassen. Damit wies das Gremium die Beschwerde der Saar-Grünen zurück.Streit in der LandesparteiHintergrund ist ein schwerer Streit in der Landespartei um die Listenaufstellung. Im Juni war im ersten Anlauf, die Landesliste aufzustellen, Hubert Ulrich zum Spitzenkandidaten der Grünen im Saarland gewählt worden. Ulrich ist ehemaliger Parteichef der Saar-Grünen. Doch die Wahl wurde nachträglich für ungültig erklärt, da auch nicht stimmberechtigte Mitglieder ihr Votum abgegeben hatten. Zudem kritisierte ein Schiedsgericht einen Verstoß gegen das Frauenstatut der Partei.Alles Wichtige zur Bundestagswahl finden Sie hier.Vor dem zweiten Anlauf der Listenwahl hatte das Bundesschiedsgericht der Grünen dann Delegierte aus dem Ortsverband Saarlouis ausgeschlossen. Das Parteigericht hatte bei der Wahl der Delegierten in dem Ortsverband Unregelmäßigkeiten festgestellt.Lange DiskussionDer Ausschuss diskutierte die Angelegenheit lange und kontrovers. Letztlich stimmten sechs der zehn anwesenden Ausschussmitglieder für die Zurückweisung der Parteibeschwerde, zwei votierten dagegen, zwei enthielten sich. Das Gremium hat eigentlich elf Mitglieder; der von den Grünen in den Ausschuss entsandte Hartmut Geil erklärte sich aber für befangen und nahm nur als Zuschauer teil. \"Hier ist Bayern\": Der BR Newsletter informiert Sie immer montags bis freitags zum Feierabend über das Wichtigste vom Tag auf einen Blick kompakt und direkt in Ihrem privaten Postfach. Hier gehts zur Anmeldung!'"
      ]
     },
     "execution_count": 14,
     "metadata": {},
     "output_type": "execute_result"
    }
   ],
   "source": [
    "df.iloc[5].clean_text"
   ]
  },
  {
   "cell_type": "code",
   "execution_count": 13,
   "id": "69d4680e",
   "metadata": {},
   "outputs": [
    {
     "name": "stdout",
     "output_type": "stream",
     "text": [
      "['Landesliste' 'Saarland' 'Bündnis 90/Die Grünen' 'Bundestagswahl']\n",
      "['Landesliste', 'Saarland', 'Bündnis 90/Die Grünen', 'Bundestagswahl']\n",
      "['Landesliste', 'Saarland', 'Bundestagswahl']\n"
     ]
    }
   ],
   "source": [
    "print(df.iloc[5].tags,)\n",
    "print(df.iloc[5].combined_x_tags,)\n",
    "print(df.iloc[5].approach_1_step_2b_x_tags,)"
   ]
  },
  {
   "cell_type": "code",
   "execution_count": null,
   "id": "3a70eb30",
   "metadata": {},
   "outputs": [],
   "source": []
  }
 ],
 "metadata": {
  "environment": {
   "name": "common-cpu.m65",
   "type": "gcloud",
   "uri": "gcr.io/deeplearning-platform-release/base-cpu:m65"
  },
  "kernelspec": {
   "display_name": "Python 3",
   "language": "python",
   "name": "python3"
  },
  "language_info": {
   "codemirror_mode": {
    "name": "ipython",
    "version": 3
   },
   "file_extension": ".py",
   "mimetype": "text/x-python",
   "name": "python",
   "nbconvert_exporter": "python",
   "pygments_lexer": "ipython3",
   "version": "3.7.10"
  }
 },
 "nbformat": 4,
 "nbformat_minor": 5
}
