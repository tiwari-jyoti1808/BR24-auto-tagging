{
 "cells": [
  {
   "cell_type": "markdown",
   "id": "934287f4",
   "metadata": {},
   "source": [
    "# Notebook performs data analysis (text and tag) on the BR24 data set"
   ]
  },
  {
   "cell_type": "markdown",
   "id": "ca0c084f",
   "metadata": {},
   "source": [
    "### /data/raw_data_0608.pkl is used for this notebook and results are saved to /data/processed_data.pkl"
   ]
  },
  {
   "cell_type": "code",
   "execution_count": 33,
   "id": "f5e9ed1a",
   "metadata": {},
   "outputs": [],
   "source": [
    "import pickle as pk\n",
    "import pandas as pd\n",
    "import re\n",
    "from collections import Counter\n",
    "import matplotlib.pyplot as plt"
   ]
  },
  {
   "cell_type": "code",
   "execution_count": 34,
   "id": "8f68c337",
   "metadata": {},
   "outputs": [],
   "source": [
    "df = pd.read_pickle(\"../data/raw_data_0608.pkl\", compression='zip')"
   ]
  },
  {
   "cell_type": "code",
   "execution_count": 35,
   "id": "e4cd005c",
   "metadata": {},
   "outputs": [],
   "source": [
    "pd.set_option('display.max_colwidth', 500)"
   ]
  },
  {
   "cell_type": "code",
   "execution_count": 36,
   "id": "dce39a13",
   "metadata": {},
   "outputs": [
    {
     "data": {
      "text/html": [
       "<div>\n",
       "<style scoped>\n",
       "    .dataframe tbody tr th:only-of-type {\n",
       "        vertical-align: middle;\n",
       "    }\n",
       "\n",
       "    .dataframe tbody tr th {\n",
       "        vertical-align: top;\n",
       "    }\n",
       "\n",
       "    .dataframe thead th {\n",
       "        text-align: right;\n",
       "    }\n",
       "</style>\n",
       "<table border=\"1\" class=\"dataframe\">\n",
       "  <thead>\n",
       "    <tr style=\"text-align: right;\">\n",
       "      <th></th>\n",
       "      <th>created_at</th>\n",
       "      <th>primary_category</th>\n",
       "      <th>share_url</th>\n",
       "      <th>row_id</th>\n",
       "      <th>tags</th>\n",
       "      <th>title</th>\n",
       "      <th>text</th>\n",
       "      <th>type</th>\n",
       "    </tr>\n",
       "  </thead>\n",
       "  <tbody>\n",
       "    <tr>\n",
       "      <th>0</th>\n",
       "      <td>2021-08-05 09:44:27.368478+00:00</td>\n",
       "      <td>deutschland-welt</td>\n",
       "      <td>https://www.br.de/nachrichten/deutschland-welt/amtseinfuehrung-im-iran-neuer-praesident-alte-probleme,SfClRxG</td>\n",
       "      <td>SfClRxG</td>\n",
       "      <td>[Ayatollah Ali Khamenei, Amtseinführung, Iran, Präsident, Ebrahim Raisi]</td>\n",
       "      <td>Amtseinführung im Iran: Neuer Präsident, alte Probleme</td>\n",
       "      <td>&amp;quot;Hier ist Bayern&amp;quot;: Der BR24 Newsletter informiert Sie immer montags bis freitags zum Feierabend über das Wichtigste vom Tag auf einen Blick – kompakt und direkt in Ihrem privaten Postfach. Hier geht’s zur Anmeldung! Schon am Dienstag gab es im Iran eine erste feierliche Zeremonie: Der Oberste Führer Ayatollah Ali Khamenei bestätigte die Wahl von Ebrahim Raisi. Alle trugen Maske, saßen vorbildlich in ausreichendem Abstand zueinander. Und Raisi bedauerte: &amp;quot;Höflichkeit und Respek...</td>\n",
       "      <td>TEXT</td>\n",
       "    </tr>\n",
       "  </tbody>\n",
       "</table>\n",
       "</div>"
      ],
      "text/plain": [
       "                        created_at  primary_category  \\\n",
       "0 2021-08-05 09:44:27.368478+00:00  deutschland-welt   \n",
       "\n",
       "                                                                                                       share_url  \\\n",
       "0  https://www.br.de/nachrichten/deutschland-welt/amtseinfuehrung-im-iran-neuer-praesident-alte-probleme,SfClRxG   \n",
       "\n",
       "    row_id  \\\n",
       "0  SfClRxG   \n",
       "\n",
       "                                                                       tags  \\\n",
       "0  [Ayatollah Ali Khamenei, Amtseinführung, Iran, Präsident, Ebrahim Raisi]   \n",
       "\n",
       "                                                    title  \\\n",
       "0  Amtseinführung im Iran: Neuer Präsident, alte Probleme   \n",
       "\n",
       "                                                                                                                                                                                                                                                                                                                                                                                                                                                                                                                  text  \\\n",
       "0  &quot;Hier ist Bayern&quot;: Der BR24 Newsletter informiert Sie immer montags bis freitags zum Feierabend über das Wichtigste vom Tag auf einen Blick – kompakt und direkt in Ihrem privaten Postfach. Hier geht’s zur Anmeldung! Schon am Dienstag gab es im Iran eine erste feierliche Zeremonie: Der Oberste Führer Ayatollah Ali Khamenei bestätigte die Wahl von Ebrahim Raisi. Alle trugen Maske, saßen vorbildlich in ausreichendem Abstand zueinander. Und Raisi bedauerte: &quot;Höflichkeit und Respek...   \n",
       "\n",
       "   type  \n",
       "0  TEXT  "
      ]
     },
     "execution_count": 36,
     "metadata": {},
     "output_type": "execute_result"
    }
   ],
   "source": [
    "df.head(1)"
   ]
  },
  {
   "cell_type": "code",
   "execution_count": 37,
   "id": "4e694214",
   "metadata": {},
   "outputs": [
    {
     "data": {
      "text/plain": [
       "(45997, 8)"
      ]
     },
     "execution_count": 37,
     "metadata": {},
     "output_type": "execute_result"
    }
   ],
   "source": [
    "df.shape"
   ]
  },
  {
   "cell_type": "code",
   "execution_count": 38,
   "id": "aa78d0af",
   "metadata": {},
   "outputs": [
    {
     "data": {
      "text/plain": [
       "45997"
      ]
     },
     "execution_count": 38,
     "metadata": {},
     "output_type": "execute_result"
    }
   ],
   "source": [
    "df['row_id'].nunique()"
   ]
  },
  {
   "cell_type": "code",
   "execution_count": null,
   "id": "5df62743",
   "metadata": {},
   "outputs": [],
   "source": []
  },
  {
   "cell_type": "markdown",
   "id": "3f416746",
   "metadata": {},
   "source": [
    "# Preprocessing for TF-IDF"
   ]
  },
  {
   "cell_type": "code",
   "execution_count": 39,
   "id": "5ce77474",
   "metadata": {},
   "outputs": [],
   "source": [
    "#!pip install nltk"
   ]
  },
  {
   "cell_type": "code",
   "execution_count": 40,
   "id": "b73a98e6",
   "metadata": {},
   "outputs": [
    {
     "name": "stderr",
     "output_type": "stream",
     "text": [
      "[nltk_data] Downloading package stopwords to\n",
      "[nltk_data]     /home/jupyter/nltk_data...\n",
      "[nltk_data]   Package stopwords is already up-to-date!\n"
     ]
    },
    {
     "data": {
      "text/plain": [
       "True"
      ]
     },
     "execution_count": 40,
     "metadata": {},
     "output_type": "execute_result"
    }
   ],
   "source": [
    "import nltk\n",
    "nltk.download('stopwords')"
   ]
  },
  {
   "cell_type": "code",
   "execution_count": 41,
   "id": "32a7b051",
   "metadata": {},
   "outputs": [
    {
     "name": "stdout",
     "output_type": "stream",
     "text": [
      "!\"#$%&'()*+,-./:;<=>?@[\\]^_`{|}~\n",
      "['aber', 'alle', 'allem', 'allen', 'aller', 'alles', 'als', 'also', 'am', 'an', 'ander', 'andere', 'anderem', 'anderen', 'anderer', 'anderes', 'anderm', 'andern', 'anderr', 'anders', 'auch', 'auf', 'aus', 'bei', 'bin', 'bis', 'bist', 'da', 'damit', 'dann', 'der', 'den', 'des', 'dem', 'die', 'das', 'dass', 'daß', 'derselbe', 'derselben', 'denselben', 'desselben', 'demselben', 'dieselbe', 'dieselben', 'dasselbe', 'dazu', 'dein', 'deine', 'deinem', 'deinen', 'deiner', 'deines', 'denn', 'derer', 'dessen', 'dich', 'dir', 'du', 'dies', 'diese', 'diesem', 'diesen', 'dieser', 'dieses', 'doch', 'dort', 'durch', 'ein', 'eine', 'einem', 'einen', 'einer', 'eines', 'einig', 'einige', 'einigem', 'einigen', 'einiger', 'einiges', 'einmal', 'er', 'ihn', 'ihm', 'es', 'etwas', 'euer', 'eure', 'eurem', 'euren', 'eurer', 'eures', 'für', 'gegen', 'gewesen', 'hab', 'habe', 'haben', 'hat', 'hatte', 'hatten', 'hier', 'hin', 'hinter', 'ich', 'mich', 'mir', 'ihr', 'ihre', 'ihrem', 'ihren', 'ihrer', 'ihres', 'euch', 'im', 'in', 'indem', 'ins', 'ist', 'jede', 'jedem', 'jeden', 'jeder', 'jedes', 'jene', 'jenem', 'jenen', 'jener', 'jenes', 'jetzt', 'kann', 'kein', 'keine', 'keinem', 'keinen', 'keiner', 'keines', 'können', 'könnte', 'machen', 'man', 'manche', 'manchem', 'manchen', 'mancher', 'manches', 'mein', 'meine', 'meinem', 'meinen', 'meiner', 'meines', 'mit', 'muss', 'musste', 'nach', 'nicht', 'nichts', 'noch', 'nun', 'nur', 'ob', 'oder', 'ohne', 'sehr', 'sein', 'seine', 'seinem', 'seinen', 'seiner', 'seines', 'selbst', 'sich', 'sie', 'ihnen', 'sind', 'so', 'solche', 'solchem', 'solchen', 'solcher', 'solches', 'soll', 'sollte', 'sondern', 'sonst', 'über', 'um', 'und', 'uns', 'unsere', 'unserem', 'unseren', 'unser', 'unseres', 'unter', 'viel', 'vom', 'von', 'vor', 'während', 'war', 'waren', 'warst', 'was', 'weg', 'weil', 'weiter', 'welche', 'welchem', 'welchen', 'welcher', 'welches', 'wenn', 'werde', 'werden', 'wie', 'wieder', 'will', 'wir', 'wird', 'wirst', 'wo', 'wollen', 'wollte', 'würde', 'würden', 'zu', 'zum', 'zur', 'zwar', 'zwischen']\n"
     ]
    }
   ],
   "source": [
    "import string\n",
    "from nltk.corpus import stopwords\n",
    "\n",
    "print(string.punctuation)\n",
    "\n",
    "german_stop_words = stopwords.words('german')\n",
    "print(german_stop_words)"
   ]
  },
  {
   "cell_type": "code",
   "execution_count": 42,
   "id": "f5535182",
   "metadata": {},
   "outputs": [],
   "source": [
    "def preprocessing_tfidf(text):\n",
    "    \"\"\"\n",
    "    1. Removes punctuations and '&quote;' in given text\n",
    "    2. Removes stopwords from text\n",
    "    3. Remove digits in given text as they would interfere with tf-idf\n",
    "    4. Remove single characters in given text\n",
    "    5. Reduce multiple spaces in given text to single space\n",
    "    \n",
    "    :param text: raw string\n",
    "    :return: preprocessed string\n",
    "    \"\"\"\n",
    "    \n",
    "    # 1. Removes punctuations and '&quote;' in given text\n",
    "    text = text.replace(\"&quot;\", '\\\"')\n",
    "    text = text.replace(\"’\", '')\n",
    "    text = text.replace(\"–\", '')\n",
    "    RE_PUNCTUATIONS = re.compile('[%s]' % re.escape(string.punctuation), re.IGNORECASE)\n",
    "    text = re.sub(RE_PUNCTUATIONS, \"\", str(text))\n",
    "        \n",
    "    # 2. Removes stopwords from text\n",
    "    text = (lambda x: ' '.join([word for word in x.split() if word.lower() not in german_stop_words]))(text)\n",
    "    \n",
    "    # 3. Remove digits in given text as they would interfere with tf-idf\n",
    "    RE_DIGITS = re.compile(r\"\\d+\", re.IGNORECASE)\n",
    "    text = re.sub(RE_DIGITS, \" \", str(text))\n",
    "    \n",
    "    # 4. Remove single characters in given text\n",
    "    RE_SINGLECHAR = re.compile(r\"\\b[A-Za-z]\\b\", re.IGNORECASE)\n",
    "    text = re.sub(RE_SINGLECHAR, \" \", str(text))\n",
    "    \n",
    "    # 5. Reduce multiple spaces in given text to single space\n",
    "    RE_WSPACE = re.compile(r\"\\s+\", re.IGNORECASE)\n",
    "    text = re.sub(RE_WSPACE, \" \", str(text))\n",
    "    \n",
    "    return text"
   ]
  },
  {
   "cell_type": "code",
   "execution_count": 43,
   "id": "5bb0edcc",
   "metadata": {},
   "outputs": [],
   "source": [
    "df['clean_text_tfidf'] = df['text'].map(lambda x: preprocessing_tfidf(x))"
   ]
  },
  {
   "cell_type": "code",
   "execution_count": null,
   "id": "e046db07",
   "metadata": {},
   "outputs": [],
   "source": []
  },
  {
   "cell_type": "markdown",
   "id": "185961c5",
   "metadata": {},
   "source": [
    "## Stemming"
   ]
  },
  {
   "cell_type": "code",
   "execution_count": 44,
   "id": "06d5c433",
   "metadata": {},
   "outputs": [
    {
     "name": "stderr",
     "output_type": "stream",
     "text": [
      "[nltk_data] Downloading package punkt to /home/jupyter/nltk_data...\n",
      "[nltk_data]   Package punkt is already up-to-date!\n"
     ]
    }
   ],
   "source": [
    "from nltk.stem.snowball import SnowballStemmer\n",
    "from nltk.tokenize import word_tokenize\n",
    "\n",
    "nltk.download('punkt')\n",
    "stemmer = SnowballStemmer(\"german\")"
   ]
  },
  {
   "cell_type": "code",
   "execution_count": 45,
   "id": "62245a01",
   "metadata": {},
   "outputs": [],
   "source": [
    "def nltk_stemming_tfidf(text):\n",
    "    \"\"\"\n",
    "    Function crudely removes endings of words to get to base word\n",
    "    \n",
    "    :param text: string with original words\n",
    "    :return: string with stemmed words\n",
    "    \"\"\"\n",
    "    \n",
    "    word_tokens = word_tokenize(text)\n",
    "    filtered_words = [stemmer.stem(word).capitalize() if word == word.title() else stemmer.stem(word) for word in word_tokens]\n",
    "    text = ' '.join(filtered_words)\n",
    "    \n",
    "    return text"
   ]
  },
  {
   "cell_type": "code",
   "execution_count": 46,
   "id": "e21684de",
   "metadata": {},
   "outputs": [],
   "source": [
    "df['clean_text_tfidf_nltk_stem'] = df['clean_text_tfidf'].map(lambda x: nltk_stemming_tfidf(x))"
   ]
  },
  {
   "cell_type": "code",
   "execution_count": 47,
   "id": "e67b65fe",
   "metadata": {},
   "outputs": [
    {
     "data": {
      "text/html": [
       "<div>\n",
       "<style scoped>\n",
       "    .dataframe tbody tr th:only-of-type {\n",
       "        vertical-align: middle;\n",
       "    }\n",
       "\n",
       "    .dataframe tbody tr th {\n",
       "        vertical-align: top;\n",
       "    }\n",
       "\n",
       "    .dataframe thead th {\n",
       "        text-align: right;\n",
       "    }\n",
       "</style>\n",
       "<table border=\"1\" class=\"dataframe\">\n",
       "  <thead>\n",
       "    <tr style=\"text-align: right;\">\n",
       "      <th></th>\n",
       "      <th>created_at</th>\n",
       "      <th>primary_category</th>\n",
       "      <th>share_url</th>\n",
       "      <th>row_id</th>\n",
       "      <th>tags</th>\n",
       "      <th>title</th>\n",
       "      <th>text</th>\n",
       "      <th>type</th>\n",
       "      <th>clean_text_tfidf</th>\n",
       "      <th>clean_text_tfidf_nltk_stem</th>\n",
       "    </tr>\n",
       "  </thead>\n",
       "  <tbody>\n",
       "    <tr>\n",
       "      <th>0</th>\n",
       "      <td>2021-08-05 09:44:27.368478+00:00</td>\n",
       "      <td>deutschland-welt</td>\n",
       "      <td>https://www.br.de/nachrichten/deutschland-welt/amtseinfuehrung-im-iran-neuer-praesident-alte-probleme,SfClRxG</td>\n",
       "      <td>SfClRxG</td>\n",
       "      <td>[Ayatollah Ali Khamenei, Amtseinführung, Iran, Präsident, Ebrahim Raisi]</td>\n",
       "      <td>Amtseinführung im Iran: Neuer Präsident, alte Probleme</td>\n",
       "      <td>&amp;quot;Hier ist Bayern&amp;quot;: Der BR24 Newsletter informiert Sie immer montags bis freitags zum Feierabend über das Wichtigste vom Tag auf einen Blick – kompakt und direkt in Ihrem privaten Postfach. Hier geht’s zur Anmeldung! Schon am Dienstag gab es im Iran eine erste feierliche Zeremonie: Der Oberste Führer Ayatollah Ali Khamenei bestätigte die Wahl von Ebrahim Raisi. Alle trugen Maske, saßen vorbildlich in ausreichendem Abstand zueinander. Und Raisi bedauerte: &amp;quot;Höflichkeit und Respek...</td>\n",
       "      <td>TEXT</td>\n",
       "      <td>Bayern BR Newsletter informiert immer montags freitags Feierabend Wichtigste Tag Blick kompakt direkt privaten Postfach gehts Anmeldung Schon Dienstag gab Iran erste feierliche Zeremonie Oberste Führer Ayatollah Ali Khamenei bestätigte Wahl Ebrahim Raisi trugen Maske saßen vorbildlich ausreichendem Abstand zueinander Raisi bedauerte Höflichkeit Respekt eigentlich verlangen gesegnete Hand Obersten Revolutionsführers küsse nachdem Amt bestätigt aktuellen Situation wurde Erfolg genommenCorona P...</td>\n",
       "      <td>Bay br Newslett informiert imm montag freitag Feierab Wichtig Tag Blick kompakt direkt privat Postfach geht Anmeld Schon Dienstag gab Iran erst feierlich Zeremoni Oberst Fuhr Ayatollah Ali Khamenei bestatigt Wahl Ebrahim Raisi trug Mask sass vorbild ausreich Abstand zueinand Raisi bedauert Hoflich Respekt eigent verlang gesegnet Hand Oberst Revolutionsfuhr kuss nachd Amt bestatigt aktuell Situation wurd Erfolg genommencorona problemeerst Anfang Woch erreich taglich coronaneuinfektion Iran ne...</td>\n",
       "    </tr>\n",
       "  </tbody>\n",
       "</table>\n",
       "</div>"
      ],
      "text/plain": [
       "                        created_at  primary_category  \\\n",
       "0 2021-08-05 09:44:27.368478+00:00  deutschland-welt   \n",
       "\n",
       "                                                                                                       share_url  \\\n",
       "0  https://www.br.de/nachrichten/deutschland-welt/amtseinfuehrung-im-iran-neuer-praesident-alte-probleme,SfClRxG   \n",
       "\n",
       "    row_id  \\\n",
       "0  SfClRxG   \n",
       "\n",
       "                                                                       tags  \\\n",
       "0  [Ayatollah Ali Khamenei, Amtseinführung, Iran, Präsident, Ebrahim Raisi]   \n",
       "\n",
       "                                                    title  \\\n",
       "0  Amtseinführung im Iran: Neuer Präsident, alte Probleme   \n",
       "\n",
       "                                                                                                                                                                                                                                                                                                                                                                                                                                                                                                                  text  \\\n",
       "0  &quot;Hier ist Bayern&quot;: Der BR24 Newsletter informiert Sie immer montags bis freitags zum Feierabend über das Wichtigste vom Tag auf einen Blick – kompakt und direkt in Ihrem privaten Postfach. Hier geht’s zur Anmeldung! Schon am Dienstag gab es im Iran eine erste feierliche Zeremonie: Der Oberste Führer Ayatollah Ali Khamenei bestätigte die Wahl von Ebrahim Raisi. Alle trugen Maske, saßen vorbildlich in ausreichendem Abstand zueinander. Und Raisi bedauerte: &quot;Höflichkeit und Respek...   \n",
       "\n",
       "   type  \\\n",
       "0  TEXT   \n",
       "\n",
       "                                                                                                                                                                                                                                                                                                                                                                                                                                                                                                      clean_text_tfidf  \\\n",
       "0  Bayern BR Newsletter informiert immer montags freitags Feierabend Wichtigste Tag Blick kompakt direkt privaten Postfach gehts Anmeldung Schon Dienstag gab Iran erste feierliche Zeremonie Oberste Führer Ayatollah Ali Khamenei bestätigte Wahl Ebrahim Raisi trugen Maske saßen vorbildlich ausreichendem Abstand zueinander Raisi bedauerte Höflichkeit Respekt eigentlich verlangen gesegnete Hand Obersten Revolutionsführers küsse nachdem Amt bestätigt aktuellen Situation wurde Erfolg genommenCorona P...   \n",
       "\n",
       "                                                                                                                                                                                                                                                                                                                                                                                                                                                                                            clean_text_tfidf_nltk_stem  \n",
       "0  Bay br Newslett informiert imm montag freitag Feierab Wichtig Tag Blick kompakt direkt privat Postfach geht Anmeld Schon Dienstag gab Iran erst feierlich Zeremoni Oberst Fuhr Ayatollah Ali Khamenei bestatigt Wahl Ebrahim Raisi trug Mask sass vorbild ausreich Abstand zueinand Raisi bedauert Hoflich Respekt eigent verlang gesegnet Hand Oberst Revolutionsfuhr kuss nachd Amt bestatigt aktuell Situation wurd Erfolg genommencorona problemeerst Anfang Woch erreich taglich coronaneuinfektion Iran ne...  "
      ]
     },
     "execution_count": 47,
     "metadata": {},
     "output_type": "execute_result"
    }
   ],
   "source": [
    "df.head(1)"
   ]
  },
  {
   "cell_type": "code",
   "execution_count": null,
   "id": "e250f3d8",
   "metadata": {},
   "outputs": [],
   "source": []
  },
  {
   "cell_type": "markdown",
   "id": "60eae223",
   "metadata": {},
   "source": [
    "## Lemmatizing"
   ]
  },
  {
   "cell_type": "code",
   "execution_count": 48,
   "id": "2c9463ff",
   "metadata": {},
   "outputs": [],
   "source": [
    "#!pip install spacy\n",
    "#!python -m spacy download de_core_news_sm"
   ]
  },
  {
   "cell_type": "code",
   "execution_count": 49,
   "id": "96de1341",
   "metadata": {},
   "outputs": [],
   "source": [
    "import spacy\n",
    "nlp = spacy.load('de_core_news_sm')"
   ]
  },
  {
   "cell_type": "code",
   "execution_count": 50,
   "id": "73fb5d7e",
   "metadata": {},
   "outputs": [],
   "source": [
    "def spacy_lemmatizing_tfidf(text):\n",
    "    \"\"\"\n",
    "    Function \"returns the text with each word in its basic form\n",
    "    \n",
    "    :param text: string with original words\n",
    "    :return: string with lemma words\n",
    "    \"\"\"\n",
    "    doc = nlp(text)\n",
    "    filtered_words = [word.lemma_ for word in doc]\n",
    "    text = ' '.join(filtered_words)\n",
    "    \n",
    "    return text"
   ]
  },
  {
   "cell_type": "code",
   "execution_count": 51,
   "id": "600c7e99",
   "metadata": {},
   "outputs": [],
   "source": [
    "df['clean_text_tfidf_spacy_lemma'] = df['clean_text_tfidf'].map(lambda x: spacy_lemmatizing_tfidf(x))"
   ]
  },
  {
   "cell_type": "code",
   "execution_count": 52,
   "id": "8e4fe1e7",
   "metadata": {},
   "outputs": [
    {
     "data": {
      "text/html": [
       "<div>\n",
       "<style scoped>\n",
       "    .dataframe tbody tr th:only-of-type {\n",
       "        vertical-align: middle;\n",
       "    }\n",
       "\n",
       "    .dataframe tbody tr th {\n",
       "        vertical-align: top;\n",
       "    }\n",
       "\n",
       "    .dataframe thead th {\n",
       "        text-align: right;\n",
       "    }\n",
       "</style>\n",
       "<table border=\"1\" class=\"dataframe\">\n",
       "  <thead>\n",
       "    <tr style=\"text-align: right;\">\n",
       "      <th></th>\n",
       "      <th>created_at</th>\n",
       "      <th>primary_category</th>\n",
       "      <th>share_url</th>\n",
       "      <th>row_id</th>\n",
       "      <th>tags</th>\n",
       "      <th>title</th>\n",
       "      <th>text</th>\n",
       "      <th>type</th>\n",
       "      <th>clean_text_tfidf</th>\n",
       "      <th>clean_text_tfidf_nltk_stem</th>\n",
       "      <th>clean_text_tfidf_spacy_lemma</th>\n",
       "    </tr>\n",
       "  </thead>\n",
       "  <tbody>\n",
       "    <tr>\n",
       "      <th>0</th>\n",
       "      <td>2021-08-05 09:44:27.368478+00:00</td>\n",
       "      <td>deutschland-welt</td>\n",
       "      <td>https://www.br.de/nachrichten/deutschland-welt/amtseinfuehrung-im-iran-neuer-praesident-alte-probleme,SfClRxG</td>\n",
       "      <td>SfClRxG</td>\n",
       "      <td>[Ayatollah Ali Khamenei, Amtseinführung, Iran, Präsident, Ebrahim Raisi]</td>\n",
       "      <td>Amtseinführung im Iran: Neuer Präsident, alte Probleme</td>\n",
       "      <td>&amp;quot;Hier ist Bayern&amp;quot;: Der BR24 Newsletter informiert Sie immer montags bis freitags zum Feierabend über das Wichtigste vom Tag auf einen Blick – kompakt und direkt in Ihrem privaten Postfach. Hier geht’s zur Anmeldung! Schon am Dienstag gab es im Iran eine erste feierliche Zeremonie: Der Oberste Führer Ayatollah Ali Khamenei bestätigte die Wahl von Ebrahim Raisi. Alle trugen Maske, saßen vorbildlich in ausreichendem Abstand zueinander. Und Raisi bedauerte: &amp;quot;Höflichkeit und Respek...</td>\n",
       "      <td>TEXT</td>\n",
       "      <td>Bayern BR Newsletter informiert immer montags freitags Feierabend Wichtigste Tag Blick kompakt direkt privaten Postfach gehts Anmeldung Schon Dienstag gab Iran erste feierliche Zeremonie Oberste Führer Ayatollah Ali Khamenei bestätigte Wahl Ebrahim Raisi trugen Maske saßen vorbildlich ausreichendem Abstand zueinander Raisi bedauerte Höflichkeit Respekt eigentlich verlangen gesegnete Hand Obersten Revolutionsführers küsse nachdem Amt bestätigt aktuellen Situation wurde Erfolg genommenCorona P...</td>\n",
       "      <td>Bay br Newslett informiert imm montag freitag Feierab Wichtig Tag Blick kompakt direkt privat Postfach geht Anmeld Schon Dienstag gab Iran erst feierlich Zeremoni Oberst Fuhr Ayatollah Ali Khamenei bestatigt Wahl Ebrahim Raisi trug Mask sass vorbild ausreich Abstand zueinand Raisi bedauert Hoflich Respekt eigent verlang gesegnet Hand Oberst Revolutionsfuhr kuss nachd Amt bestatigt aktuell Situation wurd Erfolg genommencorona problemeerst Anfang Woch erreich taglich coronaneuinfektion Iran ne...</td>\n",
       "      <td>Bayer BR Newsletter informieren immer montags freitags Feierabend wichtig Tag Blick kompakt direkt privat Postfach gehts Anmeldung Schon Dienstag geben Iran erste feierlich Zeremonie Oberst Führer Ayatollah Ali Khamenei bestätigen Wahl Ebrahim Raisi tragen Maske sitzen vorbildlich ausreichend Abstand zueinander Raisi bedauern Höflichkeit Respekt eigentlich verlangen gesegnet Hand Oberste Revolutionsführers küsse nachdem Amt bestätigen aktuell Situation werden Erfolg genommenCorona ProblemeEr...</td>\n",
       "    </tr>\n",
       "  </tbody>\n",
       "</table>\n",
       "</div>"
      ],
      "text/plain": [
       "                        created_at  primary_category  \\\n",
       "0 2021-08-05 09:44:27.368478+00:00  deutschland-welt   \n",
       "\n",
       "                                                                                                       share_url  \\\n",
       "0  https://www.br.de/nachrichten/deutschland-welt/amtseinfuehrung-im-iran-neuer-praesident-alte-probleme,SfClRxG   \n",
       "\n",
       "    row_id  \\\n",
       "0  SfClRxG   \n",
       "\n",
       "                                                                       tags  \\\n",
       "0  [Ayatollah Ali Khamenei, Amtseinführung, Iran, Präsident, Ebrahim Raisi]   \n",
       "\n",
       "                                                    title  \\\n",
       "0  Amtseinführung im Iran: Neuer Präsident, alte Probleme   \n",
       "\n",
       "                                                                                                                                                                                                                                                                                                                                                                                                                                                                                                                  text  \\\n",
       "0  &quot;Hier ist Bayern&quot;: Der BR24 Newsletter informiert Sie immer montags bis freitags zum Feierabend über das Wichtigste vom Tag auf einen Blick – kompakt und direkt in Ihrem privaten Postfach. Hier geht’s zur Anmeldung! Schon am Dienstag gab es im Iran eine erste feierliche Zeremonie: Der Oberste Führer Ayatollah Ali Khamenei bestätigte die Wahl von Ebrahim Raisi. Alle trugen Maske, saßen vorbildlich in ausreichendem Abstand zueinander. Und Raisi bedauerte: &quot;Höflichkeit und Respek...   \n",
       "\n",
       "   type  \\\n",
       "0  TEXT   \n",
       "\n",
       "                                                                                                                                                                                                                                                                                                                                                                                                                                                                                                      clean_text_tfidf  \\\n",
       "0  Bayern BR Newsletter informiert immer montags freitags Feierabend Wichtigste Tag Blick kompakt direkt privaten Postfach gehts Anmeldung Schon Dienstag gab Iran erste feierliche Zeremonie Oberste Führer Ayatollah Ali Khamenei bestätigte Wahl Ebrahim Raisi trugen Maske saßen vorbildlich ausreichendem Abstand zueinander Raisi bedauerte Höflichkeit Respekt eigentlich verlangen gesegnete Hand Obersten Revolutionsführers küsse nachdem Amt bestätigt aktuellen Situation wurde Erfolg genommenCorona P...   \n",
       "\n",
       "                                                                                                                                                                                                                                                                                                                                                                                                                                                                                            clean_text_tfidf_nltk_stem  \\\n",
       "0  Bay br Newslett informiert imm montag freitag Feierab Wichtig Tag Blick kompakt direkt privat Postfach geht Anmeld Schon Dienstag gab Iran erst feierlich Zeremoni Oberst Fuhr Ayatollah Ali Khamenei bestatigt Wahl Ebrahim Raisi trug Mask sass vorbild ausreich Abstand zueinand Raisi bedauert Hoflich Respekt eigent verlang gesegnet Hand Oberst Revolutionsfuhr kuss nachd Amt bestatigt aktuell Situation wurd Erfolg genommencorona problemeerst Anfang Woch erreich taglich coronaneuinfektion Iran ne...   \n",
       "\n",
       "                                                                                                                                                                                                                                                                                                                                                                                                                                                                                          clean_text_tfidf_spacy_lemma  \n",
       "0  Bayer BR Newsletter informieren immer montags freitags Feierabend wichtig Tag Blick kompakt direkt privat Postfach gehts Anmeldung Schon Dienstag geben Iran erste feierlich Zeremonie Oberst Führer Ayatollah Ali Khamenei bestätigen Wahl Ebrahim Raisi tragen Maske sitzen vorbildlich ausreichend Abstand zueinander Raisi bedauern Höflichkeit Respekt eigentlich verlangen gesegnet Hand Oberste Revolutionsführers küsse nachdem Amt bestätigen aktuell Situation werden Erfolg genommenCorona ProblemeEr...  "
      ]
     },
     "execution_count": 52,
     "metadata": {},
     "output_type": "execute_result"
    }
   ],
   "source": [
    "df.head(1)"
   ]
  },
  {
   "cell_type": "code",
   "execution_count": null,
   "id": "d7a3f043",
   "metadata": {},
   "outputs": [],
   "source": []
  },
  {
   "cell_type": "markdown",
   "id": "8a9eba1a",
   "metadata": {},
   "source": [
    "## Comparison of unprocessed, stemmed and lemmatized text"
   ]
  },
  {
   "cell_type": "code",
   "execution_count": 53,
   "id": "37a1a771",
   "metadata": {},
   "outputs": [],
   "source": [
    "pd.set_option('display.max_colwidth', 1000)"
   ]
  },
  {
   "cell_type": "code",
   "execution_count": 54,
   "id": "d2608a68",
   "metadata": {},
   "outputs": [
    {
     "data": {
      "text/plain": [
       "'&quot;Hier ist Bayern&quot;: Der BR24 Newsletter informiert Sie immer montags bis freitags zum Feierabend über das Wichtigste vom Tag auf einen Blick – kompakt und direkt in Ihrem privaten Postfach. Hier geht’s zur Anmeldung! Schon am Dienstag gab es im Iran eine erste feierliche Zeremonie: Der Oberste Führer Ayatollah Ali Khamenei bestätigte die Wahl von Ebrahim Raisi. Alle trugen Maske, saßen vorbildlich in ausreichendem Abstand zueinander. Und Raisi bedauerte: &quot;Höflichkeit und Respekt würden es jetzt eigentlich verlangen, dass ich die gesegnete Hand des Obersten Revolutionsführers küsse, nachdem er mich im Amt bestätigt hat. Aber in der aktuellen Situation wurde mir dieser Erfolg genommen.&quot;Corona nur eines der ProblemeErst Anfang der Woche erreichen die täglichen Corona-Neuinfektionen im Iran einen neuen Höchststand mit fast 40.000 Fällen. Insgesamt sind seit Beginn der Pandemie nach offiziellen Angaben mehr als 90.000 Menschen im Zusammenhang mit dem Virus gestorben. Rais'"
      ]
     },
     "execution_count": 54,
     "metadata": {},
     "output_type": "execute_result"
    }
   ],
   "source": [
    "df.iloc[0].text[:1000]"
   ]
  },
  {
   "cell_type": "markdown",
   "id": "bfeacd9e",
   "metadata": {},
   "source": [
    "#### "
   ]
  },
  {
   "cell_type": "code",
   "execution_count": 55,
   "id": "8cd13d7b",
   "metadata": {},
   "outputs": [
    {
     "data": {
      "text/plain": [
       "'Bay br Newslett informiert imm montag freitag Feierab Wichtig Tag Blick kompakt direkt privat Postfach geht Anmeld Schon Dienstag gab Iran erst feierlich Zeremoni Oberst Fuhr Ayatollah Ali Khamenei bestatigt Wahl Ebrahim Raisi trug Mask sass vorbild ausreich Abstand zueinand Raisi bedauert Hoflich Respekt eigent verlang gesegnet Hand Oberst Revolutionsfuhr kuss nachd Amt bestatigt aktuell Situation wurd Erfolg genommencorona problemeerst Anfang Woch erreich taglich coronaneuinfektion Iran neu Hochststand fast Fall Insgesamt seit Beginn Pandemi offiziell Angab mehr Mensch Zusammenhang Virus gestorb Raisi ubernimmt Land extr schwer Phas dabei Corona viel gross Problem Wirtschaftskris anzugeh durft ganz oben Aufgabenzettel steh Raisi erklart gibt dringend Problem den Regier konfrontiert Frag Haushaltsdefizit Frag Kapitalmarkt Stabilitat Aktienmarkt Frag Inflationsbekampf Frag Corona Burg beunruhigt Frag Wass Strom viel Bedurfnis Mensch habenstimm angespannt vergang Monat kam Khuzestan Pro'"
      ]
     },
     "execution_count": 55,
     "metadata": {},
     "output_type": "execute_result"
    }
   ],
   "source": [
    "df.iloc[0].clean_text_tfidf_nltk_stem[:1000]"
   ]
  },
  {
   "cell_type": "code",
   "execution_count": 56,
   "id": "7ce66f0c",
   "metadata": {},
   "outputs": [
    {
     "data": {
      "text/plain": [
       "'Bayer BR Newsletter informieren immer montags freitags Feierabend wichtig Tag Blick kompakt direkt privat Postfach gehts Anmeldung Schon Dienstag geben Iran erste feierlich Zeremonie Oberst Führer Ayatollah Ali Khamenei bestätigen Wahl Ebrahim Raisi tragen Maske sitzen vorbildlich ausreichend Abstand zueinander Raisi bedauern Höflichkeit Respekt eigentlich verlangen gesegnet Hand Oberste Revolutionsführers küsse nachdem Amt bestätigen aktuell Situation werden Erfolg genommenCorona ProblemeErst Anfang Woche erreichen täglich CoronaNeuinfektionen Iran neu Höchststand fast Fall Insgesamt seit Beginn Pandemie offiziell Angabe mehr Mensch Zusammenhang Virus sterben Raisi übernehmen Land extrem schwer Phase dabei Corona viel groß Problem Wirtschaftskrise angehen dürfen ganz oben Aufgabenzettel stehen Raisi erklären geben dringend Problem der Regierung konfrontieren Frage Haushaltsdefizits Frage Kapitalmarktes Stabilität Aktienmarktes Frage Inflationsbekämpfung Frage Corona Bürger beunruhigen'"
      ]
     },
     "execution_count": 56,
     "metadata": {},
     "output_type": "execute_result"
    }
   ],
   "source": [
    "df.iloc[0].clean_text_tfidf_spacy_lemma[:1000]"
   ]
  },
  {
   "cell_type": "code",
   "execution_count": null,
   "id": "efc8e48b",
   "metadata": {},
   "outputs": [],
   "source": []
  },
  {
   "cell_type": "markdown",
   "id": "36638e79",
   "metadata": {},
   "source": [
    "# Preprocessing for Embeddings"
   ]
  },
  {
   "cell_type": "code",
   "execution_count": 57,
   "id": "096435a3",
   "metadata": {},
   "outputs": [],
   "source": [
    "def preprocessing_embeddings(text):\n",
    "    \"\"\"\n",
    "    1. Replace HTML tags with punctuations\n",
    "    2. Remove digits in given text as they would interfere with tf-idf\n",
    "    3. Remove single characters in given text\n",
    "    4. Reduce multiple spaces in given text to single space\n",
    "    \n",
    "    :param text: raw string\n",
    "    :return: preprocessed string\n",
    "    \"\"\"\n",
    "    \n",
    "    # 1. Removes punctuations and '&quote;' in given text\n",
    "    text = text.replace(\"&quot;\", '\\\"')\n",
    "    text = text.replace(\"’\", '')\n",
    "    text = text.replace(\"–\", '')\n",
    "    \n",
    "    # 2. Remove digits in given text\n",
    "    RE_DIGITS = re.compile(r\"\\d+\", re.IGNORECASE)\n",
    "    text = re.sub(RE_DIGITS, \" \", str(text))\n",
    "    \n",
    "    # 3. Remove single characters in given text\n",
    "    RE_SINGLECHAR = re.compile(r\"\\b[A-Za-z]\\b\", re.IGNORECASE)\n",
    "    text = re.sub(RE_SINGLECHAR, \" \", str(text))\n",
    "    \n",
    "    # 4. Reduce multiple spaces in given text to single space\n",
    "    RE_WSPACE = re.compile(r\"\\s+\", re.IGNORECASE)\n",
    "    text = re.sub(RE_WSPACE, \" \", str(text))\n",
    "    \n",
    "    return text"
   ]
  },
  {
   "cell_type": "code",
   "execution_count": 58,
   "id": "fcb19885",
   "metadata": {},
   "outputs": [],
   "source": [
    "df['clean_text'] = df['text'].map(lambda x: preprocessing_embeddings(x))"
   ]
  },
  {
   "cell_type": "code",
   "execution_count": 59,
   "id": "c7bcd2f8",
   "metadata": {},
   "outputs": [],
   "source": [
    "pd.set_option('display.max_colwidth', 100)"
   ]
  },
  {
   "cell_type": "code",
   "execution_count": 60,
   "id": "ee4023fd",
   "metadata": {},
   "outputs": [
    {
     "data": {
      "text/html": [
       "<div>\n",
       "<style scoped>\n",
       "    .dataframe tbody tr th:only-of-type {\n",
       "        vertical-align: middle;\n",
       "    }\n",
       "\n",
       "    .dataframe tbody tr th {\n",
       "        vertical-align: top;\n",
       "    }\n",
       "\n",
       "    .dataframe thead th {\n",
       "        text-align: right;\n",
       "    }\n",
       "</style>\n",
       "<table border=\"1\" class=\"dataframe\">\n",
       "  <thead>\n",
       "    <tr style=\"text-align: right;\">\n",
       "      <th></th>\n",
       "      <th>created_at</th>\n",
       "      <th>primary_category</th>\n",
       "      <th>share_url</th>\n",
       "      <th>row_id</th>\n",
       "      <th>tags</th>\n",
       "      <th>title</th>\n",
       "      <th>text</th>\n",
       "      <th>type</th>\n",
       "      <th>clean_text_tfidf</th>\n",
       "      <th>clean_text_tfidf_nltk_stem</th>\n",
       "      <th>clean_text_tfidf_spacy_lemma</th>\n",
       "      <th>clean_text</th>\n",
       "    </tr>\n",
       "  </thead>\n",
       "  <tbody>\n",
       "    <tr>\n",
       "      <th>0</th>\n",
       "      <td>2021-08-05 09:44:27.368478+00:00</td>\n",
       "      <td>deutschland-welt</td>\n",
       "      <td>https://www.br.de/nachrichten/deutschland-welt/amtseinfuehrung-im-iran-neuer-praesident-alte-pro...</td>\n",
       "      <td>SfClRxG</td>\n",
       "      <td>[Ayatollah Ali Khamenei, Amtseinführung, Iran, Präsident, Ebrahim Raisi]</td>\n",
       "      <td>Amtseinführung im Iran: Neuer Präsident, alte Probleme</td>\n",
       "      <td>&amp;quot;Hier ist Bayern&amp;quot;: Der BR24 Newsletter informiert Sie immer montags bis freitags zum F...</td>\n",
       "      <td>TEXT</td>\n",
       "      <td>Bayern BR Newsletter informiert immer montags freitags Feierabend Wichtigste Tag Blick kompakt d...</td>\n",
       "      <td>Bay br Newslett informiert imm montag freitag Feierab Wichtig Tag Blick kompakt direkt privat Po...</td>\n",
       "      <td>Bayer BR Newsletter informieren immer montags freitags Feierabend wichtig Tag Blick kompakt dire...</td>\n",
       "      <td>\"Hier ist Bayern\": Der BR Newsletter informiert Sie immer montags bis freitags zum Feierabend üb...</td>\n",
       "    </tr>\n",
       "  </tbody>\n",
       "</table>\n",
       "</div>"
      ],
      "text/plain": [
       "                        created_at  primary_category  \\\n",
       "0 2021-08-05 09:44:27.368478+00:00  deutschland-welt   \n",
       "\n",
       "                                                                                             share_url  \\\n",
       "0  https://www.br.de/nachrichten/deutschland-welt/amtseinfuehrung-im-iran-neuer-praesident-alte-pro...   \n",
       "\n",
       "    row_id  \\\n",
       "0  SfClRxG   \n",
       "\n",
       "                                                                       tags  \\\n",
       "0  [Ayatollah Ali Khamenei, Amtseinführung, Iran, Präsident, Ebrahim Raisi]   \n",
       "\n",
       "                                                    title  \\\n",
       "0  Amtseinführung im Iran: Neuer Präsident, alte Probleme   \n",
       "\n",
       "                                                                                                  text  \\\n",
       "0  &quot;Hier ist Bayern&quot;: Der BR24 Newsletter informiert Sie immer montags bis freitags zum F...   \n",
       "\n",
       "   type  \\\n",
       "0  TEXT   \n",
       "\n",
       "                                                                                      clean_text_tfidf  \\\n",
       "0  Bayern BR Newsletter informiert immer montags freitags Feierabend Wichtigste Tag Blick kompakt d...   \n",
       "\n",
       "                                                                            clean_text_tfidf_nltk_stem  \\\n",
       "0  Bay br Newslett informiert imm montag freitag Feierab Wichtig Tag Blick kompakt direkt privat Po...   \n",
       "\n",
       "                                                                          clean_text_tfidf_spacy_lemma  \\\n",
       "0  Bayer BR Newsletter informieren immer montags freitags Feierabend wichtig Tag Blick kompakt dire...   \n",
       "\n",
       "                                                                                            clean_text  \n",
       "0  \"Hier ist Bayern\": Der BR Newsletter informiert Sie immer montags bis freitags zum Feierabend üb...  "
      ]
     },
     "execution_count": 60,
     "metadata": {},
     "output_type": "execute_result"
    }
   ],
   "source": [
    "df.head(1)"
   ]
  },
  {
   "cell_type": "code",
   "execution_count": 61,
   "id": "0fa85679",
   "metadata": {},
   "outputs": [
    {
     "data": {
      "text/plain": [
       "'\"Hier ist Bayern\": Der BR Newsletter informiert Sie immer montags bis freitags zum Feierabend über das Wichtigste vom Tag auf einen Blick kompakt und direkt in Ihrem privaten Postfach. Hier gehts zur Anmeldung! Schon am Dienstag gab es im Iran eine erste feierliche Zeremonie: Der Oberste Führer Ayatollah Ali Khamenei bestätigte die Wahl von Ebrahim Raisi. Alle trugen Maske, saßen vorbildlich in ausreichendem Abstand zueinander. Und Raisi bedauerte: \"Höflichkeit und Respekt würden es jetzt eigentlich verlangen, dass ich die gesegnete Hand des Obersten Revolutionsführers küsse, nachdem er mich im Amt bestätigt hat. Aber in der aktuellen Situation wurde mir dieser Erfolg genommen.\"Corona nur eines der ProblemeErst Anfang der Woche erreichen die täglichen Corona-Neuinfektionen im Iran einen neuen Höchststand mit fast . Fällen. Insgesamt sind seit Beginn der Pandemie nach offiziellen Angaben mehr als . Menschen im Zusammenhang mit dem Virus gestorben. Raisi übernimmt das Land in einer extre'"
      ]
     },
     "execution_count": 61,
     "metadata": {},
     "output_type": "execute_result"
    }
   ],
   "source": [
    "df.iloc[0].clean_text[:1000]"
   ]
  },
  {
   "cell_type": "code",
   "execution_count": null,
   "id": "538f79b9",
   "metadata": {},
   "outputs": [],
   "source": []
  },
  {
   "cell_type": "markdown",
   "id": "5dd7c137",
   "metadata": {},
   "source": [
    "# Data Analysis"
   ]
  },
  {
   "cell_type": "markdown",
   "id": "6ea76693",
   "metadata": {},
   "source": [
    "## 1. Text Analysis"
   ]
  },
  {
   "cell_type": "markdown",
   "id": "659baf82",
   "metadata": {},
   "source": [
    "## Number of Words"
   ]
  },
  {
   "cell_type": "code",
   "execution_count": 62,
   "id": "7428d1c2",
   "metadata": {},
   "outputs": [],
   "source": [
    "number_of_words = df['clean_text'].str.split().apply(len)"
   ]
  },
  {
   "cell_type": "code",
   "execution_count": 63,
   "id": "da9f55b7",
   "metadata": {},
   "outputs": [
    {
     "data": {
      "text/plain": [
       "count    45997.000000\n",
       "mean       491.128704\n",
       "std       1668.683145\n",
       "min          0.000000\n",
       "25%        221.000000\n",
       "50%        336.000000\n",
       "75%        512.000000\n",
       "max      77876.000000\n",
       "Name: clean_text, dtype: float64"
      ]
     },
     "execution_count": 63,
     "metadata": {},
     "output_type": "execute_result"
    }
   ],
   "source": [
    "number_of_words.describe()"
   ]
  },
  {
   "cell_type": "code",
   "execution_count": 64,
   "id": "67dbed1b",
   "metadata": {},
   "outputs": [
    {
     "data": {
      "text/plain": [
       "False"
      ]
     },
     "execution_count": 64,
     "metadata": {},
     "output_type": "execute_result"
    }
   ],
   "source": [
    "df['clean_text'].isnull().any().any()"
   ]
  },
  {
   "cell_type": "code",
   "execution_count": 65,
   "id": "380e2829",
   "metadata": {},
   "outputs": [],
   "source": [
    "number_of_words_counts = number_of_words.value_counts().sort_index()"
   ]
  },
  {
   "cell_type": "code",
   "execution_count": 66,
   "id": "859eabbd",
   "metadata": {},
   "outputs": [
    {
     "data": {
      "text/plain": [
       "0     6\n",
       "1     2\n",
       "3     9\n",
       "5     2\n",
       "6     3\n",
       "8     2\n",
       "9     3\n",
       "10    3\n",
       "18    1\n",
       "20    1\n",
       "Name: clean_text, dtype: int64"
      ]
     },
     "execution_count": 66,
     "metadata": {},
     "output_type": "execute_result"
    }
   ],
   "source": [
    "number_of_words_counts[:10]"
   ]
  },
  {
   "cell_type": "code",
   "execution_count": 67,
   "id": "6d572f14",
   "metadata": {},
   "outputs": [],
   "source": [
    "# 6 rows with 0 words and total 30 rows with less than or equal to 10 words"
   ]
  },
  {
   "cell_type": "code",
   "execution_count": null,
   "id": "ffa3bb38",
   "metadata": {},
   "outputs": [],
   "source": []
  },
  {
   "cell_type": "markdown",
   "id": "c475bfe3",
   "metadata": {},
   "source": [
    "## 2. Tag Analysis"
   ]
  },
  {
   "cell_type": "markdown",
   "id": "34d516ff",
   "metadata": {},
   "source": [
    "## a. Tag Statistics"
   ]
  },
  {
   "cell_type": "code",
   "execution_count": 68,
   "id": "c272928a",
   "metadata": {},
   "outputs": [],
   "source": [
    "tags = df['tags'].apply(pd.Series).stack()"
   ]
  },
  {
   "cell_type": "code",
   "execution_count": 69,
   "id": "1e005b54",
   "metadata": {},
   "outputs": [
    {
     "name": "stdout",
     "output_type": "stream",
     "text": [
      "318758\n",
      "40066\n"
     ]
    }
   ],
   "source": [
    "print(len(tags))\n",
    "print(len(tags.unique()))"
   ]
  },
  {
   "cell_type": "code",
   "execution_count": null,
   "id": "0e51b848",
   "metadata": {},
   "outputs": [],
   "source": []
  },
  {
   "cell_type": "markdown",
   "id": "f3f06198",
   "metadata": {},
   "source": [
    "## b. Tag Occurrences"
   ]
  },
  {
   "cell_type": "code",
   "execution_count": 70,
   "id": "453f5517",
   "metadata": {},
   "outputs": [],
   "source": [
    "c = dict(Counter(tags))\n",
    "c = dict(sorted(c.items(), key=lambda x: x[1], reverse=True))"
   ]
  },
  {
   "cell_type": "code",
   "execution_count": 71,
   "id": "81aa037c",
   "metadata": {},
   "outputs": [
    {
     "data": {
      "text/plain": [
       "('Corona-Schnelltest', 41)"
      ]
     },
     "execution_count": 71,
     "metadata": {},
     "output_type": "execute_result"
    }
   ],
   "source": [
    "list(c.items())[999]"
   ]
  },
  {
   "cell_type": "code",
   "execution_count": 72,
   "id": "b1eae301",
   "metadata": {},
   "outputs": [
    {
     "data": {
      "text/plain": [
       "('Todesfälle', 78)"
      ]
     },
     "execution_count": 72,
     "metadata": {},
     "output_type": "execute_result"
    }
   ],
   "source": [
    "list(c.items())[499]"
   ]
  },
  {
   "cell_type": "code",
   "execution_count": 73,
   "id": "d9157e1a",
   "metadata": {},
   "outputs": [
    {
     "data": {
      "text/plain": [
       "('Freie Wähler', 311)"
      ]
     },
     "execution_count": 73,
     "metadata": {},
     "output_type": "execute_result"
    }
   ],
   "source": [
    "list(c.items())[99]"
   ]
  },
  {
   "cell_type": "code",
   "execution_count": 74,
   "id": "16a314e8",
   "metadata": {},
   "outputs": [
    {
     "data": {
      "text/plain": [
       "('Coronavirus', 9955)"
      ]
     },
     "execution_count": 74,
     "metadata": {},
     "output_type": "execute_result"
    }
   ],
   "source": [
    "list(c.items())[0]"
   ]
  },
  {
   "cell_type": "code",
   "execution_count": 75,
   "id": "12d58762",
   "metadata": {},
   "outputs": [],
   "source": [
    "tag_occurrences = dict(list(c.items())[:100])"
   ]
  },
  {
   "cell_type": "code",
   "execution_count": 76,
   "id": "7d6c020b",
   "metadata": {},
   "outputs": [
    {
     "data": {
      "text/plain": [
       "{'Coronavirus': 9955,\n",
       " 'Oberbayern': 6353,\n",
       " 'Corona': 5834,\n",
       " 'Mittelfranken': 4398,\n",
       " 'Unterfranken': 3783,\n",
       " 'Polizei': 3712,\n",
       " 'Oberfranken': 3637,\n",
       " 'Niederbayern': 3464,\n",
       " 'Schwaben': 3107,\n",
       " 'Oberpfalz': 3082,\n",
       " 'Börse': 2722,\n",
       " 'Aktien': 2686,\n",
       " 'Fußball': 2526,\n",
       " 'DAX': 2455,\n",
       " 'Euro': 2283,\n",
       " 'Nürnberg': 1504,\n",
       " 'Corona-Krise': 1402,\n",
       " 'Covid-19': 1336,\n",
       " 'München': 1284,\n",
       " 'Pandemie': 1107,\n",
       " 'Markus Söder': 1055,\n",
       " 'Lockdown': 1002,\n",
       " 'USA': 939,\n",
       " 'Bayern': 926,\n",
       " 'Coronakrise': 890,\n",
       " 'Gesundheit': 870,\n",
       " 'Feuerwehr': 854,\n",
       " 'Unfall': 844,\n",
       " 'Wirtschaft': 839,\n",
       " 'FC Bayern München': 818,\n",
       " 'Corona-Pandemie': 818,\n",
       " 'Schule': 812,\n",
       " 'Regensburg': 792,\n",
       " 'Würzburg': 765,\n",
       " 'CSU': 750,\n",
       " 'Impfung': 685,\n",
       " 'Donald Trump': 620,\n",
       " 'Verkehr': 612,\n",
       " 'Bundesliga': 607,\n",
       " 'Prozess': 600,\n",
       " 'Augsburg': 588,\n",
       " 'Wintersport': 585,\n",
       " 'Religion': 577,\n",
       " 'Tourismus': 573,\n",
       " 'Kirche': 563,\n",
       " 'SARS-CoV-2': 549,\n",
       " 'Dow Jones': 549,\n",
       " 'Kultur': 541,\n",
       " 'Tiere': 514,\n",
       " 'Brand': 499,\n",
       " 'Maskenpflicht': 492,\n",
       " 'Landwirtschaft': 489,\n",
       " 'Kinder': 484,\n",
       " 'EU': 479,\n",
       " '7-Tage-Inzidenz': 476,\n",
       " 'Klimawandel': 474,\n",
       " 'Angela Merkel': 464,\n",
       " 'Justiz': 448,\n",
       " 'Medizin': 439,\n",
       " 'SPD': 437,\n",
       " 'Bamberg': 436,\n",
       " '3. Liga': 429,\n",
       " '2. Bundesliga': 427,\n",
       " 'Umwelt': 424,\n",
       " 'Impfstoff': 423,\n",
       " 'Corona-Maßnahmen': 404,\n",
       " 'Urlaub': 404,\n",
       " 'Forschung': 399,\n",
       " 'Corona-Test': 387,\n",
       " 'Kino': 372,\n",
       " 'Bayreuth': 370,\n",
       " 'Corona-Impfungen': 369,\n",
       " 'Demonstration': 369,\n",
       " ' Mittelfranken': 367,\n",
       " 'China': 365,\n",
       " 'RKI': 358,\n",
       " 'Sport': 355,\n",
       " 'Gastronomie': 355,\n",
       " 'Nikkei': 354,\n",
       " 'Basketball': 351,\n",
       " 'Polizeimeldung': 349,\n",
       " 'Hof': 348,\n",
       " 'Musik': 345,\n",
       " 'Kunst': 344,\n",
       " 'Wirecard': 335,\n",
       " 'Joe Biden': 334,\n",
       " 'Klimaschutz': 330,\n",
       " 'Wissenschaft': 328,\n",
       " 'Erlangen': 327,\n",
       " 'Corona-Impfstoff': 320,\n",
       " 'Quarantäne': 320,\n",
       " 'Bundestagswahl': 318,\n",
       " 'Konjunktur': 318,\n",
       " 'Einzelhandel': 317,\n",
       " 'Grüne': 315,\n",
       " 'Passau': 315,\n",
       " 'Rundschau': 313,\n",
       " 'Katholische Kirche': 312,\n",
       " 'Jens Spahn': 311,\n",
       " 'Freie Wähler': 311}"
      ]
     },
     "execution_count": 76,
     "metadata": {},
     "output_type": "execute_result"
    }
   ],
   "source": [
    "tag_occurrences"
   ]
  },
  {
   "cell_type": "code",
   "execution_count": 77,
   "id": "ac64273c",
   "metadata": {},
   "outputs": [
    {
     "data": {
      "image/png": "[encoded data removed]",
      "text/plain": [
       "<Figure size 1440x360 with 1 Axes>"
      ]
     },
     "metadata": {
      "needs_background": "light"
     },
     "output_type": "display_data"
    }
   ],
   "source": [
    "plt.figure(figsize=(20, 5))\n",
    "plt.bar(tag_occurrences.keys(), tag_occurrences.values())\n",
    "x = list(range(0, 100))\n",
    "ax1 = plt.subplot()\n",
    "ax1.set_xticks(x)\n",
    "ax1.set_xticklabels(tag_occurrences, rotation=90)\n",
    "plt.xlabel(\"Top 100 used tags\")\n",
    "plt.ylabel(\"Frequency of use\")\n",
    "plt.savefig('tag_freq_100.png')"
   ]
  },
  {
   "cell_type": "code",
   "execution_count": 78,
   "id": "1c8cfe89",
   "metadata": {},
   "outputs": [],
   "source": [
    "tag_occurrences_count = pd.Series(c.values()).value_counts()"
   ]
  },
  {
   "cell_type": "code",
   "execution_count": 79,
   "id": "95e4b28a",
   "metadata": {},
   "outputs": [
    {
     "data": {
      "text/plain": [
       "count      326.000000\n",
       "mean       122.901840\n",
       "std       1289.491426\n",
       "min          1.000000\n",
       "25%          1.000000\n",
       "50%          2.000000\n",
       "75%          7.000000\n",
       "max      22303.000000\n",
       "dtype: float64"
      ]
     },
     "execution_count": 79,
     "metadata": {},
     "output_type": "execute_result"
    }
   ],
   "source": [
    "tag_occurrences_count.describe()"
   ]
  },
  {
   "cell_type": "code",
   "execution_count": null,
   "id": "5b6e7e98",
   "metadata": {},
   "outputs": [],
   "source": []
  },
  {
   "cell_type": "markdown",
   "id": "ea7397f8",
   "metadata": {},
   "source": [
    "## c. Tag Counts per article"
   ]
  },
  {
   "cell_type": "code",
   "execution_count": 80,
   "id": "8f5bd943",
   "metadata": {},
   "outputs": [
    {
     "data": {
      "image/png": "[encoded data removed]",
      "text/plain": [
       "<Figure size 432x288 with 1 Axes>"
      ]
     },
     "metadata": {
      "needs_background": "light"
     },
     "output_type": "display_data"
    }
   ],
   "source": [
    "plt.ylabel(\"Number of articles\")\n",
    "df.groupby(df['tags'].str.len()).row_id.count().plot.bar()\n",
    "plt.xlabel(\"Tag Count per article\")\n",
    "plt.savefig('tag_count.png')"
   ]
  },
  {
   "cell_type": "code",
   "execution_count": 81,
   "id": "8c4fc6d0",
   "metadata": {},
   "outputs": [
    {
     "data": {
      "text/plain": [
       "163"
      ]
     },
     "execution_count": 81,
     "metadata": {},
     "output_type": "execute_result"
    }
   ],
   "source": [
    "len(df[df['tags'].str.len()==0])"
   ]
  },
  {
   "cell_type": "code",
   "execution_count": null,
   "id": "d3c54243",
   "metadata": {},
   "outputs": [],
   "source": []
  },
  {
   "cell_type": "markdown",
   "id": "5b1e1f40",
   "metadata": {},
   "source": [
    "## d. Tag length"
   ]
  },
  {
   "cell_type": "code",
   "execution_count": 82,
   "id": "57baf8b0",
   "metadata": {},
   "outputs": [
    {
     "data": {
      "text/plain": [
       "array(['Ayatollah Ali Khamenei', 'Amtseinführung', 'Iran', ...,\n",
       "       'Verantwortungseigentum', 'Aussehen', 'plastische Chirurgie'],\n",
       "      dtype=object)"
      ]
     },
     "execution_count": 82,
     "metadata": {},
     "output_type": "execute_result"
    }
   ],
   "source": [
    "tags.unique()"
   ]
  },
  {
   "cell_type": "code",
   "execution_count": 83,
   "id": "92ca486c",
   "metadata": {},
   "outputs": [],
   "source": [
    "tag_words = [len(x.split()) for x in tags.unique()]"
   ]
  },
  {
   "cell_type": "code",
   "execution_count": 84,
   "id": "2ceee398",
   "metadata": {},
   "outputs": [],
   "source": [
    "x,y = zip(*sorted(dict(Counter(tag_words)).items()))"
   ]
  },
  {
   "cell_type": "code",
   "execution_count": 85,
   "id": "e8661613",
   "metadata": {},
   "outputs": [
    {
     "data": {
      "image/png": "[encoded data removed]",
      "text/plain": [
       "<Figure size 432x288 with 1 Axes>"
      ]
     },
     "metadata": {
      "needs_background": "light"
     },
     "output_type": "display_data"
    },
    {
     "data": {
      "text/plain": [
       "<Figure size 432x288 with 0 Axes>"
      ]
     },
     "metadata": {},
     "output_type": "display_data"
    }
   ],
   "source": [
    "plt.bar(x,y)\n",
    "for x,y in zip(x,y):\n",
    "    label = \"{}\".format(y)\n",
    "    plt.annotate(label, (x,y), textcoords=\"offset points\", xytext=(0,4), ha='center')\n",
    "plt.xlabel(\"Number of words in tags\")\n",
    "plt.ylabel(\"Frequency\")\n",
    "plt.show()\n",
    "plt.savefig('number_of_words_in_tags.png')"
   ]
  },
  {
   "cell_type": "code",
   "execution_count": null,
   "id": "4ccef96a",
   "metadata": {},
   "outputs": [],
   "source": []
  },
  {
   "cell_type": "markdown",
   "id": "0cfedb13",
   "metadata": {},
   "source": [
    "### Extremely long tags"
   ]
  },
  {
   "cell_type": "code",
   "execution_count": 86,
   "id": "7c82a8ea",
   "metadata": {},
   "outputs": [],
   "source": [
    "flat_tags = [item for sublist in df['tags'] for item in sublist]"
   ]
  },
  {
   "cell_type": "code",
   "execution_count": 87,
   "id": "37c52530",
   "metadata": {},
   "outputs": [
    {
     "name": "stdout",
     "output_type": "stream",
     "text": [
      "Als Hitler das rosa Kaninchen stahl  -  6  words - occurs in  3  articles\n",
      "Institut für Theologische Zoologie  -  4  words - occurs in  1  articles\n",
      "Amt für Kultur und Freizeit  -  5  words - occurs in  1  articles\n",
      "Für eine Hand voll Dollar  -  5  words - occurs in  1  articles\n",
      "Warte mein Land, warte  -  4  words - occurs in  1  articles\n",
      "Ferdis Jazz Puppet Universe  -  4  words - occurs in  1  articles\n",
      "Zurück in die Zukunft  -  4  words - occurs in  1  articles\n",
      "Lola auf der Erbse  -  4  words - occurs in  1  articles\n",
      "Ursula von der Leyen  -  4  words - occurs in  71  articles\n",
      "Landkreis Mühldorf am Inn  -  4  words - occurs in  22  articles\n",
      "Blinded By The Light  -  4  words - occurs in  1  articles\n",
      "Bayerische Akademie der Schönen Künste  -  5  words - occurs in  3  articles\n",
      "Berufsverband der Kinder- und Jugendärzte  -  5  words - occurs in  2  articles\n",
      "Theater für die Jugend  -  4  words - occurs in  2  articles\n",
      "Eine ganz heiße Nummer 2.0  -  5  words - occurs in  1  articles\n",
      "Lauf an der Pegnitz  -  4  words - occurs in  24  articles\n",
      "Weltorganisation für Meteorologie (WMO)  -  4  words - occurs in  1  articles\n",
      "E-T-A Elektrotechnische Apparate GmbH  -  4  words - occurs in  1  articles\n",
      "Nationales Centrum für Tumorerkrankungen  -  4  words - occurs in  1  articles\n",
      "Congstar 9 Cent Flex  -  4  words - occurs in  1  articles\n",
      "Mit dem Rad zur Arbeit  -  5  words - occurs in  3  articles\n",
      "Bündnis klimaneutrales Allgäu 2030  -  4  words - occurs in  1  articles\n",
      "Wörth an der Isar  -  4  words - occurs in  5  articles\n",
      "Good Souls Better Angels  -  4  words - occurs in  1  articles\n",
      "Großer Preis von Spanien  -  4  words - occurs in  1  articles\n",
      "Das Ende der Wahrheit  -  4  words - occurs in  1  articles\n",
      "Auf Expedition in der Arktis  -  5  words - occurs in  1  articles\n",
      "Magischer Ort des Frankenweins  -  4  words - occurs in  1  articles\n",
      "Ein Licht zwischen den Wolken  -  5  words - occurs in  1  articles\n",
      "Bund für Umwelt und Naturschutz  -  5  words - occurs in  4  articles\n",
      "Bundesanstalt für Arbeitsschutz und Arbeitsmedizin  -  5  words - occurs in  1  articles\n",
      "Bundesministerium für wirtschaftliche Zusammenarbeit  -  4  words - occurs in  1  articles\n",
      "Look into the future  -  4  words - occurs in  1  articles\n",
      "\"Die Gesellschaft des Zorns\"  -  4  words - occurs in  1  articles\n",
      "Rock’n’Roll Hall of Fame  -  4  words - occurs in  1  articles\n",
      "Die schönsten Jahre eines Lebens  -  5  words - occurs in  2  articles\n",
      "Landesamt für Gesundheit und Lebensmittelsicherheit  -  5  words - occurs in  45  articles\n",
      "Hollywood Foreign Press Association  -  4  words - occurs in  3  articles\n",
      "Landesverband der Sinti und Roma  -  5  words - occurs in  1  articles\n",
      "Schloss der Herzöge der Bretagne  -  5  words - occurs in  1  articles\n",
      "Alexander Van der Bellen  -  4  words - occurs in  2  articles\n",
      "Drei Engel für Charlie  -  4  words - occurs in  1  articles\n",
      "Eine Kindheit im Nahen Osten  -  5  words - occurs in  1  articles\n",
      "Bayerischer Hotel- und Gaststättenverband  -  4  words - occurs in  11  articles\n",
      "Philipp Franz von Siebold  -  4  words - occurs in  1  articles\n",
      "Kommando Spezialkräfte der Bundeswehr  -  4  words - occurs in  1  articles\n",
      "IHK Nürnberg für Mittelfranken  -  4  words - occurs in  2  articles\n",
      "120 Tage von Sodom  -  4  words - occurs in  1  articles\n",
      "The Great Green Wall  -  4  words - occurs in  2  articles\n",
      "Flughafen München, Stellenabbau, Oberbayern  -  4  words - occurs in  1  articles\n",
      "Höchstadt an der Aisch  -  4  words - occurs in  6  articles\n",
      "Tag der Deutschen Einheit  -  4  words - occurs in  6  articles\n",
      "Marcelo Rebelo de Sousa  -  4  words - occurs in  2  articles\n",
      "theater... und so fort  -  4  words - occurs in  1  articles\n",
      "The Last of Us  -  4  words - occurs in  1  articles\n",
      "Wolfram von Eschenbach Preis  -  4  words - occurs in  1  articles\n",
      "Ich an meiner Seite  -  4  words - occurs in  1  articles\n",
      "Bund der Steuerzahler in Bayern  -  5  words - occurs in  1  articles\n",
      "Vorwurf des Aufrufs zu strafbaren Handlungen  -  6  words - occurs in  1  articles\n",
      "Inzidenz-unabhängige Öffnung der Schulen  -  4  words - occurs in  1  articles\n",
      "Fonds zur Bekämpfung von Korruption  -  5  words - occurs in  1  articles\n",
      "Zentralkomitee der deutschen Katholiken  -  4  words - occurs in  1  articles\n",
      "Verdienstorden der Bundesrepublik Deutschland  -  4  words - occurs in  2  articles\n",
      "Initiative Syria not safe  -  4  words - occurs in  1  articles\n",
      "Kunst im öffentlichen Raum  -  4  words - occurs in  1  articles\n",
      "Girls' and Boy's Day  -  4  words - occurs in  3  articles\n",
      "Die Epoche des Menschen  -  4  words - occurs in  1  articles\n",
      "Mein Ende. Dein Anfang.  -  4  words - occurs in  2  articles\n",
      "Der Flohmarkt von Madame Claire  -  5  words - occurs in  1  articles\n",
      "Neustadt an der Aisch  -  4  words - occurs in  12  articles\n",
      "Neuhaus an der Pegnitz  -  4  words - occurs in  2  articles\n",
      "Großer Preis von Österreich  -  4  words - occurs in  1  articles\n",
      "Drei Haselnüsse für Aschenbrödel  -  4  words - occurs in  1  articles\n",
      "Ein ganz gewöhnlicher Held  -  4  words - occurs in  1  articles\n",
      "Der Preis des Menschen  -  4  words - occurs in  1  articles\n",
      "Deutsches Zentrum für Luft- und Raumfahrt  -  6  words - occurs in  3  articles\n",
      "MAN Truck & Bus  -  4  words - occurs in  2  articles\n",
      "Einweisung in die Psychiatrie  -  4  words - occurs in  1  articles\n",
      "Lassie - Eine abenteuerliche Reise  -  5  words - occurs in  1  articles\n",
      "Der Barbier von Sevilla  -  4  words - occurs in  1  articles\n",
      "Regionalverband Tourismus Oberbayern München  -  4  words - occurs in  1  articles\n",
      "Deutsches Zentrum für Luft und Raumfahrt  -  6  words - occurs in  1  articles\n",
      "Kliniken an der Paar  -  4  words - occurs in  3  articles\n",
      "geografischer Mittelpunkt der EU  -  4  words - occurs in  2  articles\n",
      "Bundeszentrale für politische Bildung  -  4  words - occurs in  1  articles\n",
      "Barfuß im Herzen der Stadt  -  5  words - occurs in  1  articles\n",
      "Deutscher Berufsverband für Pflegeberufe  -  4  words - occurs in  1  articles\n",
      "Challenge Women Virtual Run  -  4  words - occurs in  1  articles\n",
      "Die Blume von Hawaii  -  4  words - occurs in  1  articles\n",
      "Vigil - Die Totenwache  -  4  words - occurs in  1  articles\n",
      "schwimmen lernen für alle  -  4  words - occurs in  1  articles\n",
      "Sex and the City  -  4  words - occurs in  1  articles\n",
      "Neues aus der Welt  -  4  words - occurs in  1  articles\n",
      "Boeing 737 Max 8  -  4  words - occurs in  1  articles\n",
      "Die fantastische Reise des Dr. Dolittle  -  6  words - occurs in  1  articles\n",
      "Bayerischer Lehrer- und Lehrerinnenverband  -  4  words - occurs in  9  articles\n",
      "Neu auf DVD und Blu-ray  -  5  words - occurs in  39  articles\n",
      "Weißt du, was ich meine?  -  5  words - occurs in  1  articles\n",
      "Neustadt an der Donau  -  4  words - occurs in  17  articles\n",
      "DBB Beamtenbund und Tarifunion  -  4  words - occurs in  1  articles\n",
      "Michael van der Veen  -  4  words - occurs in  1  articles\n",
      "The Whale and the Raven  -  5  words - occurs in  1  articles\n",
      "Sag du es mir  -  4  words - occurs in  1  articles\n",
      "Der See der wilden Gänse  -  5  words - occurs in  2  articles\n",
      "Gudrun und Johannes Berschneider.  -  4  words - occurs in  1  articles\n",
      "Gesellschaft für christlich-jüdische Zusammenarbeit  -  4  words - occurs in  1  articles\n",
      "Kitzel. Genealogie einer menschlichen Empfindung  -  5  words - occurs in  1  articles\n",
      "1. FC Schweinfurt 05  -  4  words - occurs in  32  articles\n",
      "Woman of the Week  -  4  words - occurs in  2  articles\n",
      "Bayerischer Industrie- und Handelskammertag  -  4  words - occurs in  3  articles\n",
      "Garching an der Alz  -  4  words - occurs in  1  articles\n",
      "Vom Main zur Zenn  -  4  words - occurs in  1  articles\n",
      "Plant for the Planet  -  4  words - occurs in  1  articles\n",
      "Wir haben es satt  -  4  words - occurs in  1  articles\n",
      "Deutsches Patent- und Markenamt  -  4  words - occurs in  1  articles\n",
      "\"The Euphoria of Being\"  -  4  words - occurs in  1  articles\n",
      "Rock im Park 2022  -  4  words - occurs in  1  articles\n",
      "Nicht tot zu kriegen  -  4  words - occurs in  1  articles\n",
      "Women of the week  -  4  words - occurs in  1  articles\n",
      "\"Na gut dann nicht\"  -  4  words - occurs in  1  articles\n",
      "Fragen Sie Dr. Ruth  -  4  words - occurs in  2  articles\n",
      "Kinder erobern die Straßen  -  4  words - occurs in  1  articles\n",
      "Unwort des Jahres 2019  -  4  words - occurs in  1  articles\n",
      "Bayerische Landesanstalt für Landwirtschaft  -  4  words - occurs in  3  articles\n",
      "Rambo 2 - Der Auftrag  -  5  words - occurs in  1  articles\n",
      "Mahnmal zur Erinnerung an die Bücherverbrennung  -  6  words - occurs in  1  articles\n",
      "Sozialdienst muslimischer Frauen e.V.  -  4  words - occurs in  1  articles\n",
      "Zombieland: Doppelt hält besser  -  4  words - occurs in  1  articles\n",
      "Keine Zeit zu sterben  -  4  words - occurs in  2  articles\n",
      "Altenmarkt an der Alz  -  4  words - occurs in  1  articles\n",
      "Caspar, Melchior und Balthasar  -  4  words - occurs in  1  articles\n",
      "Abendspaziergang mit dem Kater  -  4  words - occurs in  1  articles\n",
      "System of a Down  -  4  words - occurs in  1  articles\n",
      "Landesanstalt für Wein- und Gartenbau  -  5  words - occurs in  3  articles\n",
      "Die Sendung mit der Maus  -  5  words - occurs in  1  articles\n",
      "Such Pretty Forks In The Road  -  6  words - occurs in  1  articles\n",
      "Astrid Lindgren Memorial Award  -  4  words - occurs in  1  articles\n",
      "Klinikum Nürnberg Service GmbH  -  4  words - occurs in  2  articles\n",
      "Hohenberg an der Eger  -  4  words - occurs in  5  articles\n",
      "Geheimnisvolle Figuren von Hammelburg  -  4  words - occurs in  1  articles\n",
      "Deutsche Gesellschaft für Ernährung  -  4  words - occurs in  1  articles\n",
      "Midway - Für die Freiheit  -  5  words - occurs in  1  articles\n",
      "Gesellschaft für Kinder- und Jugendmedizin  -  5  words - occurs in  1  articles\n",
      "Haus der Kulturen und Religionen  -  5  words - occurs in  1  articles\n",
      "Ich glaube, ich hatte es schon  -  6  words - occurs in  1  articles\n",
      "Unterbringung in der Psychiatrie  -  4  words - occurs in  1  articles\n",
      "Tag der offenen Moschee  -  4  words - occurs in  1  articles\n",
      "Kino für die Ohren  -  4  words - occurs in  1  articles\n",
      "Pick Me Up Off The Floor  -  6  words - occurs in  1  articles\n",
      "St. Peter und Paul  -  4  words - occurs in  1  articles\n",
      "IQ - Wissenschaft und Forschung  -  5  words - occurs in  8  articles\n",
      "\"Mit Schirm, Charme und Melone\"  -  5  words - occurs in  1  articles\n",
      "Weihnachten mit Franz Zander  -  4  words - occurs in  1  articles\n",
      "Das Kapital im 21. Jahrnundert  -  5  words - occurs in  1  articles\n",
      "Glory Days of Rock 'n' Roll  -  6  words - occurs in  1  articles\n",
      "Präsident des Bayerischen Landkreistages  -  4  words - occurs in  1  articles\n",
      "A Very Chilly Christmas  -  4  words - occurs in  1  articles\n",
      "Woche für das Leben  -  4  words - occurs in  1  articles\n",
      "Theater an der Rott  -  4  words - occurs in  2  articles\n",
      "Charlotte van den Broeck  -  4  words - occurs in  1  articles\n",
      "Transit Art Festival Rosenheim  -  4  words - occurs in  1  articles\n",
      "Gesetz für digitale Dienste  -  4  words - occurs in  3  articles\n",
      "Museum für konkrete Kunst und Design  -  6  words - occurs in  1  articles\n",
      "AG Wirtschaft und Energie  -  4  words - occurs in  1  articles\n",
      "Bayerische Pflanze des Jahres  -  4  words - occurs in  1  articles\n",
      "Bund für Umwelt und Naturschutz Deutschland  -  6  words - occurs in  1  articles\n",
      "Die Götter von Molenbeek  -  4  words - occurs in  1  articles\n",
      "The Marksman - Der Scharfschütze  -  5  words - occurs in  1  articles\n",
      "Bill & Melinda Gates-Foundation  -  4  words - occurs in  1  articles\n",
      "Im Netz der Versuchung  -  4  words - occurs in  1  articles\n",
      "sexueller Missbrauch von Kindern  -  4  words - occurs in  3  articles\n",
      "Das Fenster zum Hof  -  4  words - occurs in  1  articles\n",
      "Deutsche Gesellschaft für Christliche Kunst  -  5  words - occurs in  1  articles\n",
      "FIS Sommer Grand Prix  -  4  words - occurs in  1  articles\n",
      "Kool And The Gang  -  4  words - occurs in  1  articles\n",
      "Umweltpreis der Bayerischen Landesstiftung  -  4  words - occurs in  1  articles\n",
      "Vereinigung der Bürger- und Dorfläden  -  5  words - occurs in  1  articles\n",
      "Blue Donkey & Red Elephant  -  5  words - occurs in  1  articles\n",
      "When We Were Kings  -  4  words - occurs in  1  articles\n",
      "Der unverhoffte Charme des Geldes  -  5  words - occurs in  1  articles\n",
      "Tag des offenen Denkmals  -  4  words - occurs in  4  articles\n",
      "Friedenspreis des Deutschen Buchhandels  -  4  words - occurs in  2  articles\n",
      "Der Boden unter den Füßen  -  5  words - occurs in  1  articles\n",
      "Mann spricht Frau mit Kind an  -  6  words - occurs in  1  articles\n",
      "\"Der größte Kapitän aller Zeiten\"  -  5  words - occurs in  1  articles\n",
      "Oberfränkisches Wort des Jahres  -  4  words - occurs in  2  articles\n",
      "\"Amish Quilts meet Modern Art“  -  5  words - occurs in  1  articles\n",
      "Landkreis Neustadt a.d.Aisch-Bad Windsheim  -  4  words - occurs in  1  articles\n",
      "Jonas Kaufmann - Mein Wien  -  5  words - occurs in  1  articles\n",
      "Friedrich Georg von Preußen  -  4  words - occurs in  1  articles\n",
      "Gott existiert ihr Name ist Petrunya  -  6  words - occurs in  2  articles\n",
      "Deutsche Preis für Online Kommunikationr  -  5  words - occurs in  1  articles\n",
      "Kevin – Allein zu Haus  -  5  words - occurs in  1  articles\n",
      "Sternstunden, Trauer, Kinder, Stiftung, Soziales  -  5  words - occurs in  1  articles\n",
      "Jumanji 2: The Next Level  -  5  words - occurs in  2  articles\n",
      " Sulzdorf an der Lederhecke  -  4  words - occurs in  1  articles\n",
      "Die Wiederkehr der Konformität  -  4  words - occurs in  1  articles\n",
      "Ludwig Mies van der Rohe  -  5  words - occurs in  1  articles\n",
      "Intgernationaler Tag gegen Gewalt an Frauen  -  6  words - occurs in  1  articles\n",
      "Sendung mit der Maus  -  4  words - occurs in  4  articles\n",
      "Max und die wilde Sieben  -  5  words - occurs in  1  articles\n",
      "\"Der Mann im roten Rock\"  -  5  words - occurs in  1  articles\n",
      "Bundesministerium für Ernährung und Landwirtschaft  -  5  words - occurs in  2  articles\n",
      "Brot für die Welt  -  4  words - occurs in  2  articles\n",
      "Bayerisches Landesamt für Denkmalpflege  -  4  words - occurs in  1  articles\n",
      "Parkinson - Na und  -  4  words - occurs in  1  articles\n",
      "Nurejew - The White Crow  -  5  words - occurs in  1  articles\n",
      "Auf der Couch in Tunis  -  5  words - occurs in  3  articles\n",
      "Edition Of Contemporary Music  -  4  words - occurs in  1  articles\n",
      "Bundesverband der Deutschen Industrie  -  4  words - occurs in  4  articles\n",
      "Börsenverein des Deutschen Buchhandels  -  4  words - occurs in  11  articles\n",
      "Bundesverband der Grünen Wirtschaft  -  4  words - occurs in  1  articles\n",
      "Im Westen nichts Neues  -  4  words - occurs in  1  articles\n",
      "Bundesamt für Migration und Flüchtlinge  -  5  words - occurs in  10  articles\n",
      "Black To The Future  -  4  words - occurs in  1  articles\n",
      "Das Buch eines Sommers  -  4  words - occurs in  1  articles\n",
      "Kultur vor dem Fenster  -  4  words - occurs in  1  articles\n",
      "Medizinischer Dienst der Krankenkassen  -  4  words - occurs in  1  articles\n",
      "Einkünfte aus Vermietung und Verpachtung  -  5  words - occurs in  1  articles\n",
      "Bank für internationalen Zahlungsausgleich  -  4  words - occurs in  1  articles\n",
      "Taufkirchen an der Vils  -  4  words - occurs in  2  articles\n",
      "Jean Seberg - Against All Enemies  -  6  words - occurs in  1  articles\n",
      "Universität für Theater- und Filmkunst  -  5  words - occurs in  1  articles\n",
      "\"Die Menschheit in Erstaunen versetzen\"  -  5  words - occurs in  1  articles\n",
      "Pieces of a Woman  -  4  words - occurs in  2  articles\n",
      "Internationale Musikbegegnungsstätte des Bezirks Oberfranken  -  5  words - occurs in  1  articles\n",
      "Ernst Ulrich von Weizsäcker  -  4  words - occurs in  1  articles\n",
      "The Laundromat - Die Geldwäscherei  -  5  words - occurs in  1  articles\n",
      "B5 Interview der Woche  -  4  words - occurs in  9  articles\n",
      "Prinz Mohammed bin Salman  -  4  words - occurs in  1  articles\n",
      "Georg Friedrich Prinz von Preußen  -  5  words - occurs in  2  articles\n",
      "Anders essen - Das Experiment  -  5  words - occurs in  1  articles\n",
      "Never Gonna Snow Again  -  4  words - occurs in  1  articles\n",
      "I can see clearly now  -  5  words - occurs in  1  articles\n",
      "Bayern 3 Start-up Challenge  -  4  words - occurs in  2  articles\n",
      "Zwischen uns die Mauer  -  4  words - occurs in  1  articles\n",
      "Marc Andre ter Stegen  -  4  words - occurs in  1  articles\n",
      "König Otto I. von Bayern  -  5  words - occurs in  1  articles\n",
      "100 Tage im Amt  -  4  words - occurs in  4  articles\n",
      "sul voto per posta  -  4  words - occurs in  1  articles\n",
      "Pfaffenhofen an der Ilm  -  4  words - occurs in  3  articles\n",
      "Pas de la Casa  -  4  words - occurs in  1  articles\n",
      "Schwedische Akademie der Wissenschaften  -  4  words - occurs in  3  articles\n",
      "The Kindness of Strangers  -  4  words - occurs in  2  articles\n",
      "Bayerische Metall- und Elektro-Industrie  -  4  words - occurs in  1  articles\n",
      "Landkreis Neumarkt in der Oberpfalz  -  5  words - occurs in  15  articles\n",
      "Deutschen Gesellschaft für Neurologie  -  4  words - occurs in  1  articles\n",
      "Rottenburg an der Laaber  -  4  words - occurs in  1  articles\n",
      "300 Euro pro Kind  -  4  words - occurs in  1  articles\n",
      "Rothenburg ob der Tauber  -  4  words - occurs in  32  articles\n",
      "Startup Media Tel Aviv  -  4  words - occurs in  1  articles\n",
      "Hochschule für Angewandte Wissenschaften Hof  -  5  words - occurs in  1  articles\n",
      "Red Bull Fußball- und Eishockeyakademie  -  5  words - occurs in  1  articles\n",
      "BR24 Thema des Tages  -  4  words - occurs in  1  articles\n",
      "Gedenktag Ende Zweiter Weltkrieg  -  4  words - occurs in  1  articles\n",
      "Und wer nimmt den Hund  -  5  words - occurs in  1  articles\n",
      "Verband der Automobilindustrie (VDA)  -  4  words - occurs in  2  articles\n",
      "Vereinigung für Intensiv- und Notfallmedizin  -  5  words - occurs in  1  articles\n",
      "Vereinigung der Pflegenden in Bayern  -  5  words - occurs in  2  articles\n",
      "Noris Nordic Walking 2020  -  4  words - occurs in  1  articles\n",
      "Meine wunderbar seltsame Woche mit Tess  -  6  words - occurs in  2  articles\n",
      "Peoples Bank of China  -  4  words - occurs in  1  articles\n",
      "Der Prinz aus Zamunda 2  -  5  words - occurs in  1  articles\n",
      "Aung San Suu Kyi  -  4  words - occurs in  6  articles\n",
      "Hunter And The Dog Star  -  5  words - occurs in  1  articles\n",
      "Neumarkt in der Oberpfalz  -  4  words - occurs in  33  articles\n",
      "Internationale Wochen gegen Rassismus  -  4  words - occurs in  1  articles\n",
      "Appell für freie Debattenräume  -  4  words - occurs in  1  articles\n",
      "Janis: Little Girl Blue  -  4  words - occurs in  1  articles\n",
      "Über den Dächern von Nizza  -  5  words - occurs in  1  articles\n",
      "Internationaler Tag des Ehrenamts  -  4  words - occurs in  2  articles\n",
      "Zentrum für Politische Schönhheit  -  4  words - occurs in  1  articles\n",
      "Verband der pyrotechnischen Industrie  -  4  words - occurs in  1  articles\n",
      "Schön, dass es dich gibt!  -  5  words - occurs in  1  articles\n",
      "Der Araber von morgen  -  4  words - occurs in  2  articles\n",
      "Der Riss beginnt im Inneren  -  5  words - occurs in  1  articles\n",
      "Alfred Hitchcock Classics Collection  -  4  words - occurs in  1  articles\n",
      "Redwitz an der Rodach  -  4  words - occurs in  3  articles\n",
      "Frauen in der Kirche  -  4  words - occurs in  2  articles\n",
      "Komödie im Bayerischen Hof  -  4  words - occurs in  5  articles\n",
      "Das Zimmer meines Sohnes  -  4  words - occurs in  1  articles\n",
      "Verbrechen gegen die Menschlichkeit  -  4  words - occurs in  2  articles\n",
      "Unhinged - Ausser Kontrolle  -  4  words - occurs in  1  articles\n",
      "FC Bayern München II  -  4  words - occurs in  89  articles\n",
      "Hey, hey, hey, Taxi!  -  4  words - occurs in  1  articles\n",
      "Runder Tisch gegen Rechts  -  4  words - occurs in  1  articles\n",
      "Loop of the Nibelung  -  4  words - occurs in  1  articles\n",
      "Tel Aviv On Fire  -  4  words - occurs in  1  articles\n",
      "Mein Leben mit Amanda  -  4  words - occurs in  1  articles\n",
      "See der wilden Gänse  -  4  words - occurs in  1  articles\n",
      "Amt für Ernährung, Landwirtschaft und Forsten  -  6  words - occurs in  1  articles\n",
      "Europäisches Archiv der Stimmen  -  4  words - occurs in  1  articles\n",
      "Schweinfurter Aktionsbündnis gegen Atomkraft  -  4  words - occurs in  2  articles\n",
      "Internationale Buchmesse Abu Dhabi  -  4  words - occurs in  1  articles\n",
      "\"Sommer in der Stadt\"  -  4  words - occurs in  7  articles\n",
      "They Shall Not Grow Old  -  5  words - occurs in  1  articles\n",
      "We call it a Klassiker  -  5  words - occurs in  19  articles\n",
      "Hide the Pain Harold  -  4  words - occurs in  1  articles\n",
      "IHK München und Oberbayern  -  4  words - occurs in  2  articles\n",
      "Deutsche Bahn Netz AG  -  4  words - occurs in  1  articles\n",
      "Die drei Tage des Condor  -  5  words - occurs in  1  articles\n",
      "Bundesministerium für Arbeit und Soziales  -  5  words - occurs in  1  articles\n",
      "The United States Vs. Billie Holiday  -  6  words - occurs in  2  articles\n",
      "Edie Brickell And The New Bohemians  -  6  words - occurs in  1  articles\n",
      "Bundesverband der Deutschen Industrie (BDI)  -  5  words - occurs in  1  articles\n",
      "One Cut of the Dead  -  5  words - occurs in  1  articles\n",
      "Europäischer Gerichtshof für Menschenrechte  -  4  words - occurs in  7  articles\n",
      "1. FFC Turbine Potsdam  -  4  words - occurs in  1  articles\n",
      "Das Wirtshaus im Spessart  -  4  words - occurs in  1  articles\n",
      "Theater \"Salz und Pfeffer\"  -  4  words - occurs in  1  articles\n",
      "Der Schatten des Windes  -  4  words - occurs in  1  articles\n",
      "Der König der Löwen  -  4  words - occurs in  1  articles\n",
      "Ein Becken voller Männer  -  4  words - occurs in  1  articles\n",
      "Bayerisches Landesamt für Gesundheit  -  4  words - occurs in  2  articles\n",
      "Die Frage der Woche  -  4  words - occurs in  38  articles\n",
      "Landkreis Pfaffenhofen an der Ilm  -  5  words - occurs in  2  articles\n",
      "Die Liebe frisst das Leben  -  5  words - occurs in  1  articles\n",
      "Dekadenz und dunkle Träume  -  4  words - occurs in  1  articles\n",
      "Amt für ländliche Entwicklung  -  4  words - occurs in  1  articles\n",
      "Festival für Neue Musik  -  4  words - occurs in  1  articles\n",
      "Der Junge und die Wildgänse  -  5  words - occurs in  1  articles\n",
      "Gefährlicher Eingriff in den Bahnverkehr  -  5  words - occurs in  2  articles\n",
      "Das Land des Lächelns  -  4  words - occurs in  1  articles\n",
      "Neuburg an der Donau  -  4  words - occurs in  18  articles\n",
      "Medien in der Türkei  -  4  words - occurs in  1  articles\n",
      "Landesstelle für nichtstaatliche Museen  -  4  words - occurs in  2  articles\n",
      "Erzdiözese München und Freising  -  4  words - occurs in  7  articles\n",
      " Unabhängige Kommission zur Aufarbeitung sexuellen Kindesmissbrauchs  -  6  words - occurs in  2  articles\n",
      "Zeppelin – das Musical  -  4  words - occurs in  1  articles\n",
      "Internationales Büro für Maß und Gewicht  -  6  words - occurs in  1  articles\n",
      "Sondheim vor der Rhön  -  4  words - occurs in  1  articles\n",
      "Das Wunder von Taipeh  -  4  words - occurs in  1  articles\n",
      "All I Never Wanted  -  4  words - occurs in  2  articles\n",
      "Bundesamt für Bevölkerungsschutz und Katastrophenhilfe  -  5  words - occurs in  3  articles\n",
      "1.700 Jahre jüdisches Leben in Deutschland  -  6  words - occurs in  1  articles\n",
      "Landesbund für Vogelschutz LBV  -  4  words - occurs in  15  articles\n",
      "Meister Eder und sein Pumuck  -  5  words - occurs in  1  articles\n",
      "Der geheime Roman des Monsieur Pick  -  6  words - occurs in  2  articles\n",
      "Verband für Popkultur Bayern  -  4  words - occurs in  1  articles\n",
      "Internationaler Tag gegen Rassismus  -  4  words - occurs in  3  articles\n",
      "B5 Thema des Tages  -  4  words - occurs in  14  articles\n",
      "She s a rose  -  4  words - occurs in  1  articles\n",
      "Master Cheng in Pohjanjung  -  4  words - occurs in  1  articles\n",
      "Awkwafina Is Nora From Queens  -  5  words - occurs in  1  articles\n",
      "Metropolitan Opera New York  -  4  words - occurs in  1  articles\n",
      "Alkohol - Der globale Rausch  -  5  words - occurs in  1  articles\n",
      "Bundesamt für Kartografie und Geodäsie  -  5  words - occurs in  1  articles\n",
      "Gedeckter Tisch und gemachtes Bett  -  5  words - occurs in  1  articles\n",
      "Die Gesellschaft des Zorns  -  4  words - occurs in  1  articles\n",
      "Bündnis gegen Trans- und Homophobie  -  5  words - occurs in  1  articles\n",
      "The Bad and the Beautiful  -  5  words - occurs in  1  articles\n",
      "World Weather Attribution Team  -  4  words - occurs in  1  articles\n",
      "Gesellschaft für deutsche Sprache  -  4  words - occurs in  4  articles\n",
      "Vonovia Immobilien Treuhand (VIT)  -  4  words - occurs in  1  articles\n",
      "Die Chroniken des Aufziehvogels  -  4  words - occurs in  1  articles\n",
      "Porträt einer jungen Frau in Flammen  -  6  words - occurs in  1  articles\n",
      "Fränkisches Weinfest für zuhause  -  4  words - occurs in  1  articles\n",
      "Spider-Man: Far From Home  -  4  words - occurs in  1  articles\n",
      "Vereinigung der Bayerischen Wirtschaft (vbw)  -  5  words - occurs in  6  articles\n",
      "Institut für Biomedizin des Alterns  -  5  words - occurs in  1  articles\n",
      "Look Me Over - Liberace  -  5  words - occurs in  1  articles\n",
      "Der Pate - Teil III  -  5  words - occurs in  1  articles\n",
      "Vom Finden des Glücks  -  4  words - occurs in  1  articles\n",
      "Latte Igel und der magische Wasserstein  -  6  words - occurs in  2  articles\n",
      "Munition aus dem Zweiten Weltkrieg  -  5  words - occurs in  1  articles\n",
      "Rajiv van La Parra  -  4  words - occurs in  1  articles\n",
      "Museen der Stadt Nürnberg  -  4  words - occurs in  1  articles\n",
      "Fast & Furious: Hobbs & Shaw  -  6  words - occurs in  2  articles\n",
      "Ein Leben voller Licht  -  4  words - occurs in  1  articles\n",
      "Marie Curie: Elemente des Lebens  -  5  words - occurs in  1  articles\n",
      "Internationaler Tag gegen Gewalt gegen Frauen  -  6  words - occurs in  2  articles\n",
      "Bayerische Landesanstalt für Gartenbau  -  4  words - occurs in  1  articles\n",
      "Faces for the Names  -  4  words - occurs in  1  articles\n",
      "Albrecht Dürer Airport Nürnberg  -  4  words - occurs in  1  articles\n",
      "Drikung Garchen Institut München  -  4  words - occurs in  1  articles\n",
      "Fränkisches Freilandmuseum Bad Windsheim  -  4  words - occurs in  2  articles\n",
      "Bundesministerium für Migration und Flüchtlinge  -  5  words - occurs in  1  articles\n",
      "\"I May Destroy You\"  -  4  words - occurs in  1  articles\n",
      "Internationale Keramikmuseum in Weiden  -  4  words - occurs in  1  articles\n",
      "Onward - Keine halben Sachen  -  5  words - occurs in  2  articles\n",
      "Landau an der Isar  -  4  words - occurs in  8  articles\n",
      "Weil es ohne uns nicht geht  -  6  words - occurs in  1  articles\n",
      "The Roads Not Taken  -  4  words - occurs in  1  articles\n",
      "Internationale Akademie der Nürnberger Prinzipien  -  5  words - occurs in  1  articles\n",
      "Der Thommy von nebenan  -  4  words - occurs in  1  articles\n",
      "Andrés Manuel López Obrador  -  4  words - occurs in  1  articles\n",
      "International School Augsburg ISA  -  4  words - occurs in  1  articles\n",
      "Medizinischer Dienst der Krankenversicherung  -  4  words - occurs in  1  articles\n",
      "Röthenbach an der Pegnitz  -  4  words - occurs in  4  articles\n",
      "Der Sprung vom Elfenbeinturm  -  4  words - occurs in  1  articles\n",
      "Rambo - First Blood  -  4  words - occurs in  1  articles\n",
      "Pharmazeutische Technologie und Biopharmazie  -  4  words - occurs in  1  articles\n",
      "Wir Kinder vom Bahnhof Zoo  -  5  words - occurs in  2  articles\n",
      "1. FSV Mainz 05  -  4  words - occurs in  7  articles\n",
      "Besser Welt als nie  -  4  words - occurs in  1  articles\n",
      "Sport aus aller Welt  -  4  words - occurs in  1  articles\n",
      "Zentralkomittee der deutschen Katholiken  -  4  words - occurs in  2  articles\n",
      "Kardinal Gerhard Ludwig Müller  -  4  words - occurs in  1  articles\n",
      "Gewerkschaft Nahrung Genuss Gaststätten  -  4  words - occurs in  3  articles\n",
      "Ad Astra - Zu den Sternen  -  6  words - occurs in  1  articles\n",
      "Oh! Pardon Tu Dormais  -  4  words - occurs in  1  articles\n",
      "Durand Jones & The Indications  -  5  words - occurs in  1  articles\n",
      "Marie Curie - Elemente des Lebens  -  6  words - occurs in  2  articles\n",
      "The King of Staten Island  -  5  words - occurs in  3  articles\n",
      "\"Und morgen die ganze Welt\"  -  5  words - occurs in  1  articles\n",
      "Mädchen an den Ball  -  4  words - occurs in  1  articles\n",
      "Israelitische Kultusgemeinde München und Oberbayern  -  5  words - occurs in  3  articles\n",
      "Bill & Melinda Gates Foundation  -  5  words - occurs in  2  articles\n",
      "1. FC Union Berlin  -  4  words - occurs in  14  articles\n",
      "Kirchdorf an der Amper  -  4  words - occurs in  2  articles\n",
      "Tag des inhaftierten Schriftstellers  -  4  words - occurs in  1  articles\n",
      "Shaun das Schaf 2: UFO-Alarm  -  5  words - occurs in  1  articles\n",
      "Und morgen die ganze Welt  -  5  words - occurs in  5  articles\n",
      "Max und die wilde 7  -  5  words - occurs in  1  articles\n",
      "Deutsche Akademie für Sprache und Dichtung  -  6  words - occurs in  1  articles\n",
      "Tout c est bien passe  -  5  words - occurs in  1  articles\n",
      "Der Name der Rose  -  4  words - occurs in  3  articles\n",
      "Erstes Molekül im All  -  4  words - occurs in  1  articles\n",
      "Akademie der Bildenden Künste  -  4  words - occurs in  1  articles\n",
      "Bayerisches Kinder und Jugend Filmfestival  -  5  words - occurs in  1  articles\n",
      "Play It Again Sam  -  4  words - occurs in  1  articles\n",
      "Bayerisches Landesamt für Statistik  -  4  words - occurs in  11  articles\n",
      "Leave No Man Behind  -  4  words - occurs in  1  articles\n",
      "Landesanstalt für Weinbau und Gartenbau  -  5  words - occurs in  9  articles\n",
      "Star Wars - Der Aufstieg Skywalkers  -  6  words - occurs in  1  articles\n",
      "Internationale Tage jüdischer Musik  -  4  words - occurs in  1  articles\n",
      "Herzog Franz von Bayern  -  4  words - occurs in  3  articles\n",
      "Der Clan der Kinder  -  4  words - occurs in  1  articles\n",
      "Bundesamt f. Finanzdienstleistungsaufsicht (BaFin)  -  4  words - occurs in  5  articles\n",
      "Saal an der Donau  -  4  words - occurs in  3  articles\n",
      "Der wunderbare Mr. Rogers  -  4  words - occurs in  2  articles\n",
      "Two and a Half Men  -  5  words - occurs in  1  articles\n",
      "Stadion an der Grünwalder Straße  -  5  words - occurs in  3  articles\n",
      "Internationaler Tag gegen Gewalt an Frauen  -  6  words - occurs in  2  articles\n",
      "Writers in Prison Committee  -  4  words - occurs in  1  articles\n",
      "Neuhof an der Zenn  -  4  words - occurs in  1  articles\n",
      "Ruhstorf an der Rott  -  4  words - occurs in  7  articles\n",
      "Danny aus den Birken  -  4  words - occurs in  2  articles\n",
      "Angst essen Seele auf  -  4  words - occurs in  1  articles\n",
      "Sie spielt mit dem Feuer  -  5  words - occurs in  1  articles\n",
      "Menschen mit internationalem Hintergrund  -  4  words - occurs in  1  articles\n",
      "Blackbird - Eine Familiengeschichte  -  4  words - occurs in  2  articles\n",
      "Landkreis Landsberg am Lech  -  4  words - occurs in  20  articles\n",
      "7 Deaths of Maria Callas  -  5  words - occurs in  1  articles\n",
      "Ike & Tina Turner  -  4  words - occurs in  1  articles\n",
      "Wissenschaftlicher Dienst des Bundestages  -  4  words - occurs in  2  articles\n",
      "Berufliches Schulzentrum Alfons Goppel  -  4  words - occurs in  1  articles\n",
      "Symphonieorchester des Bayerischen Rundfunks  -  4  words - occurs in  6  articles\n",
      "Relic - Dunkles Vermächtnis  -  4  words - occurs in  1  articles\n",
      "Referat für Gesundheit und Umwelt  -  5  words - occurs in  1  articles\n",
      "Bad Neustadt an der Saale  -  5  words - occurs in  7  articles\n",
      "Bach an der Donau  -  4  words - occurs in  1  articles\n",
      "Roy Bianco & Die Abbrunzati Boys  -  6  words - occurs in  1  articles\n",
      "Lindenberg! Mach Dein Ding!  -  4  words - occurs in  1  articles\n",
      "Großer Preis von Ungarn  -  4  words - occurs in  4  articles\n",
      "Münchner Informationszentrum für Männer  -  4  words - occurs in  1  articles\n",
      "Schulen Corona Lehrerverband Herbst  -  4  words - occurs in  1  articles\n",
      "Black Community Foundation Nürnberg  -  4  words - occurs in  1  articles\n",
      "Mein Freund der Terrorist  -  4  words - occurs in  1  articles\n",
      "Bund Naturschutz in Bayern  -  4  words - occurs in  2  articles\n",
      "La Paranza Dei Bambini  -  4  words - occurs in  1  articles\n",
      "Landesamt für Sicherheit in der Informationstechnik  -  6  words - occurs in  1  articles\n",
      "Museum für Konkrete Kunst  -  4  words - occurs in  1  articles\n",
      "Die geheimnisvolle Welt der Wale  -  5  words - occurs in  1  articles\n",
      "Das Blaue vom Himmel  -  4  words - occurs in  1  articles\n",
      "Prinz Harry und Meghan  -  4  words - occurs in  6  articles\n",
      "Klinikum rechts der Isar  -  4  words - occurs in  4  articles\n",
      "Maha Vajiralongkorn Phra Vajiraklaochaoyuhua  -  4  words - occurs in  1  articles\n",
      "Die Blechtrommel - restaurierter Fassung  -  5  words - occurs in  1  articles\n",
      "Neutstadt an der Aisch  -  4  words - occurs in  1  articles\n",
      "Hamster im hinteren Stromgebiet  -  4  words - occurs in  1  articles\n",
      "Eine Frau mit berauschenden Talenten  -  5  words - occurs in  3  articles\n",
      "Dawn of the Dead  -  4  words - occurs in  1  articles\n",
      "Uniklinikum Rechts der Isar  -  4  words - occurs in  1  articles\n",
      "Die Reste meines Lebens  -  4  words - occurs in  1  articles\n",
      "Das geheime Leben der Bäume  -  5  words - occurs in  2  articles\n",
      "Einrichtungen für ältere Menschen  -  4  words - occurs in  1  articles\n",
      "Bayerns Buchhandlung des Jahres  -  4  words - occurs in  1  articles\n",
      "Sheikh Zayed Book Award 2021  -  5  words - occurs in  1  articles\n",
      "Der Glanz der Unbekannten  -  4  words - occurs in  1  articles\n",
      "Bundesvereinigung der Deutschen Arbeitgeberverbände  -  4  words - occurs in  1  articles\n",
      "EHC Red Bull München  -  4  words - occurs in  18  articles\n",
      "Bayerischer Lehrerinnen- und Lehrerverband  -  4  words - occurs in  3  articles\n",
      "Johann Wolfgang von Goethe  -  4  words - occurs in  1  articles\n",
      "Stadtentwässerung und Umweltanalytik Nürnberg  -  4  words - occurs in  1  articles\n",
      "Es gilt das gesprochene Wort  -  5  words - occurs in  1  articles\n",
      "Bayerische \"Pflanze des Jahres 2020\"  -  5  words - occurs in  1  articles\n",
      "Wem gehört die Stadt?  -  4  words - occurs in  17  articles\n",
      "Kunstsammlung Nordrhein-Westfalen K 21  -  4  words - occurs in  1  articles\n",
      "Deutscher Bund für Vogelschutz  -  4  words - occurs in  1  articles\n",
      "Comödie Fürth goes Stadion  -  4  words - occurs in  2  articles\n",
      "Jim Knopf und Lukas der Lokomotivführer  -  6  words - occurs in  1  articles\n",
      "Born In The USA  -  4  words - occurs in  1  articles\n",
      "Weiden in der Oberpfalz  -  4  words - occurs in  9  articles\n",
      "Deutsche Jagd- und Fischereimuseum  -  4  words - occurs in  1  articles\n",
      "Städte gegen die Todesstrafe  -  4  words - occurs in  1  articles\n",
      "Körperschaft des öffentlichen Rechts  -  4  words - occurs in  1  articles\n",
      "Bund der Selbstständigen in Bayern  -  5  words - occurs in  1  articles\n",
      "Schwarzenbach an der Saale  -  4  words - occurs in  15  articles\n",
      "Der weiße Hai 4K  -  4  words - occurs in  1  articles\n",
      "Internationaler Tag der Pressefreiheit  -  4  words - occurs in  1  articles\n",
      "Bundesinstitut für Arzneimittel und Medizinprodukte  -  5  words - occurs in  1  articles\n",
      "Jens Neundorff von Enzberg  -  4  words - occurs in  1  articles\n",
      "Kill Me Today, Tomorrow I'm Sick!  -  6  words - occurs in  1  articles\n",
      "Georg Friedrich Wilhelm Hegel  -  4  words - occurs in  2  articles\n",
      "Tier des Jahres 2020  -  4  words - occurs in  1  articles\n",
      "\"Sign of the Times\"  -  4  words - occurs in  1  articles\n",
      "Baltimore Museum of Arts  -  4  words - occurs in  1  articles\n",
      "Verstoß gegen das Parteiengesetz  -  4  words - occurs in  1  articles\n",
      "\"Warum Overthinking dich zerstört\"  -  4  words - occurs in  1  articles\n",
      "Ich war zuhause aber  -  4  words - occurs in  1  articles\n",
      "Landeszentrale für politische Bildung  -  4  words - occurs in  1  articles\n",
      "Es ist zu Deinem Besten  -  5  words - occurs in  2  articles\n",
      "The Legend of Zelda  -  4  words - occurs in  1  articles\n",
      "1. ASC Nürnberg Süd  -  4  words - occurs in  1  articles\n",
      "Tag des öffentlichen Dienstes  -  4  words - occurs in  1  articles\n",
      "Ostheim vor der Rhön  -  4  words - occurs in  8  articles\n",
      "Ostausschuss der deutschen Wirtschaft  -  4  words - occurs in  1  articles\n",
      "Nürnberger Wochen gegen Rassismus  -  4  words - occurs in  1  articles\n",
      "Und täglich grüßt das Murmeltier  -  5  words - occurs in  2  articles\n",
      "Deutsches Institut für Wirtschaftsforschung  -  4  words - occurs in  5  articles\n",
      "Rough & Rowdy Ways  -  4  words - occurs in  1  articles\n",
      "Demokratie. Eine deutsche Affaire  -  4  words - occurs in  1  articles\n",
      "Landkreis Neustadt an der Aisch-Bad Windsheim  -  6  words - occurs in  19  articles\n",
      "Hieronymus Carl Friedrich von Münchhausen  -  5  words - occurs in  1  articles\n",
      "Verband der Bayerischen Wirtschaft  -  4  words - occurs in  1  articles\n",
      "Lord of the Rings  -  4  words - occurs in  1  articles\n",
      "Einer flog über das Kuckucksnest  -  5  words - occurs in  1  articles\n",
      "The Dead Don't Die  -  4  words - occurs in  1  articles\n",
      "Gefolgt von niemandem, dem du folgst  -  6  words - occurs in  1  articles\n",
      "Sorry We Missed You  -  4  words - occurs in  2  articles\n",
      "GIP Grundig Immobilienpark GmbH  -  4  words - occurs in  1  articles\n",
      "Landkreis Dillingen an der Donau  -  5  words - occurs in  2  articles\n",
      "007 jagt Dr. No  -  4  words - occurs in  1  articles\n",
      "DOK.fest München 2021 @home  -  4  words - occurs in  1  articles\n",
      "In der Lederhosn nach Las Vegas  -  6  words - occurs in  1  articles\n",
      "IG Bergbau Chemie Energie  -  4  words - occurs in  1  articles\n",
      "Der Klavierspieler vom Gare du Nord  -  6  words - occurs in  1  articles\n",
      "Hochschule für angewandtes Management  -  4  words - occurs in  1  articles\n",
      "Großer Preis von Russland  -  4  words - occurs in  2  articles\n",
      "Großer Preis von Bahrain  -  4  words - occurs in  1  articles\n",
      "tätliche Angriff auf Vollstreckungsbeamte  -  4  words - occurs in  1  articles\n",
      "Urlaub auf dem Bauernhof  -  4  words - occurs in  2  articles\n",
      "Wir träumten vom Frühling  -  4  words - occurs in  1  articles\n",
      "Deutsche Akademie für Fußballkultur  -  4  words - occurs in  3  articles\n",
      "One Night in Miami  -  4  words - occurs in  1  articles\n",
      "„Von der politischen Berufung der Philosophie“  -  6  words - occurs in  1  articles\n",
      "Würzburger Versorgungs- und Verkehrs-GmbH  -  4  words - occurs in  2  articles\n",
      "Schwarzbuch des Bundes der Steuerzahler  -  5  words - occurs in  1  articles\n",
      "Akademie für politische Bildung  -  4  words - occurs in  1  articles\n",
      "Adelheid und ihre Mörder  -  4  words - occurs in  1  articles\n",
      "The Peanut Butter Falcon  -  4  words - occurs in  2  articles\n",
      "Karl Philipp von Greiffenclau  -  4  words - occurs in  1  articles\n",
      "Bob - und Rodelbahn  -  4  words - occurs in  1  articles\n",
      "Prof. Dr. Monika Schnitzer  -  4  words - occurs in  1  articles\n",
      "As an Unperfect Actor  -  4  words - occurs in  1  articles\n",
      "Director´s Guild of America  -  4  words - occurs in  1  articles\n",
      "Mord vor 40 Jahren  -  4  words - occurs in  1  articles\n",
      "Save The Date Sessions  -  4  words - occurs in  1  articles\n",
      "Sonne, Mond und Steine  -  4  words - occurs in  1  articles\n",
      "Deutschland sicher im Netz  -  4  words - occurs in  1  articles\n",
      "Unterfränkische Lehrerinnen- und Lehrerverband  -  4  words - occurs in  1  articles\n",
      "Tea With The Dames  -  4  words - occurs in  1  articles\n",
      "Landkreis Neustadt an der Waldnaab  -  5  words - occurs in  64  articles\n",
      "Vereinbarkeit von Familie und Beruf  -  5  words - occurs in  1  articles\n",
      "Deutsche Schutzvereinigung für Wertpapierbesitz  -  4  words - occurs in  2  articles\n",
      "Master Cheng in Pohjanjoki  -  4  words - occurs in  1  articles\n",
      "German Urban Pop Art  -  4  words - occurs in  1  articles\n",
      "Das Erdbeben in Chili  -  4  words - occurs in  1  articles\n",
      "Gewerkschaft Erziehung und Wissenschaft  -  4  words - occurs in  11  articles\n",
      "Deutscher Blinden- und Sehbehindertenverband  -  4  words - occurs in  1  articles\n",
      "gefährlicher Eingriff in Straßenverkehr  -  4  words - occurs in  1  articles\n",
      "Nordheim vor der Rhön  -  4  words - occurs in  1  articles\n",
      "Berliner Akademie der Künste  -  4  words - occurs in  1  articles\n",
      "Metropolitan Museum of Art  -  4  words - occurs in  1  articles\n",
      "Bayerische Prüfstelle für Schutzgüter  -  4  words - occurs in  2  articles\n",
      "The Broken Hearts Gallery  -  4  words - occurs in  1  articles\n",
      "Die obskuren Geschichten eines Zugreisenden  -  5  words - occurs in  1  articles\n",
      "Museum für Angewandte Kunst  -  4  words - occurs in  2  articles\n",
      "Christo und Jeanne-Claude, Paris!  -  4  words - occurs in  1  articles\n",
      "Airbus Defence and Space  -  4  words - occurs in  1  articles\n",
      "20 Jahre Großer Bruder  -  4  words - occurs in  1  articles\n",
      "Claus Schenk Graf von Stauffenberg  -  5  words - occurs in  1  articles\n",
      "Der Prinz von Zamunda  -  4  words - occurs in  1  articles\n",
      "Insitut für Ozeanplastik Recycling  -  4  words - occurs in  1  articles\n",
      "Franz Albrecht zu Oettingen-Spielberg  -  4  words - occurs in  1  articles\n",
      "Gloria von Thurn und Taxis  -  5  words - occurs in  5  articles\n",
      "Georg Freiherr von Waldenfels  -  4  words - occurs in  2  articles\n",
      "The Hate U Give  -  4  words - occurs in  1  articles\n",
      "Drei Tage und ein Leben  -  5  words - occurs in  2  articles\n",
      "Fisch des Jahres 2020  -  4  words - occurs in  1  articles\n",
      "One Night In Miami  -  4  words - occurs in  1  articles\n",
      "\"Aufstehen für die Kunst\"  -  4  words - occurs in  2  articles\n",
      "Kardinal Rainer Maria Woelki  -  4  words - occurs in  4  articles\n",
      "Grund- und Mittelschule Thalmässing  -  4  words - occurs in  1  articles\n",
      "Eschenbach in der Oberpfalz  -  4  words - occurs in  1  articles\n",
      "Geilste Club der Welt  -  4  words - occurs in  1  articles\n",
      "Seliger Pater Rupert Mayer  -  4  words - occurs in  2  articles\n",
      "Ferienregion Nationalpark Bayerischer Wald  -  4  words - occurs in  6  articles\n",
      "Großer Stern des Sports  -  4  words - occurs in  1  articles\n",
      "China Association of Performing Arts  -  5  words - occurs in  1  articles\n",
      "Notes On A Conditional Form  -  5  words - occurs in  1  articles\n",
      "The Movies Serie ARD Mediathek  -  5  words - occurs in  1  articles\n",
      "Landesamt für Maß und Gewicht  -  5  words - occurs in  1  articles\n",
      "Wörth an der Donau  -  4  words - occurs in  7  articles\n",
      "Werkstatt für behinderte Menschen  -  4  words - occurs in  1  articles\n",
      "Evangelische Kirche in Deutschland  -  4  words - occurs in  4  articles\n",
      "Berufsfachschule für Ernährung in Schweinfurt  -  5  words - occurs in  1  articles\n",
      "No time to die  -  4  words - occurs in  1  articles\n",
      "Anna van der Breggen  -  4  words - occurs in  1  articles\n",
      "FC Carl Zeiss Jena  -  4  words - occurs in  8  articles\n",
      "Comedy Wildlife Photography Awards  -  4  words - occurs in  1  articles\n",
      "Zwischen Spessart und Karwendel  -  4  words - occurs in  1  articles\n",
      "Deutsche Lepra- und Tuberkulosehilfe  -  4  words - occurs in  3  articles\n",
      "Ich bin ein japanischer Schriftsteller  -  5  words - occurs in  1  articles\n",
      "Niemals Selten Manchmal Immer  -  4  words - occurs in  2  articles\n",
      "Museum der Bayerischen Geschichte  -  4  words - occurs in  17  articles\n",
      "Dillingen an der Donau  -  4  words - occurs in  1  articles\n",
      "47 Meters Down Uncaged  -  4  words - occurs in  1  articles\n",
      "Das Leben meiner Tochter  -  4  words - occurs in  1  articles\n",
      "Mathieu van der Poel  -  4  words - occurs in  1  articles\n",
      "Bis dann, mein Sohn  -  4  words - occurs in  1  articles\n",
      "\"Die Tochter des Spions\"  -  4  words - occurs in  1  articles\n",
      "Landkreis Neustadt a.d. Waldnaab  -  4  words - occurs in  2  articles\n",
      "Deutscher Hotel- und Gaststättenverband  -  4  words - occurs in  1  articles\n",
      "Bischofsheim an der Rhön  -  4  words - occurs in  1  articles\n",
      "Louis Philippe & The Night Mail  -  6  words - occurs in  1  articles\n",
      "Geschwister Scholl Preis 2020  -  4  words - occurs in  1  articles\n",
      "Der Vetter aus Dingsda  -  4  words - occurs in  1  articles\n",
      "Guiness Buch der Rekorde  -  4  words - occurs in  1  articles\n",
      "Martin Margiela - Mythos der Mode  -  6  words - occurs in  1  articles\n",
      "Bolt Football Holdings Germany  -  4  words - occurs in  2  articles\n",
      "Aber es wird regnen  -  4  words - occurs in  1  articles\n",
      "Amtseinführung von Joe Biden  -  4  words - occurs in  1  articles\n",
      "Maleficent 2: Die Mächte der Finsternis  -  6  words - occurs in  1  articles\n",
      "Deutsche Liga für das Kind  -  5  words - occurs in  1  articles\n",
      "Landesanstalt für Wein- und Gartenbau LWG  -  6  words - occurs in  1  articles\n",
      "He is my brother  -  4  words - occurs in  1  articles\n",
      "Gott, du kannst ein Arsch sein  -  6  words - occurs in  2  articles\n",
      "Men in Black: International  -  4  words - occurs in  1  articles\n",
      "Museum der Bayerischen Gechichte  -  4  words - occurs in  1  articles\n",
      "Jim Knopf und die wilde 13  -  6  words - occurs in  2  articles\n",
      "Dia de los muertos  -  4  words - occurs in  1  articles\n",
      "Arzt auf dem Land  -  4  words - occurs in  1  articles\n",
      "Institut der deutschen Wirtschaft  -  4  words - occurs in  4  articles\n",
      "Staatliches Museum Ägyptischer Kunst  -  4  words - occurs in  1  articles\n",
      "Carl Maria von Weber  -  4  words - occurs in  1  articles\n",
      "Theater in der Josefstadt  -  4  words - occurs in  1  articles\n",
      "Door To The Cosmos  -  4  words - occurs in  1  articles\n",
      "Deutsches Zentrum für Immunerkrankung  -  4  words - occurs in  1  articles\n",
      "Sag Du es mir  -  4  words - occurs in  1  articles\n",
      "Tommaso und der Tanz der Geister  -  6  words - occurs in  2  articles\n",
      "Deutscher Städte- und Gemeindebund  -  4  words - occurs in  8  articles\n",
      "von zuhause aus arbeiten  -  4  words - occurs in  1  articles\n",
      "Kunst vor dem Fenster  -  4  words - occurs in  1  articles\n",
      "Darkroom - Tödliche Tropfen  -  4  words - occurs in  1  articles\n",
      "Friedenspreis des Deutschen Buchhandels 2020  -  5  words - occurs in  1  articles\n",
      "New Museum New York  -  4  words - occurs in  1  articles\n",
      "Unser Boden. Unser Erbe  -  4  words - occurs in  2  articles\n",
      "Nürnberg School of Health  -  4  words - occurs in  1  articles\n",
      "Senioren Wohnen Holding Berlin  -  4  words - occurs in  1  articles\n",
      "Zwingli - Der Reformator  -  4  words - occurs in  1  articles\n",
      "Landesverband Deutscher Sinti und Roma  -  5  words - occurs in  1  articles\n",
      "Trolls 2: Trolls World Tour  -  5  words - occurs in  1  articles\n",
      "Würzburger Zentrum für Angewandte Klimaforschung  -  5  words - occurs in  1  articles\n",
      "Hochschule für Film-und Fernsehen  -  4  words - occurs in  1  articles\n",
      "Stammstrecke Tunnel Verspätung S-Bahn München  -  5  words - occurs in  1  articles\n",
      "Marcus da Gloria Martins  -  4  words - occurs in  5  articles\n",
      "Prof. Dr. Alexander Dechêne  -  4  words - occurs in  1  articles\n",
      "Au in der Hallertau  -  4  words - occurs in  1  articles\n",
      "Die Sehnsucht der Schwestern Gusmao  -  5  words - occurs in  1  articles\n",
      "Erzbistum München und Freising  -  4  words - occurs in  18  articles\n",
      "Die Farbe aus dem All  -  5  words - occurs in  1  articles\n",
      "A Hard Day's Night  -  4  words - occurs in  1  articles\n",
      "Die Braut des Prinzen  -  4  words - occurs in  1  articles\n",
      "Bildungswerk der Bayerischen Wirtschaft  -  4  words - occurs in  1  articles\n",
      "Vereinigung der Bayerischen Wirtschaft  -  4  words - occurs in  19  articles\n",
      "A Rainy Day in New York  -  6  words - occurs in  2  articles\n",
      "House of the Rising Sun  -  5  words - occurs in  1  articles\n",
      "If Beale Street Could Talk  -  5  words - occurs in  1  articles\n",
      "Einfach das Ende der Welt  -  5  words - occurs in  1  articles\n",
      "Zwischenlager für radioaktiven Müll  -  4  words - occurs in  1  articles\n",
      "1. KaGe Elferrat Würzburg  -  4  words - occurs in  1  articles\n",
      "Ein Mann des Meeres  -  4  words - occurs in  1  articles\n",
      "Neustadt an der Waldnaab  -  4  words - occurs in  8  articles\n",
      "Once Upon A Time In Hollywood  -  6  words - occurs in  2  articles\n",
      "Papst Johannes Paul II.  -  4  words - occurs in  1  articles\n",
      "Hochschule für Musik und Theater  -  5  words - occurs in  3  articles\n",
      "Jumanji - The Next Level  -  5  words - occurs in  1  articles\n",
      "ifo Institut für Wirtschaftsforschung  -  4  words - occurs in  1  articles\n",
      "An American Werewolf in London  -  5  words - occurs in  1  articles\n",
      "China Unicom Hong Kong  -  4  words - occurs in  1  articles\n",
      "Abzug der US Armee  -  4  words - occurs in  1  articles\n",
      "Wildpark an den Eichen  -  4  words - occurs in  3  articles\n",
      "Private Brauereien Bayern e.V.  -  4  words - occurs in  1  articles\n",
      "Kollektiv - Korruption tötet  -  4  words - occurs in  2  articles\n",
      "Evolutionäre Anthropologie der Universität Wien  -  5  words - occurs in  1  articles\n",
      "Stadtmarketing \"Würzburg macht Spaß\" e.V.  -  5  words - occurs in  1  articles\n",
      "Paul Ehrlich- und Ludwig Darmstaedter-Preis  -  5  words - occurs in  1  articles\n",
      "University College London (UCL)  -  4  words - occurs in  1  articles\n",
      "Das Mädchen, das die Sonne berührte  -  6  words - occurs in  1  articles\n",
      "Bayerisches Landesamt für Umwelt  -  4  words - occurs in  2  articles\n",
      "Der Fall Richard Jewell  -  4  words - occurs in  2  articles\n",
      "Great Spas of Europe  -  4  words - occurs in  1  articles\n",
      "BR AI + Automation Lab  -  5  words - occurs in  1  articles\n",
      "Exklusiv-Interview mit Center Parcs Projektleiter  -  5  words - occurs in  1  articles\n",
      "Es hätte schlimmer kommen können  -  5  words - occurs in  2  articles\n",
      "Fun In The Church  -  4  words - occurs in  1  articles\n",
      "Vom Gießen des Zitronenbaums  -  4  words - occurs in  2  articles\n",
      "Institut für Queer Theory  -  4  words - occurs in  1  articles\n",
      "Raya und der letzte Drache  -  5  words - occurs in  1  articles\n",
      "Dreams cannot be cancelled Run  -  5  words - occurs in  1  articles\n",
      "Lux - Krieger des Lichts  -  5  words - occurs in  1  articles\n",
      "Hochschule für angewandte Wissenschaften Coburg  -  5  words - occurs in  1  articles\n",
      "\"Das Wunder von Taipeh\"  -  4  words - occurs in  1  articles\n",
      "FC Bayern München Basketball  -  4  words - occurs in  2  articles\n",
      "Tage der deutschsprachigen Literatur  -  4  words - occurs in  1  articles\n",
      "Verein Respect & Remember Europe  -  5  words - occurs in  1  articles\n",
      "Through the Darkest of Times  -  5  words - occurs in  1  articles\n",
      "Europas Fußballer des Jahres  -  4  words - occurs in  2  articles\n",
      "Das Beste kommt noch  -  4  words - occurs in  1  articles\n",
      "Institut für Arbeitsmarkt- und Berufsforschung  -  5  words - occurs in  13  articles\n",
      "Rico, Oskar und das Mistverständnis  -  5  words - occurs in  1  articles\n",
      "ARD Radio Recherche Sport  -  4  words - occurs in  2  articles\n",
      "Neues Museum für Kunst und Design  -  6  words - occurs in  1  articles\n",
      "Knives Out - Mord ist Familiensache  -  6  words - occurs in  1  articles\n",
      "Gewerkschaft für Erziehung und Wissenschaft  -  5  words - occurs in  2  articles\n",
      "Die Unschärfe der Welt  -  4  words - occurs in  1  articles\n",
      "Landesamt Gesundheit und Lebensmittelsicherheit  -  4  words - occurs in  1  articles\n",
      "\"Karl Kraus. Der Widersprecher\"  -  4  words - occurs in  2  articles\n",
      "Münchner Forum für Islam  -  4  words - occurs in  1  articles\n",
      "Zentralrat der Juden in Deutschland  -  5  words - occurs in  4  articles\n",
      "So wie du mich willst  -  5  words - occurs in  1  articles\n",
      "Bundesamt für Sicherheit in der Informationstechnik  -  6  words - occurs in  7  articles\n",
      "Haus der Bayerischen Geschichte  -  4  words - occurs in  15  articles\n",
      "Deutscher Berufsverband für Pflegekräfte  -  4  words - occurs in  1  articles\n"
     ]
    }
   ],
   "source": [
    "for tag in set(flat_tags):\n",
    "    if len(tag.split()) >= 4 and len(tag.split()) < 7:\n",
    "        print(tag, ' - ', len(tag.split()), ' words - occurs in ', flat_tags.count(tag), ' articles')"
   ]
  },
  {
   "cell_type": "code",
   "execution_count": null,
   "id": "f3a8ee98",
   "metadata": {},
   "outputs": [],
   "source": []
  },
  {
   "cell_type": "markdown",
   "id": "045dd6f2",
   "metadata": {},
   "source": [
    "## e. Corelation between number of words and number of tags"
   ]
  },
  {
   "cell_type": "code",
   "execution_count": 88,
   "id": "cbe1c42c",
   "metadata": {},
   "outputs": [],
   "source": [
    "word_count = [len(x.split()) for x in df['clean_text'].tolist()]\n",
    "tag_count = df['tags'].str.len().tolist()"
   ]
  },
  {
   "cell_type": "code",
   "execution_count": 89,
   "id": "4b76c616",
   "metadata": {},
   "outputs": [],
   "source": [
    "zip_iterator = zip(word_count, tag_count)\n",
    "d = dict(zip_iterator)"
   ]
  },
  {
   "cell_type": "code",
   "execution_count": 90,
   "id": "1bb9d3d6",
   "metadata": {},
   "outputs": [],
   "source": [
    "d = sorted(d.items())"
   ]
  },
  {
   "cell_type": "code",
   "execution_count": 91,
   "id": "be2b686d",
   "metadata": {},
   "outputs": [
    {
     "data": {
      "image/png": "[encoded data removed]",
      "text/plain": [
       "<Figure size 1440x576 with 1 Axes>"
      ]
     },
     "metadata": {
      "needs_background": "light"
     },
     "output_type": "display_data"
    },
    {
     "data": {
      "text/plain": [
       "<Figure size 432x288 with 0 Axes>"
      ]
     },
     "metadata": {},
     "output_type": "display_data"
    }
   ],
   "source": [
    "x, y = zip(*d) # unpack a list of pairs into two tuples\n",
    "\n",
    "plt.figure(figsize=(20, 8))\n",
    "plt.xlabel(\"Word count\")\n",
    "plt.ylabel(\"Tag Count\")\n",
    "plt.plot(x, y)\n",
    "plt.show()\n",
    "plt.savefig('words_vs_tags.png')"
   ]
  },
  {
   "cell_type": "code",
   "execution_count": 92,
   "id": "90ba8095",
   "metadata": {},
   "outputs": [],
   "source": [
    "#for i,x in enumerate(word_count):\n",
    "#    if x < 10:\n",
    "#        print(i,x)"
   ]
  },
  {
   "cell_type": "code",
   "execution_count": 93,
   "id": "2d7fba6a",
   "metadata": {},
   "outputs": [],
   "source": [
    "#k = 0\n",
    "#for i,x in enumerate(tag_count):\n",
    "#    if x == 0:\n",
    "#        print(i,x)\n",
    "#        k = k+1"
   ]
  },
  {
   "cell_type": "code",
   "execution_count": null,
   "id": "bfb2be0b",
   "metadata": {},
   "outputs": [],
   "source": []
  },
  {
   "cell_type": "markdown",
   "id": "bebaef24",
   "metadata": {},
   "source": [
    "# Removing Outliers"
   ]
  },
  {
   "cell_type": "code",
   "execution_count": 94,
   "id": "a1bb86c3",
   "metadata": {},
   "outputs": [],
   "source": [
    "df = df[(df['tags'].str.len()>=4) & (df['tags'].str.len()<=10) & (df['text'].str.split().str.len().gt(50)) & (df['text'].str.split().str.len().lt(20000))]"
   ]
  },
  {
   "cell_type": "code",
   "execution_count": 95,
   "id": "aa93bf23",
   "metadata": {},
   "outputs": [
    {
     "data": {
      "text/plain": [
       "(40862, 12)"
      ]
     },
     "execution_count": 95,
     "metadata": {},
     "output_type": "execute_result"
    }
   ],
   "source": [
    "df.shape"
   ]
  },
  {
   "cell_type": "code",
   "execution_count": 96,
   "id": "85b5373f",
   "metadata": {},
   "outputs": [
    {
     "data": {
      "text/html": [
       "<div>\n",
       "<style scoped>\n",
       "    .dataframe tbody tr th:only-of-type {\n",
       "        vertical-align: middle;\n",
       "    }\n",
       "\n",
       "    .dataframe tbody tr th {\n",
       "        vertical-align: top;\n",
       "    }\n",
       "\n",
       "    .dataframe thead th {\n",
       "        text-align: right;\n",
       "    }\n",
       "</style>\n",
       "<table border=\"1\" class=\"dataframe\">\n",
       "  <thead>\n",
       "    <tr style=\"text-align: right;\">\n",
       "      <th></th>\n",
       "      <th>created_at</th>\n",
       "      <th>primary_category</th>\n",
       "      <th>share_url</th>\n",
       "      <th>row_id</th>\n",
       "      <th>tags</th>\n",
       "      <th>title</th>\n",
       "      <th>text</th>\n",
       "      <th>type</th>\n",
       "      <th>clean_text_tfidf</th>\n",
       "      <th>clean_text_tfidf_nltk_stem</th>\n",
       "      <th>clean_text_tfidf_spacy_lemma</th>\n",
       "      <th>clean_text</th>\n",
       "    </tr>\n",
       "  </thead>\n",
       "  <tbody>\n",
       "    <tr>\n",
       "      <th>0</th>\n",
       "      <td>2021-08-05 09:44:27.368478+00:00</td>\n",
       "      <td>deutschland-welt</td>\n",
       "      <td>https://www.br.de/nachrichten/deutschland-welt/amtseinfuehrung-im-iran-neuer-praesident-alte-pro...</td>\n",
       "      <td>SfClRxG</td>\n",
       "      <td>[Ayatollah Ali Khamenei, Amtseinführung, Iran, Präsident, Ebrahim Raisi]</td>\n",
       "      <td>Amtseinführung im Iran: Neuer Präsident, alte Probleme</td>\n",
       "      <td>&amp;quot;Hier ist Bayern&amp;quot;: Der BR24 Newsletter informiert Sie immer montags bis freitags zum F...</td>\n",
       "      <td>TEXT</td>\n",
       "      <td>Bayern BR Newsletter informiert immer montags freitags Feierabend Wichtigste Tag Blick kompakt d...</td>\n",
       "      <td>Bay br Newslett informiert imm montag freitag Feierab Wichtig Tag Blick kompakt direkt privat Po...</td>\n",
       "      <td>Bayer BR Newsletter informieren immer montags freitags Feierabend wichtig Tag Blick kompakt dire...</td>\n",
       "      <td>\"Hier ist Bayern\": Der BR Newsletter informiert Sie immer montags bis freitags zum Feierabend üb...</td>\n",
       "    </tr>\n",
       "  </tbody>\n",
       "</table>\n",
       "</div>"
      ],
      "text/plain": [
       "                        created_at  primary_category  \\\n",
       "0 2021-08-05 09:44:27.368478+00:00  deutschland-welt   \n",
       "\n",
       "                                                                                             share_url  \\\n",
       "0  https://www.br.de/nachrichten/deutschland-welt/amtseinfuehrung-im-iran-neuer-praesident-alte-pro...   \n",
       "\n",
       "    row_id  \\\n",
       "0  SfClRxG   \n",
       "\n",
       "                                                                       tags  \\\n",
       "0  [Ayatollah Ali Khamenei, Amtseinführung, Iran, Präsident, Ebrahim Raisi]   \n",
       "\n",
       "                                                    title  \\\n",
       "0  Amtseinführung im Iran: Neuer Präsident, alte Probleme   \n",
       "\n",
       "                                                                                                  text  \\\n",
       "0  &quot;Hier ist Bayern&quot;: Der BR24 Newsletter informiert Sie immer montags bis freitags zum F...   \n",
       "\n",
       "   type  \\\n",
       "0  TEXT   \n",
       "\n",
       "                                                                                      clean_text_tfidf  \\\n",
       "0  Bayern BR Newsletter informiert immer montags freitags Feierabend Wichtigste Tag Blick kompakt d...   \n",
       "\n",
       "                                                                            clean_text_tfidf_nltk_stem  \\\n",
       "0  Bay br Newslett informiert imm montag freitag Feierab Wichtig Tag Blick kompakt direkt privat Po...   \n",
       "\n",
       "                                                                          clean_text_tfidf_spacy_lemma  \\\n",
       "0  Bayer BR Newsletter informieren immer montags freitags Feierabend wichtig Tag Blick kompakt dire...   \n",
       "\n",
       "                                                                                            clean_text  \n",
       "0  \"Hier ist Bayern\": Der BR Newsletter informiert Sie immer montags bis freitags zum Feierabend üb...  "
      ]
     },
     "execution_count": 96,
     "metadata": {},
     "output_type": "execute_result"
    }
   ],
   "source": [
    "df.head(1)"
   ]
  },
  {
   "cell_type": "markdown",
   "id": "415fa00b",
   "metadata": {},
   "source": [
    "# Data analysis after removing outliers"
   ]
  },
  {
   "cell_type": "markdown",
   "id": "91e9bb6c",
   "metadata": {},
   "source": [
    "## Article Text"
   ]
  },
  {
   "cell_type": "code",
   "execution_count": 97,
   "id": "b7338878",
   "metadata": {},
   "outputs": [],
   "source": [
    "number_of_words = df['clean_text'].str.split().apply(len)"
   ]
  },
  {
   "cell_type": "code",
   "execution_count": 98,
   "id": "d9f0bdb8",
   "metadata": {},
   "outputs": [
    {
     "data": {
      "text/plain": [
       "count    40862.000000\n",
       "mean       418.632226\n",
       "std        482.463487\n",
       "min         51.000000\n",
       "25%        219.000000\n",
       "50%        330.000000\n",
       "75%        502.000000\n",
       "max      18090.000000\n",
       "Name: clean_text, dtype: float64"
      ]
     },
     "execution_count": 98,
     "metadata": {},
     "output_type": "execute_result"
    }
   ],
   "source": [
    "number_of_words.describe()"
   ]
  },
  {
   "cell_type": "code",
   "execution_count": 99,
   "id": "976cfea8",
   "metadata": {},
   "outputs": [
    {
     "data": {
      "text/plain": [
       "False"
      ]
     },
     "execution_count": 99,
     "metadata": {},
     "output_type": "execute_result"
    }
   ],
   "source": [
    "df['clean_text'].isnull().any().any()"
   ]
  },
  {
   "cell_type": "code",
   "execution_count": 100,
   "id": "e3e023b7",
   "metadata": {},
   "outputs": [],
   "source": [
    "number_of_words_counts = number_of_words.value_counts().sort_index()"
   ]
  },
  {
   "cell_type": "code",
   "execution_count": 101,
   "id": "e99e2d30",
   "metadata": {},
   "outputs": [
    {
     "data": {
      "text/plain": [
       "51    2\n",
       "56    2\n",
       "57    5\n",
       "58    1\n",
       "59    3\n",
       "60    3\n",
       "61    3\n",
       "62    1\n",
       "64    1\n",
       "65    7\n",
       "Name: clean_text, dtype: int64"
      ]
     },
     "execution_count": 101,
     "metadata": {},
     "output_type": "execute_result"
    }
   ],
   "source": [
    "number_of_words_counts[:10]"
   ]
  },
  {
   "cell_type": "code",
   "execution_count": null,
   "id": "22ece665",
   "metadata": {},
   "outputs": [],
   "source": []
  },
  {
   "cell_type": "markdown",
   "id": "7c2c4436",
   "metadata": {},
   "source": [
    "## Tag Statistics"
   ]
  },
  {
   "cell_type": "code",
   "execution_count": 102,
   "id": "0003ac6c",
   "metadata": {},
   "outputs": [],
   "source": [
    "tags = df['tags'].apply(pd.Series).stack().str.strip()"
   ]
  },
  {
   "cell_type": "code",
   "execution_count": 103,
   "id": "36643143",
   "metadata": {},
   "outputs": [
    {
     "name": "stdout",
     "output_type": "stream",
     "text": [
      "272922\n",
      "35816\n"
     ]
    }
   ],
   "source": [
    "print(len(tags))\n",
    "print(len(tags.unique()))"
   ]
  },
  {
   "cell_type": "code",
   "execution_count": null,
   "id": "d1295fa8",
   "metadata": {},
   "outputs": [],
   "source": []
  },
  {
   "cell_type": "markdown",
   "id": "ea493cea",
   "metadata": {},
   "source": [
    "## Tag Occurrences"
   ]
  },
  {
   "cell_type": "code",
   "execution_count": 104,
   "id": "56112a1a",
   "metadata": {},
   "outputs": [],
   "source": [
    "c = dict(Counter(tags))\n",
    "c = dict(sorted(c.items(), key=lambda x: x[1], reverse=True))"
   ]
  },
  {
   "cell_type": "code",
   "execution_count": 105,
   "id": "f60c091f",
   "metadata": {},
   "outputs": [
    {
     "data": {
      "text/plain": [
       "('Ankerzentrum', 35)"
      ]
     },
     "execution_count": 105,
     "metadata": {},
     "output_type": "execute_result"
    }
   ],
   "source": [
    "list(c.items())[999]"
   ]
  },
  {
   "cell_type": "code",
   "execution_count": 106,
   "id": "4f709af5",
   "metadata": {},
   "outputs": [
    {
     "data": {
      "text/plain": [
       "('Landkreis Landshut', 67)"
      ]
     },
     "execution_count": 106,
     "metadata": {},
     "output_type": "execute_result"
    }
   ],
   "source": [
    "list(c.items())[499]"
   ]
  },
  {
   "cell_type": "code",
   "execution_count": 107,
   "id": "c2604654",
   "metadata": {},
   "outputs": [
    {
     "data": {
      "text/plain": [
       "('Österreich', 252)"
      ]
     },
     "execution_count": 107,
     "metadata": {},
     "output_type": "execute_result"
    }
   ],
   "source": [
    "list(c.items())[99]"
   ]
  },
  {
   "cell_type": "code",
   "execution_count": 108,
   "id": "f592be14",
   "metadata": {},
   "outputs": [
    {
     "data": {
      "text/plain": [
       "('Coronavirus', 8701)"
      ]
     },
     "execution_count": 108,
     "metadata": {},
     "output_type": "execute_result"
    }
   ],
   "source": [
    "list(c.items())[0]"
   ]
  },
  {
   "cell_type": "code",
   "execution_count": 109,
   "id": "3d763467",
   "metadata": {},
   "outputs": [],
   "source": [
    "tag_freq = dict(list(c.items())[:100])"
   ]
  },
  {
   "cell_type": "code",
   "execution_count": 110,
   "id": "a585659c",
   "metadata": {},
   "outputs": [
    {
     "data": {
      "text/plain": [
       "{'Coronavirus': 8701,\n",
       " 'Oberbayern': 5534,\n",
       " 'Corona': 4983,\n",
       " 'Mittelfranken': 4063,\n",
       " 'Polizei': 3474,\n",
       " 'Unterfranken': 3383,\n",
       " 'Oberfranken': 3004,\n",
       " 'Niederbayern': 2854,\n",
       " 'Schwaben': 2673,\n",
       " 'Oberpfalz': 2653,\n",
       " 'Börse': 2479,\n",
       " 'Aktien': 2445,\n",
       " 'Fußball': 2300,\n",
       " 'DAX': 2232,\n",
       " 'Euro': 2086,\n",
       " 'Nürnberg': 1303,\n",
       " 'Corona-Krise': 1163,\n",
       " 'München': 1119,\n",
       " 'Covid-19': 1022,\n",
       " 'Markus Söder': 910,\n",
       " 'Pandemie': 901,\n",
       " 'Lockdown': 860,\n",
       " 'USA': 811,\n",
       " 'Feuerwehr': 806,\n",
       " 'Unfall': 797,\n",
       " 'Gesundheit': 776,\n",
       " 'Regensburg': 727,\n",
       " 'FC Bayern München': 726,\n",
       " 'Corona-Pandemie': 725,\n",
       " 'Wirtschaft': 716,\n",
       " 'Bayern': 709,\n",
       " 'Schule': 708,\n",
       " 'Coronakrise': 705,\n",
       " 'Würzburg': 692,\n",
       " 'CSU': 627,\n",
       " 'Impfung': 607,\n",
       " 'Prozess': 563,\n",
       " 'Bundesliga': 548,\n",
       " 'Verkehr': 548,\n",
       " 'Donald Trump': 543,\n",
       " 'Augsburg': 530,\n",
       " 'Wintersport': 510,\n",
       " 'Religion': 493,\n",
       " 'Kirche': 490,\n",
       " 'Brand': 476,\n",
       " 'Tourismus': 473,\n",
       " 'Dow Jones': 464,\n",
       " 'Kultur': 459,\n",
       " 'Tiere': 447,\n",
       " '7-Tage-Inzidenz': 428,\n",
       " 'SARS-CoV-2': 423,\n",
       " 'Landwirtschaft': 423,\n",
       " 'EU': 414,\n",
       " 'Maskenpflicht': 414,\n",
       " 'Klimawandel': 411,\n",
       " 'Kinder': 401,\n",
       " 'Justiz': 401,\n",
       " '3. Liga': 400,\n",
       " '2. Bundesliga': 392,\n",
       " 'Angela Merkel': 390,\n",
       " 'Medizin': 382,\n",
       " 'Impfstoff': 372,\n",
       " 'Umwelt': 368,\n",
       " 'Bamberg': 365,\n",
       " 'Corona-Maßnahmen': 346,\n",
       " 'Urlaub': 341,\n",
       " 'Corona-Test': 335,\n",
       " 'Forschung': 334,\n",
       " 'Corona-Impfungen': 331,\n",
       " 'Demonstration': 326,\n",
       " 'RKI': 325,\n",
       " 'Bayreuth': 319,\n",
       " 'Basketball': 310,\n",
       " 'Musik': 308,\n",
       " 'Sport': 307,\n",
       " 'Gastronomie': 304,\n",
       " 'Joe Biden': 303,\n",
       " 'SPD': 302,\n",
       " 'Kunst': 302,\n",
       " 'China': 300,\n",
       " 'Polizeimeldung': 297,\n",
       " 'Wirecard': 295,\n",
       " 'Corona-Impfstoff': 292,\n",
       " 'Hof': 291,\n",
       " 'Klimaschutz': 289,\n",
       " 'Einzelhandel': 287,\n",
       " 'Quarantäne': 281,\n",
       " 'Neuinfektionen': 276,\n",
       " 'Nikkei': 276,\n",
       " 'Jens Spahn': 275,\n",
       " 'Erlangen': 271,\n",
       " 'Bundestagswahl': 269,\n",
       " 'Wissenschaft': 269,\n",
       " 'Passau': 268,\n",
       " 'Feuer': 267,\n",
       " 'Katholische Kirche': 263,\n",
       " 'Konjunktur': 257,\n",
       " 'Schweinfurt': 256,\n",
       " 'Weihnachten': 255,\n",
       " 'Österreich': 252}"
      ]
     },
     "execution_count": 110,
     "metadata": {},
     "output_type": "execute_result"
    }
   ],
   "source": [
    "tag_freq"
   ]
  },
  {
   "cell_type": "code",
   "execution_count": 111,
   "id": "d3909e28",
   "metadata": {},
   "outputs": [
    {
     "data": {
      "image/png": "[encoded data removed]",
      "text/plain": [
       "<Figure size 1440x360 with 1 Axes>"
      ]
     },
     "metadata": {
      "needs_background": "light"
     },
     "output_type": "display_data"
    }
   ],
   "source": [
    "plt.figure(figsize=(20, 5))\n",
    "plt.bar(tag_occurrences.keys(), tag_occurrences.values())\n",
    "x = list(range(0, 100))\n",
    "ax1 = plt.subplot()\n",
    "ax1.set_xticks(x)\n",
    "ax1.set_xticklabels(tag_occurrences, rotation=90)\n",
    "plt.xlabel(\"Top 100 used tags\")\n",
    "plt.ylabel(\"Frequency of use\")\n",
    "plt.savefig('tag_freq_100.png')"
   ]
  },
  {
   "cell_type": "code",
   "execution_count": 112,
   "id": "160d1ca1",
   "metadata": {},
   "outputs": [],
   "source": [
    "tag_freq_count = pd.Series(c.values()).value_counts()"
   ]
  },
  {
   "cell_type": "code",
   "execution_count": 113,
   "id": "d8262869",
   "metadata": {},
   "outputs": [
    {
     "data": {
      "text/plain": [
       "count      289.000000\n",
       "mean       123.930796\n",
       "std       1228.823614\n",
       "min          1.000000\n",
       "25%          1.000000\n",
       "50%          2.000000\n",
       "75%          8.000000\n",
       "max      20035.000000\n",
       "dtype: float64"
      ]
     },
     "execution_count": 113,
     "metadata": {},
     "output_type": "execute_result"
    }
   ],
   "source": [
    "tag_freq_count.describe()"
   ]
  },
  {
   "cell_type": "code",
   "execution_count": null,
   "id": "a7f22abc",
   "metadata": {},
   "outputs": [],
   "source": []
  },
  {
   "cell_type": "markdown",
   "id": "9a947f75",
   "metadata": {},
   "source": [
    "## Tag Counts per article"
   ]
  },
  {
   "cell_type": "code",
   "execution_count": 114,
   "id": "43865e33",
   "metadata": {},
   "outputs": [
    {
     "data": {
      "image/png": "[encoded data removed]",
      "text/plain": [
       "<Figure size 432x288 with 1 Axes>"
      ]
     },
     "metadata": {
      "needs_background": "light"
     },
     "output_type": "display_data"
    }
   ],
   "source": [
    "plt.ylabel(\"Number of articles\")\n",
    "df.groupby(df['tags'].str.len()).row_id.count().plot.bar()\n",
    "plt.xlabel(\"Tag Count per article\")\n",
    "plt.savefig('tag_count.png')"
   ]
  },
  {
   "cell_type": "code",
   "execution_count": 115,
   "id": "29ca0dff",
   "metadata": {},
   "outputs": [
    {
     "data": {
      "text/plain": [
       "0"
      ]
     },
     "execution_count": 115,
     "metadata": {},
     "output_type": "execute_result"
    }
   ],
   "source": [
    "len(df[df['tags'].str.len()==0])"
   ]
  },
  {
   "cell_type": "code",
   "execution_count": null,
   "id": "7a1faa2f",
   "metadata": {},
   "outputs": [],
   "source": []
  },
  {
   "cell_type": "markdown",
   "id": "b492ada4",
   "metadata": {},
   "source": [
    "## Tag length"
   ]
  },
  {
   "cell_type": "code",
   "execution_count": 126,
   "id": "6fbca779",
   "metadata": {},
   "outputs": [
    {
     "data": {
      "text/plain": [
       "array(['Ayatollah Ali Khamenei', 'Amtseinführung', 'Iran', ...,\n",
       "       'Verantwortungseigentum', 'Aussehen', 'plastische Chirurgie'],\n",
       "      dtype=object)"
      ]
     },
     "execution_count": 126,
     "metadata": {},
     "output_type": "execute_result"
    }
   ],
   "source": [
    "tags.unique()"
   ]
  },
  {
   "cell_type": "code",
   "execution_count": 127,
   "id": "97d8f19b",
   "metadata": {},
   "outputs": [],
   "source": [
    "tag_words = [len(x.split()) for x in tags.unique()]"
   ]
  },
  {
   "cell_type": "code",
   "execution_count": 128,
   "id": "4919f68e",
   "metadata": {},
   "outputs": [],
   "source": [
    "x,y = zip(*sorted(dict(Counter(tag_words)).items()))"
   ]
  },
  {
   "cell_type": "code",
   "execution_count": 129,
   "id": "e9fe124e",
   "metadata": {},
   "outputs": [
    {
     "data": {
      "text/plain": [
       "[(1, 24357),\n",
       " (2, 9162),\n",
       " (3, 1711),\n",
       " (4, 410),\n",
       " (5, 120),\n",
       " (6, 34),\n",
       " (7, 14),\n",
       " (8, 6),\n",
       " (9, 2)]"
      ]
     },
     "execution_count": 129,
     "metadata": {},
     "output_type": "execute_result"
    }
   ],
   "source": [
    "sorted(dict(Counter(tag_words)).items())"
   ]
  },
  {
   "cell_type": "code",
   "execution_count": 130,
   "id": "c2223692",
   "metadata": {},
   "outputs": [
    {
     "data": {
      "image/png": "[encoded data removed]",
      "text/plain": [
       "<Figure size 432x288 with 1 Axes>"
      ]
     },
     "metadata": {
      "needs_background": "light"
     },
     "output_type": "display_data"
    },
    {
     "data": {
      "text/plain": [
       "<Figure size 432x288 with 0 Axes>"
      ]
     },
     "metadata": {},
     "output_type": "display_data"
    }
   ],
   "source": [
    "plt.bar(x,y)\n",
    "for x,y in zip(x,y):\n",
    "    label = \"{}\".format(y)\n",
    "    plt.annotate(label, (x,y), textcoords=\"offset points\", xytext=(0,4), ha='center')\n",
    "plt.xlabel(\"Number of words in tags\")\n",
    "plt.ylabel(\"Frequency\")\n",
    "plt.show()\n",
    "plt.savefig('number_of_words_in_tags.png')"
   ]
  },
  {
   "cell_type": "code",
   "execution_count": null,
   "id": "a7aca737",
   "metadata": {},
   "outputs": [],
   "source": []
  },
  {
   "cell_type": "markdown",
   "id": "9ebb4785",
   "metadata": {},
   "source": [
    "## Corelation between number of words and number of tags"
   ]
  },
  {
   "cell_type": "code",
   "execution_count": 116,
   "id": "5bf45075",
   "metadata": {},
   "outputs": [],
   "source": [
    "word_count = [len(x.split()) for x in df['clean_text'].tolist()]\n",
    "tag_count = df['tags'].str.len().tolist()"
   ]
  },
  {
   "cell_type": "code",
   "execution_count": 117,
   "id": "589c86bb",
   "metadata": {},
   "outputs": [],
   "source": [
    "zip_iterator = zip(word_count, tag_count)\n",
    "d = dict(zip_iterator)"
   ]
  },
  {
   "cell_type": "code",
   "execution_count": 118,
   "id": "d6a447b2",
   "metadata": {},
   "outputs": [],
   "source": [
    "d = sorted(d.items())"
   ]
  },
  {
   "cell_type": "code",
   "execution_count": 119,
   "id": "0cf8a8a7",
   "metadata": {},
   "outputs": [
    {
     "data": {
      "image/png": "[encoded data removed]",
      "text/plain": [
       "<Figure size 1440x576 with 1 Axes>"
      ]
     },
     "metadata": {
      "needs_background": "light"
     },
     "output_type": "display_data"
    },
    {
     "data": {
      "text/plain": [
       "<Figure size 432x288 with 0 Axes>"
      ]
     },
     "metadata": {},
     "output_type": "display_data"
    }
   ],
   "source": [
    "x, y = zip(*d) # unpack a list of pairs into two tuples\n",
    "\n",
    "plt.figure(figsize=(20, 8))\n",
    "plt.xlabel(\"Word count\")\n",
    "plt.ylabel(\"Tag Count\")\n",
    "plt.plot(x, y)\n",
    "plt.show()\n",
    "plt.savefig('words_vs_tags.png')"
   ]
  },
  {
   "cell_type": "code",
   "execution_count": null,
   "id": "7308c35e",
   "metadata": {},
   "outputs": [],
   "source": []
  },
  {
   "cell_type": "code",
   "execution_count": null,
   "id": "bc2c3423",
   "metadata": {},
   "outputs": [],
   "source": []
  },
  {
   "cell_type": "code",
   "execution_count": 125,
   "id": "ecbd3a93",
   "metadata": {},
   "outputs": [],
   "source": [
    "df.to_pickle('../data/processed_data.pkl', compression='zip')"
   ]
  },
  {
   "cell_type": "code",
   "execution_count": null,
   "id": "454c14f1",
   "metadata": {},
   "outputs": [],
   "source": []
  }
 ],
 "metadata": {
  "environment": {
   "name": "common-cpu.m65",
   "type": "gcloud",
   "uri": "gcr.io/deeplearning-platform-release/base-cpu:m65"
  },
  "kernelspec": {
   "display_name": "Python 3",
   "language": "python",
   "name": "python3"
  },
  "language_info": {
   "codemirror_mode": {
    "name": "ipython",
    "version": 3
   },
   "file_extension": ".py",
   "mimetype": "text/x-python",
   "name": "python",
   "nbconvert_exporter": "python",
   "pygments_lexer": "ipython3",
   "version": "3.7.10"
  }
 },
 "nbformat": 4,
 "nbformat_minor": 5
}
