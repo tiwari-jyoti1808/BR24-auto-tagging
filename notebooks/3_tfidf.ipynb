{
 "cells": [
  {
   "cell_type": "markdown",
   "id": "163126d9",
   "metadata": {},
   "source": [
    "# Notebook performs TF-IDF on BR24 data set to create a baseline system"
   ]
  },
  {
   "cell_type": "markdown",
   "id": "4a5d0226",
   "metadata": {},
   "source": [
    "### /data/processed_data_extra_columns.pkl is used for this notebook"
   ]
  },
  {
   "cell_type": "markdown",
   "id": "7fe765b0",
   "metadata": {},
   "source": [
    "### Results are not saved to a .pkl file"
   ]
  },
  {
   "cell_type": "code",
   "execution_count": 1,
   "id": "302c1d48",
   "metadata": {},
   "outputs": [],
   "source": [
    "import pickle as pk\n",
    "import pandas as pd\n",
    "\n",
    "from tqdm import tqdm\n",
    "tqdm.pandas()"
   ]
  },
  {
   "cell_type": "code",
   "execution_count": 2,
   "id": "4e2062ae",
   "metadata": {},
   "outputs": [],
   "source": [
    "df = pd.read_pickle(\"../data/processed_data_extra_columns.pkl\", compression='zip')"
   ]
  },
  {
   "cell_type": "code",
   "execution_count": 3,
   "id": "77b4a22c",
   "metadata": {},
   "outputs": [
    {
     "data": {
      "text/plain": [
       "(40862, 16)"
      ]
     },
     "execution_count": 3,
     "metadata": {},
     "output_type": "execute_result"
    }
   ],
   "source": [
    "df.shape"
   ]
  },
  {
   "cell_type": "code",
   "execution_count": 4,
   "id": "5e22f906",
   "metadata": {},
   "outputs": [
    {
     "data": {
      "text/html": [
       "<div>\n",
       "<style scoped>\n",
       "    .dataframe tbody tr th:only-of-type {\n",
       "        vertical-align: middle;\n",
       "    }\n",
       "\n",
       "    .dataframe tbody tr th {\n",
       "        vertical-align: top;\n",
       "    }\n",
       "\n",
       "    .dataframe thead th {\n",
       "        text-align: right;\n",
       "    }\n",
       "</style>\n",
       "<table border=\"1\" class=\"dataframe\">\n",
       "  <thead>\n",
       "    <tr style=\"text-align: right;\">\n",
       "      <th></th>\n",
       "      <th>created_at</th>\n",
       "      <th>primary_category</th>\n",
       "      <th>share_url</th>\n",
       "      <th>row_id</th>\n",
       "      <th>tags</th>\n",
       "      <th>title</th>\n",
       "      <th>text</th>\n",
       "      <th>type</th>\n",
       "      <th>clean_text_tfidf</th>\n",
       "      <th>clean_text_tfidf_nltk_stem</th>\n",
       "      <th>clean_text_tfidf_spacy_lemma</th>\n",
       "      <th>clean_text</th>\n",
       "      <th>in_text</th>\n",
       "      <th>out_of_text</th>\n",
       "      <th>in_text_percent</th>\n",
       "      <th>out_of_text_percent</th>\n",
       "    </tr>\n",
       "  </thead>\n",
       "  <tbody>\n",
       "    <tr>\n",
       "      <th>0</th>\n",
       "      <td>2021-08-05 09:44:27.368478+00:00</td>\n",
       "      <td>deutschland-welt</td>\n",
       "      <td>https://www.br.de/nachrichten/deutschland-welt...</td>\n",
       "      <td>SfClRxG</td>\n",
       "      <td>[Ayatollah Ali Khamenei, Amtseinführung, Iran,...</td>\n",
       "      <td>Amtseinführung im Iran: Neuer Präsident, alte ...</td>\n",
       "      <td>&amp;quot;Hier ist Bayern&amp;quot;: Der BR24 Newslett...</td>\n",
       "      <td>TEXT</td>\n",
       "      <td>Bayern BR Newsletter informiert immer montags ...</td>\n",
       "      <td>Bay br Newslett informiert imm montag freitag ...</td>\n",
       "      <td>Bayer BR Newsletter informieren immer montags ...</td>\n",
       "      <td>\"Hier ist Bayern\": Der BR Newsletter informier...</td>\n",
       "      <td>[Ayatollah Ali Khamenei, Iran, Präsident, Ebra...</td>\n",
       "      <td>[Amtseinführung]</td>\n",
       "      <td>80</td>\n",
       "      <td>20</td>\n",
       "    </tr>\n",
       "  </tbody>\n",
       "</table>\n",
       "</div>"
      ],
      "text/plain": [
       "                        created_at  primary_category  \\\n",
       "0 2021-08-05 09:44:27.368478+00:00  deutschland-welt   \n",
       "\n",
       "                                           share_url   row_id  \\\n",
       "0  https://www.br.de/nachrichten/deutschland-welt...  SfClRxG   \n",
       "\n",
       "                                                tags  \\\n",
       "0  [Ayatollah Ali Khamenei, Amtseinführung, Iran,...   \n",
       "\n",
       "                                               title  \\\n",
       "0  Amtseinführung im Iran: Neuer Präsident, alte ...   \n",
       "\n",
       "                                                text  type  \\\n",
       "0  &quot;Hier ist Bayern&quot;: Der BR24 Newslett...  TEXT   \n",
       "\n",
       "                                    clean_text_tfidf  \\\n",
       "0  Bayern BR Newsletter informiert immer montags ...   \n",
       "\n",
       "                          clean_text_tfidf_nltk_stem  \\\n",
       "0  Bay br Newslett informiert imm montag freitag ...   \n",
       "\n",
       "                        clean_text_tfidf_spacy_lemma  \\\n",
       "0  Bayer BR Newsletter informieren immer montags ...   \n",
       "\n",
       "                                          clean_text  \\\n",
       "0  \"Hier ist Bayern\": Der BR Newsletter informier...   \n",
       "\n",
       "                                             in_text       out_of_text  \\\n",
       "0  [Ayatollah Ali Khamenei, Iran, Präsident, Ebra...  [Amtseinführung]   \n",
       "\n",
       "   in_text_percent  out_of_text_percent  \n",
       "0               80                   20  "
      ]
     },
     "execution_count": 4,
     "metadata": {},
     "output_type": "execute_result"
    }
   ],
   "source": [
    "df.head(1)"
   ]
  },
  {
   "cell_type": "code",
   "execution_count": 5,
   "id": "2307f978",
   "metadata": {},
   "outputs": [],
   "source": [
    "from sklearn.feature_extraction.text import TfidfVectorizer \n",
    "tfidf_vectorizer = TfidfVectorizer(use_idf=True, smooth_idf=True, lowercase=False) "
   ]
  },
  {
   "cell_type": "code",
   "execution_count": 6,
   "id": "86885dff",
   "metadata": {},
   "outputs": [],
   "source": [
    "import difflib"
   ]
  },
  {
   "cell_type": "code",
   "execution_count": null,
   "id": "e1eba480",
   "metadata": {},
   "outputs": [],
   "source": []
  },
  {
   "cell_type": "markdown",
   "id": "fa6bbd4c",
   "metadata": {},
   "source": [
    "# 1. TDIDF stemmer -> all predictions"
   ]
  },
  {
   "cell_type": "code",
   "execution_count": 7,
   "id": "7afff4ba",
   "metadata": {},
   "outputs": [],
   "source": [
    "def TFIDF_stemmer_all(row):\n",
    "    tfidf_matrix = tfidf_vectorizer.fit_transform([row.clean_text_tfidf_nltk_stem])\n",
    "    features_df = pd.DataFrame(tfidf_matrix.T.todense(), index=tfidf_vectorizer.get_feature_names(), columns=[\"tfidf\"])\n",
    "    return (features_df.sort_values(by=[\"tfidf\"], ascending=False).index.values)"
   ]
  },
  {
   "cell_type": "code",
   "execution_count": 8,
   "id": "b0102ad0",
   "metadata": {},
   "outputs": [
    {
     "name": "stderr",
     "output_type": "stream",
     "text": [
      "100%|██████████| 40862/40862 [01:47<00:00, 381.36it/s]\n"
     ]
    }
   ],
   "source": [
    "df['TFIDF_stemmer_all'] = df.progress_apply(TFIDF_stemmer_all, axis=1)"
   ]
  },
  {
   "cell_type": "code",
   "execution_count": null,
   "id": "f781bf7b",
   "metadata": {},
   "outputs": [],
   "source": []
  },
  {
   "cell_type": "markdown",
   "id": "7e49897f",
   "metadata": {},
   "source": [
    "# 2. TFIDF lemmatizer -> all predictions"
   ]
  },
  {
   "cell_type": "code",
   "execution_count": 9,
   "id": "cba16d44",
   "metadata": {},
   "outputs": [],
   "source": [
    "def TFIDF_lemmatizer_all(row):\n",
    "    tfidf_matrix = tfidf_vectorizer.fit_transform([row.clean_text_tfidf_spacy_lemma])\n",
    "    features_df = pd.DataFrame(tfidf_matrix.T.todense(), index=tfidf_vectorizer.get_feature_names(), columns=[\"tfidf\"])\n",
    "    return (features_df.sort_values(by=[\"tfidf\"], ascending=False).index.values)"
   ]
  },
  {
   "cell_type": "code",
   "execution_count": 10,
   "id": "85fa2886",
   "metadata": {},
   "outputs": [
    {
     "name": "stderr",
     "output_type": "stream",
     "text": [
      "100%|██████████| 40862/40862 [01:45<00:00, 388.94it/s]\n"
     ]
    }
   ],
   "source": [
    "df['TFIDF_lemmatizer_all'] = df.progress_apply(TFIDF_lemmatizer_all, axis=1)"
   ]
  },
  {
   "cell_type": "code",
   "execution_count": null,
   "id": "919e7e71",
   "metadata": {},
   "outputs": [],
   "source": []
  },
  {
   "cell_type": "markdown",
   "id": "91b5446a",
   "metadata": {},
   "source": [
    "# 3. TFIDF stemmer -> top 30 predictions"
   ]
  },
  {
   "cell_type": "code",
   "execution_count": 11,
   "id": "b7d24659",
   "metadata": {},
   "outputs": [],
   "source": [
    "def TFIDF_stemmer_30(row):\n",
    "    tfidf_matrix = tfidf_vectorizer.fit_transform([row.clean_text_tfidf_nltk_stem])\n",
    "    features_df = pd.DataFrame(tfidf_matrix.T.todense(), index=tfidf_vectorizer.get_feature_names(), columns=[\"tfidf\"])\n",
    "    return (features_df.sort_values(by=[\"tfidf\"], ascending=False).index.values[:30])"
   ]
  },
  {
   "cell_type": "code",
   "execution_count": 12,
   "id": "4c42e677",
   "metadata": {},
   "outputs": [
    {
     "name": "stderr",
     "output_type": "stream",
     "text": [
      "100%|██████████| 40862/40862 [01:45<00:00, 387.69it/s]\n"
     ]
    }
   ],
   "source": [
    "df['TFIDF_stemmer_30'] = df.progress_apply(TFIDF_stemmer_30, axis=1)"
   ]
  },
  {
   "cell_type": "code",
   "execution_count": null,
   "id": "46a0e723",
   "metadata": {},
   "outputs": [],
   "source": []
  },
  {
   "cell_type": "markdown",
   "id": "82ecaace",
   "metadata": {},
   "source": [
    "# 4. TFIDF lemmatizer -> top 30 predictions"
   ]
  },
  {
   "cell_type": "code",
   "execution_count": 13,
   "id": "b9fe8214",
   "metadata": {},
   "outputs": [],
   "source": [
    "def TFIDF_lemmatizer_30(row):\n",
    "    tfidf_matrix = tfidf_vectorizer.fit_transform([row.clean_text_tfidf_spacy_lemma])\n",
    "    features_df = pd.DataFrame(tfidf_matrix.T.todense(), index=tfidf_vectorizer.get_feature_names(), columns=[\"tfidf\"])\n",
    "    return (features_df.sort_values(by=[\"tfidf\"], ascending=False).index.values[:30])"
   ]
  },
  {
   "cell_type": "code",
   "execution_count": 14,
   "id": "c165b414",
   "metadata": {},
   "outputs": [
    {
     "name": "stderr",
     "output_type": "stream",
     "text": [
      "100%|██████████| 40862/40862 [01:45<00:00, 388.59it/s]\n"
     ]
    }
   ],
   "source": [
    "df['TFIDF_lemmatizer_30'] = df.progress_apply(TFIDF_lemmatizer_30, axis=1)"
   ]
  },
  {
   "cell_type": "code",
   "execution_count": null,
   "id": "c862a78b",
   "metadata": {},
   "outputs": [],
   "source": []
  },
  {
   "cell_type": "markdown",
   "id": "4cdf2e0d",
   "metadata": {},
   "source": [
    "# Finding matches"
   ]
  },
  {
   "cell_type": "code",
   "execution_count": 16,
   "id": "3d7b8808",
   "metadata": {},
   "outputs": [],
   "source": [
    "def find_matches(truth, predictions):\n",
    "    \"\"\"\n",
    "    Functions compares the truth value (editor tags) and predictions made by the system using the difflib library.\n",
    "    1. A prediction is considered as a match if it a close match and scores at least 0.7 with an editor tag using the difflib.get_close_matches\n",
    "    2. If no match is found then we look for a substring match.\n",
    "    \n",
    "    If both steps do not give a match, then there is no prediction for that particular editor tag.\n",
    "    \n",
    "    :param truth: editor tags\n",
    "    :param predictions: predictions made by the system\n",
    "    :return: those predictions which are correct, i.e., match with editor predictions\n",
    "    \"\"\"\n",
    "    \n",
    "    matches = []\n",
    "    for tag in truth:\n",
    "        predicted = difflib.get_close_matches(tag, predictions, 1, 0.7) #closest match\n",
    "        if not predicted:\n",
    "            predicted = [key for key in predictions if tag in key] #if no closest match then take substring match\n",
    "        \n",
    "        if predicted:\n",
    "            matches.append(predicted[0])\n",
    "        else:\n",
    "            continue\n",
    "    return matches"
   ]
  },
  {
   "cell_type": "code",
   "execution_count": null,
   "id": "59a54ea7",
   "metadata": {},
   "outputs": [],
   "source": []
  },
  {
   "cell_type": "markdown",
   "id": "90ffdfdc",
   "metadata": {},
   "source": [
    "## Finding matches between all TF-IDF predictions and editor tags"
   ]
  },
  {
   "cell_type": "code",
   "execution_count": 17,
   "id": "07a6c7d4",
   "metadata": {},
   "outputs": [
    {
     "name": "stderr",
     "output_type": "stream",
     "text": [
      "100%|██████████| 40862/40862 [02:05<00:00, 324.52it/s]\n",
      "100%|██████████| 40862/40862 [02:19<00:00, 293.22it/s]\n"
     ]
    }
   ],
   "source": [
    "df['TFIDF_stemmer_all_x_tags'] = df.progress_apply(lambda x: find_matches(x['tags'], x['TFIDF_stemmer_all']), axis=1)\n",
    "df['TFIDF_lemmatizer_all_x_tags'] = df.progress_apply(lambda x: find_matches(x['tags'], x['TFIDF_lemmatizer_all']), axis=1)"
   ]
  },
  {
   "cell_type": "code",
   "execution_count": 21,
   "id": "b0ab7b83",
   "metadata": {},
   "outputs": [],
   "source": [
    "TFIDF_stemmer_all_x_tags_acc = df.apply(lambda row: int(((len(row.TFIDF_stemmer_all_x_tags)/len(row.tags) if len(row.tags) != 0 else 0 ))*100), axis=1)\n",
    "TFIDF_lemmatizer_all_x_tags_acc = df.apply(lambda row: int(((len(row.TFIDF_lemmatizer_all_x_tags)/len(row.tags) if len(row.tags) != 0 else 0 ))*100), axis=1)"
   ]
  },
  {
   "cell_type": "code",
   "execution_count": 22,
   "id": "c7fe9fd4",
   "metadata": {},
   "outputs": [
    {
     "name": "stdout",
     "output_type": "stream",
     "text": [
      "55.79692623953796\n",
      "66.98316284078116\n"
     ]
    }
   ],
   "source": [
    "print(TFIDF_stemmer_all_x_tags_acc.mean())\n",
    "print(TFIDF_lemmatizer_all_x_tags_acc.mean())"
   ]
  },
  {
   "cell_type": "code",
   "execution_count": null,
   "id": "90155946",
   "metadata": {},
   "outputs": [],
   "source": []
  },
  {
   "cell_type": "markdown",
   "id": "aa2c8d8a",
   "metadata": {},
   "source": [
    "## Finding matches between all TF-IDF predictions and in_text tags"
   ]
  },
  {
   "cell_type": "code",
   "execution_count": 18,
   "id": "97c60be0",
   "metadata": {},
   "outputs": [
    {
     "name": "stderr",
     "output_type": "stream",
     "text": [
      "100%|██████████| 40862/40862 [01:22<00:00, 492.89it/s]\n",
      "100%|██████████| 40862/40862 [01:31<00:00, 447.48it/s]\n"
     ]
    }
   ],
   "source": [
    "df['TFIDF_stemmer_all_x_in_text'] = df.progress_apply(lambda x: find_matches(x['in_text'], x['TFIDF_stemmer_all']), axis=1)\n",
    "df['TFIDF_lemmatizer_all_x_in_text'] = df.progress_apply(lambda x: find_matches(x['in_text'], x['TFIDF_lemmatizer_all']), axis=1)"
   ]
  },
  {
   "cell_type": "code",
   "execution_count": 19,
   "id": "9f5361a0",
   "metadata": {},
   "outputs": [],
   "source": [
    "TFIDF_stemmer_all_x_in_text_acc = df.apply(lambda row: int(((len(row.TFIDF_stemmer_all_x_in_text)/len(row.in_text) if len(row.in_text) != 0 else -1 ))*100), axis=1)\n",
    "TFIDF_lemmatizer_all_x_in_text_acc = df.apply(lambda row: int(((len(row.TFIDF_lemmatizer_all_x_in_text)/len(row.in_text) if len(row.in_text) != 0 else -1 ))*100), axis=1)"
   ]
  },
  {
   "cell_type": "code",
   "execution_count": 20,
   "id": "7aa24c46",
   "metadata": {},
   "outputs": [
    {
     "name": "stdout",
     "output_type": "stream",
     "text": [
      "76.7309516750667\n",
      "90.401571301512\n"
     ]
    }
   ],
   "source": [
    "print(TFIDF_stemmer_all_x_in_text_acc[TFIDF_stemmer_all_x_in_text_acc >= 0].mean())\n",
    "print(TFIDF_lemmatizer_all_x_in_text_acc[TFIDF_lemmatizer_all_x_in_text_acc >= 0].mean())"
   ]
  },
  {
   "cell_type": "code",
   "execution_count": null,
   "id": "5772df41",
   "metadata": {},
   "outputs": [],
   "source": []
  },
  {
   "cell_type": "markdown",
   "id": "0a993544",
   "metadata": {},
   "source": [
    "## Finding matches between top 30  TF-IDF predictions and editor tags"
   ]
  },
  {
   "cell_type": "code",
   "execution_count": 23,
   "id": "c30e427a",
   "metadata": {},
   "outputs": [
    {
     "name": "stderr",
     "output_type": "stream",
     "text": [
      "100%|██████████| 40862/40862 [00:25<00:00, 1610.81it/s]\n",
      "100%|██████████| 40862/40862 [00:27<00:00, 1469.36it/s]\n"
     ]
    }
   ],
   "source": [
    "df['TFIDF_stemmer_30_x_tags'] = df.progress_apply(lambda x: find_matches(x['tags'], x['TFIDF_stemmer_30']), axis=1)\n",
    "df['TFIDF_lemmatizer_30_x_tags'] = df.progress_apply(lambda x: find_matches(x['tags'], x['TFIDF_lemmatizer_30']), axis=1)"
   ]
  },
  {
   "cell_type": "code",
   "execution_count": 24,
   "id": "8c800bee",
   "metadata": {},
   "outputs": [],
   "source": [
    "TFIDF_stemmer_30_x_tags_acc = df.apply(lambda row: int(((len(row.TFIDF_stemmer_30_x_tags)/len(row.tags) if len(row.tags) != 0 else 0 ))*100), axis=1)\n",
    "TFIDF_lemmatizer_30_x_tags_acc = df.apply(lambda row: int(((len(row.TFIDF_lemmatizer_30_x_tags)/len(row.tags) if len(row.tags) != 0 else 0 ))*100), axis=1)"
   ]
  },
  {
   "cell_type": "code",
   "execution_count": 25,
   "id": "58bd1a7f",
   "metadata": {},
   "outputs": [
    {
     "name": "stdout",
     "output_type": "stream",
     "text": [
      "31.29151779159121\n",
      "35.13039009348539\n"
     ]
    }
   ],
   "source": [
    "print(TFIDF_stemmer_30_x_tags_acc.mean())\n",
    "print(TFIDF_lemmatizer_30_x_tags_acc.mean())"
   ]
  },
  {
   "cell_type": "code",
   "execution_count": null,
   "id": "b8108f80",
   "metadata": {},
   "outputs": [],
   "source": []
  },
  {
   "cell_type": "markdown",
   "id": "e9ea54bb",
   "metadata": {},
   "source": [
    "## Finding matches between top 30 TF-IDF predictions and in_text tags"
   ]
  },
  {
   "cell_type": "code",
   "execution_count": 26,
   "id": "d69f134f",
   "metadata": {},
   "outputs": [
    {
     "name": "stderr",
     "output_type": "stream",
     "text": [
      "100%|██████████| 40862/40862 [00:17<00:00, 2354.98it/s]\n",
      "100%|██████████| 40862/40862 [00:18<00:00, 2182.84it/s]\n"
     ]
    }
   ],
   "source": [
    "df['TFIDF_stemmer_30_x_in_text'] = df.progress_apply(lambda x: find_matches(x['in_text'], x['TFIDF_stemmer_30']), axis=1)\n",
    "df['TFIDF_lemmatizer_30_x_in_text'] = df.progress_apply(lambda x: find_matches(x['in_text'], x['TFIDF_lemmatizer_30']), axis=1)"
   ]
  },
  {
   "cell_type": "code",
   "execution_count": 29,
   "id": "76e32461",
   "metadata": {},
   "outputs": [],
   "source": [
    "TFIDF_stemmer_30_x_in_text_acc = df.apply(lambda row: int(((len(row.TFIDF_stemmer_30_x_in_text)/len(row.in_text) if len(row.in_text) != 0 else -1 ))*100), axis=1)\n",
    "TFIDF_lemmatizer_30_x_in_text_acc = df.apply(lambda row: int(((len(row.TFIDF_lemmatizer_30_x_in_text)/len(row.in_text) if len(row.in_text) != 0 else -1 ))*100), axis=1)"
   ]
  },
  {
   "cell_type": "code",
   "execution_count": 30,
   "id": "a1735872",
   "metadata": {},
   "outputs": [
    {
     "name": "stdout",
     "output_type": "stream",
     "text": [
      "45.15268307144975\n",
      "49.81329676845538\n"
     ]
    }
   ],
   "source": [
    "print(TFIDF_stemmer_30_x_in_text_acc[TFIDF_stemmer_30_x_in_text_acc >= 0].mean())\n",
    "print(TFIDF_lemmatizer_30_x_in_text_acc[TFIDF_lemmatizer_30_x_in_text_acc >= 0].mean())"
   ]
  },
  {
   "cell_type": "code",
   "execution_count": null,
   "id": "4c28c8db",
   "metadata": {},
   "outputs": [],
   "source": []
  },
  {
   "cell_type": "markdown",
   "id": "612204ec",
   "metadata": {},
   "source": [
    "# Sample article"
   ]
  },
  {
   "cell_type": "code",
   "execution_count": 39,
   "id": "9d9ad969",
   "metadata": {},
   "outputs": [
    {
     "data": {
      "text/plain": [
       "'\"Hier ist Bayern\": Der BR Newsletter informiert Sie immer montags bis freitags zum Feierabend über das Wichtigste vom Tag auf einen Blick kompakt und direkt in Ihrem privaten Postfach. Hier gehts zur Anmeldung! Schon am Dienstag gab es im Iran eine erste feierliche Zeremonie: Der Oberste Führer Ayatollah Ali Khamenei bestätigte die Wahl von Ebrahim Raisi. Alle trugen Maske, saßen vorbildlich in ausreichendem Abstand zueinander. Und Raisi bedauerte: \"Höflichkeit und Respekt würden es jetzt eigentlich verlangen, dass ich die gesegnete Hand des Obersten Revolutionsführers küsse, nachdem er mich im Amt bestätigt hat. Aber in der aktuellen Situation wurde mir dieser Erfolg genommen.\"Corona nur eines der ProblemeErst Anfang der Woche erreichen die täglichen Corona-Neuinfektionen im Iran einen neuen Höchststand mit fast . Fällen. Insgesamt sind seit Beginn der Pandemie nach offiziellen Angaben mehr als . Menschen im Zusammenhang mit dem Virus gestorben. Raisi übernimmt das Land in einer extrem schweren Phase. Und dabei ist Corona nur eines von vielen großen Problemen. Die Wirtschaftskrise anzugehen, dürfte ganz oben auf seinem Aufgabenzettel stehen. Raisi erklärte: \"Es gibt dringende Probleme, mit denen die Regierung konfrontiert ist: Die Frage des Haushaltsdefizits, die Frage des Kapitalmarktes und der Stabilität des Aktienmarktes, die Frage der Inflationsbekämpfung, die Frage nach Corona, die unsere Bürger beunruhigt, die Frage von Wasser und Strom und vielen Bedürfnissen, die die Menschen haben.\"Stimmung ist angespanntEnde vergangenen Monats kam es in Khuzestan zu Protesten: Der Region im Südwesten des Iran geht das Wasser aus. In Nachbarprovinzen gingen Menschen aus Solidarität mit auf die Straßen. Es gab Zusammenstöße mit der Polizei. Menschenrechtler befürchten, dass Raisi als Präsident solche Demonstrationen noch rigoroser niederschlagen wird. Der -Jährige war schon in der Vergangenheit als Justizchef hart gegen Protest-Teilnehmer vorgegangen, etwa . Der konservative Journalist Mohammad Mohajeri hält das eher für unwahrscheinlich. Er weiß aber, dass Stimmung angespannt ist: \"Raisi hat angekündigt, die Lebensgrundlage der Menschen, die Wirtschaft und die Beziehungen unter den verschiedenen Bevölkerungsgruppen zu verbessern.\" Das habe die Gesellschaft auch aufgenommen. Und sie werde das in den nächsten vier bis sechs Monaten konkreter einfordern. \"Darauf wird er antworten müssen - was angesichts der wirtschaftlichen Situation des Landes definitiv nicht einfach sein wird.\"Allerdings hält sich der Optimismus bei den Iranern in Grenzen: \"Alle haben auf ihn gehofft, aber keiner kennt ihn und man weiß nicht, ob er ein Wunder bewirken und das Land aus diesem Inflationsloch holen kann\", sagt ein Passant. Und eine Frau pflichtet ihm bei: \"Die -jährige Geschichte unseres Landes zeigt uns, dass niemand die Situation ändern kann. Auch wenn er ein guter und ehrlicher Mensch sein mag, kann er nichts tun, weil wir einfach in einer grundlegend schlechten Situation sind.\"Zankapfel AtomabkommenExperten sehen keinen Weg vorbei am Atomabkommen von . In Wien laufen seit April die Verhandlungen über eine Wiederbelebung. Nur bei einem Erfolg heben die USA die Sanktionen, die der damalige Präsident Donald Trump erlassen hatte, wieder auf. Das weiß auch Raisi: \"Wir werden auf jeden Fall versuchen, zu erreichen, dass die unterdrückenden Sanktionen aufgehoben werden. Aber wir werden uns und unsere Wirtschaft nicht dem Willen von Ausländern unterwerfen\", sagte er dazu.Raisi lehnt das Abkommen nicht grundsätzlich ab. Experten wie der Teheraner Mohajeri gehen aber von einer schwereren Gesprächsatmosphäre und langwierigen Verhandlungen aus. Für Raisi dürfte es ein Spagat werden: Schließlich stehen auch die Hardliner hinter ihm - und die lehnen jegliche Gespräche mit den USA ab.'"
      ]
     },
     "execution_count": 39,
     "metadata": {},
     "output_type": "execute_result"
    }
   ],
   "source": [
    "df.iloc[0].clean_text"
   ]
  },
  {
   "cell_type": "code",
   "execution_count": 41,
   "id": "14b13a8c",
   "metadata": {},
   "outputs": [
    {
     "data": {
      "text/plain": [
       "array(['Raisi', 'Frage', 'Mensch', 'Land', 'Situation', 'weiß', 'geben',\n",
       "       'Iran', 'gehen', 'Monat', 'sagen', 'stehen', 'Fall', 'Verhandlung',\n",
       "       'USA', 'schwer', 'Sanktion', 'Wasser', 'halten', 'lehnen',\n",
       "       'Mohajeri', 'bestätigen', 'Präsident', 'Problem', 'Erfolg', 'seit',\n",
       "       'einfach', 'ab', 'dürfen', 'erreichen'], dtype=object)"
      ]
     },
     "execution_count": 41,
     "metadata": {},
     "output_type": "execute_result"
    }
   ],
   "source": [
    "df.iloc[0].TFIDF_lemmatizer_30"
   ]
  },
  {
   "cell_type": "code",
   "execution_count": 43,
   "id": "7460ecf6",
   "metadata": {},
   "outputs": [
    {
     "data": {
      "text/plain": [
       "array(['Ayatollah Ali Khamenei', 'Amtseinführung', 'Iran', 'Präsident',\n",
       "       'Ebrahim Raisi'], dtype=object)"
      ]
     },
     "execution_count": 43,
     "metadata": {},
     "output_type": "execute_result"
    }
   ],
   "source": [
    "df.iloc[0].tags"
   ]
  },
  {
   "cell_type": "code",
   "execution_count": null,
   "id": "268a974d",
   "metadata": {},
   "outputs": [],
   "source": []
  }
 ],
 "metadata": {
  "environment": {
   "name": "common-cpu.m65",
   "type": "gcloud",
   "uri": "gcr.io/deeplearning-platform-release/base-cpu:m65"
  },
  "kernelspec": {
   "display_name": "Python 3",
   "language": "python",
   "name": "python3"
  },
  "language_info": {
   "codemirror_mode": {
    "name": "ipython",
    "version": 3
   },
   "file_extension": ".py",
   "mimetype": "text/x-python",
   "name": "python",
   "nbconvert_exporter": "python",
   "pygments_lexer": "ipython3",
   "version": "3.7.10"
  }
 },
 "nbformat": 4,
 "nbformat_minor": 5
}
