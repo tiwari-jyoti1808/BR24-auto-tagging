{
 "cells": [
  {
   "cell_type": "markdown",
   "id": "30d04833",
   "metadata": {},
   "source": [
    "# German news data set has been retrieved from Kaagle (https://www.kaggle.com/pqbsbk/german-news-dataset)"
   ]
  },
  {
   "cell_type": "markdown",
   "id": "36defa97",
   "metadata": {},
   "source": [
    "# This notebook evaluates our best in_text and out_of_text tag prediction approach on the Kaggle data set"
   ]
  },
  {
   "cell_type": "markdown",
   "id": "46c5fcdd",
   "metadata": {},
   "source": [
    "# /data/archive.zip is the Kaggle data set"
   ]
  },
  {
   "cell_type": "code",
   "execution_count": null,
   "id": "df55345b",
   "metadata": {},
   "outputs": [],
   "source": []
  },
  {
   "cell_type": "code",
   "execution_count": 1,
   "id": "3e5787e6",
   "metadata": {},
   "outputs": [],
   "source": [
    "import zipfile\n",
    "with zipfile.ZipFile('../data/archive.zip', 'r') as zip_ref:\n",
    "    zip_ref.extractall('../data/kaggle')"
   ]
  },
  {
   "cell_type": "code",
   "execution_count": 2,
   "id": "79ca4a3f",
   "metadata": {},
   "outputs": [],
   "source": [
    "import pickle as pk\n",
    "import pandas as pd\n",
    "import re\n",
    "from collections import Counter\n",
    "import matplotlib.pyplot as plt\n",
    "\n",
    "from tqdm import tqdm\n",
    "tqdm.pandas()"
   ]
  },
  {
   "cell_type": "code",
   "execution_count": 92,
   "id": "bc73ad6d",
   "metadata": {},
   "outputs": [],
   "source": [
    "data = pd.read_csv(\"../data/kaggle/data.csv\")"
   ]
  },
  {
   "cell_type": "code",
   "execution_count": 93,
   "id": "a26bf6e9",
   "metadata": {},
   "outputs": [
    {
     "data": {
      "text/plain": [
       "(174939, 6)"
      ]
     },
     "execution_count": 93,
     "metadata": {},
     "output_type": "execute_result"
    }
   ],
   "source": [
    "data.shape"
   ]
  },
  {
   "cell_type": "code",
   "execution_count": null,
   "id": "e227d8b4",
   "metadata": {},
   "outputs": [],
   "source": []
  },
  {
   "cell_type": "markdown",
   "id": "f428d256",
   "metadata": {},
   "source": [
    "# Remove entries with invalid values"
   ]
  },
  {
   "cell_type": "code",
   "execution_count": 94,
   "id": "ca702729",
   "metadata": {},
   "outputs": [],
   "source": [
    "data = data[data['text'].notnull()] # where no text is present\n",
    "data = data[data['tags'] != 'set()'] # where no tags are present\n",
    "data = data[data['source'] != 'bild'] # where article source is an image as tags for these entries are gibbersih"
   ]
  },
  {
   "cell_type": "code",
   "execution_count": 95,
   "id": "1f1164dd",
   "metadata": {},
   "outputs": [
    {
     "data": {
      "text/plain": [
       "(102926, 6)"
      ]
     },
     "execution_count": 95,
     "metadata": {},
     "output_type": "execute_result"
    }
   ],
   "source": [
    "data.shape"
   ]
  },
  {
   "cell_type": "code",
   "execution_count": null,
   "id": "c7d767c3",
   "metadata": {},
   "outputs": [],
   "source": []
  },
  {
   "cell_type": "markdown",
   "id": "15c5316d",
   "metadata": {},
   "source": [
    "# In Kaggle data set tags are stored as a continuous string. Whereas in we need tags to be stored as a list of strings"
   ]
  },
  {
   "cell_type": "code",
   "execution_count": 96,
   "id": "e82d09c4",
   "metadata": {},
   "outputs": [],
   "source": [
    "data['tags'] = data['tags'].str.split(',')"
   ]
  },
  {
   "cell_type": "code",
   "execution_count": 97,
   "id": "3697f340",
   "metadata": {},
   "outputs": [],
   "source": [
    "data = data[data['tags'].str.len() > 3] # filter to consider entries with more than 3 tags"
   ]
  },
  {
   "cell_type": "code",
   "execution_count": null,
   "id": "6485ae85",
   "metadata": {},
   "outputs": [],
   "source": []
  },
  {
   "cell_type": "markdown",
   "id": "1d37fbaf",
   "metadata": {},
   "source": [
    "# We evaluated our approach on a subset on 1000 entires"
   ]
  },
  {
   "cell_type": "code",
   "execution_count": 99,
   "id": "ca497a6a",
   "metadata": {},
   "outputs": [],
   "source": [
    "df = data.sample(n=1000)"
   ]
  },
  {
   "cell_type": "code",
   "execution_count": 125,
   "id": "92aaf9e4",
   "metadata": {},
   "outputs": [],
   "source": [
    "def separate_in_text_tags(row):\n",
    "    \"\"\"\n",
    "    Separate tags into in_text and out_of_text tags for evaluation purposes\n",
    "    \n",
    "    :param row: row entry in the dataframe\n",
    "    :returns: list of in_text tags\n",
    "    \"\"\"\n",
    "    tags_in_text = []\n",
    "    for tag in row.tags:\n",
    "        if tag in row.clean_text:\n",
    "            tags_in_text.append(tag)\n",
    "    return tags_in_text"
   ]
  },
  {
   "cell_type": "code",
   "execution_count": 126,
   "id": "9d8be10b",
   "metadata": {},
   "outputs": [
    {
     "name": "stderr",
     "output_type": "stream",
     "text": [
      "100%|██████████| 1000/1000 [00:00<00:00, 12634.89it/s]\n",
      "100%|██████████| 1000/1000 [00:00<00:00, 15424.09it/s]\n"
     ]
    }
   ],
   "source": [
    "df['in_text'] = df.progress_apply(separate_in_text_tags, axis=1)\n",
    "df['out_of_text'] = df.progress_apply(lambda row: [word for word in row.tags if word not in row.in_text], axis=1)"
   ]
  },
  {
   "cell_type": "code",
   "execution_count": null,
   "id": "148c6774",
   "metadata": {},
   "outputs": [],
   "source": []
  },
  {
   "cell_type": "markdown",
   "id": "8eedb6d3",
   "metadata": {},
   "source": [
    "# Preprocessing"
   ]
  },
  {
   "cell_type": "code",
   "execution_count": 102,
   "id": "bb792e15",
   "metadata": {},
   "outputs": [],
   "source": [
    "def preprocessing_embeddings(text):\n",
    "    \"\"\"\n",
    "    1. Replace HTML tags with punctuations\n",
    "    2. Remove digits in given text as they would interfere with tf-idf\n",
    "    3. Remove single characters in given text\n",
    "    4. Reduce multiple spaces in given text to single space\n",
    "    \n",
    "    :param text: raw string\n",
    "    :return: preprocessed string\n",
    "    \"\"\"\n",
    "    \n",
    "    # 1. Removes punctuations and '&quote;' in given text\n",
    "    text = text.replace(\"&quot;\", '\\\"')\n",
    "    text = text.replace(\"’\", '')\n",
    "    text = text.replace(\"–\", '')\n",
    "    \n",
    "    # 2. Remove digits in given text\n",
    "    RE_DIGITS = re.compile(r\"\\d+\", re.IGNORECASE)\n",
    "    text = re.sub(RE_DIGITS, \" \", str(text))\n",
    "    \n",
    "    # 3. Remove single characters in given text\n",
    "    RE_SINGLECHAR = re.compile(r\"\\b[A-Za-z]\\b\", re.IGNORECASE)\n",
    "    text = re.sub(RE_SINGLECHAR, \" \", str(text))\n",
    "    \n",
    "    # 4. Reduce multiple spaces in given text to single space\n",
    "    RE_WSPACE = re.compile(r\"\\s+\", re.IGNORECASE)\n",
    "    text = re.sub(RE_WSPACE, \" \", str(text))\n",
    "    \n",
    "    return text"
   ]
  },
  {
   "cell_type": "code",
   "execution_count": 103,
   "id": "d2f4f79b",
   "metadata": {},
   "outputs": [],
   "source": [
    "df['clean_text'] = df['text'].map(lambda x: preprocessing_embeddings(x))"
   ]
  },
  {
   "cell_type": "code",
   "execution_count": null,
   "id": "a6e2cccb",
   "metadata": {},
   "outputs": [],
   "source": []
  },
  {
   "cell_type": "markdown",
   "id": "10306112",
   "metadata": {},
   "source": [
    "# In-text tag prediction"
   ]
  },
  {
   "cell_type": "code",
   "execution_count": 15,
   "id": "281bec63",
   "metadata": {},
   "outputs": [],
   "source": [
    "#!pip install spacy\n",
    "#!python -m spacy download de_core_news_sm"
   ]
  },
  {
   "cell_type": "code",
   "execution_count": 105,
   "id": "97f7fd13",
   "metadata": {},
   "outputs": [],
   "source": [
    "import spacy\n",
    "nlp = spacy.load('de_core_news_sm')"
   ]
  },
  {
   "cell_type": "code",
   "execution_count": null,
   "id": "5a52010e",
   "metadata": {},
   "outputs": [],
   "source": []
  },
  {
   "cell_type": "markdown",
   "id": "282deafd",
   "metadata": {},
   "source": [
    "# Step 1: Entity Extraction"
   ]
  },
  {
   "cell_type": "code",
   "execution_count": 106,
   "id": "f269d2d5",
   "metadata": {},
   "outputs": [
    {
     "name": "stderr",
     "output_type": "stream",
     "text": [
      "100%|██████████| 1000/1000 [01:53<00:00,  8.85it/s]\n"
     ]
    }
   ],
   "source": [
    "df['tokenised_text'] = df['clean_text'].progress_apply(nlp)\n",
    "\n",
    "pos_required = ['NOUN', 'PROPN']\n",
    "\n",
    "df['nouns'] = df['tokenised_text'].progress_apply(lambda x: ','.join(str(word.orth_) for word in x if word.pos_ in pos_required))\n",
    "df['nouns'] = [list(set(x.strip().split(','))) for x in df['nouns']]\n",
    "\n",
    "ner_required = ['PER', 'ORG', 'LOC', 'MISC']\n",
    "\n",
    "df['ner'] = df['tokenised_text'].progress_apply(lambda x: ','.join(str(word.text) for word in x.ents if word.label_ in ner_required))\n",
    "df['ner'] = [list(set(x.strip().split(','))) for x in df['ner']]\n",
    "\n",
    "stopwords = ['Tag', 'Tage', 'Tagen', 'Ihrem', 'BR -Newsletter', 'BR', 'Woche', 'Menschen', 'Wichtigste', 'Personen', 'Jahr', 'Jahren', 'Teil', 'Stadt'] + ['Spricht ', 'Bayern', 'Br24', 'Newsletter', 'Br24-newsletter', 'Br-kultur', 'Informiert', 'Montag', 'Montags', 'Dienstag', 'Dienstags', 'Mittwoch', 'Mittwochs', 'Donnerstag', 'Donnerstags', 'Freitag', 'Freitags ', 'Feierabend', 'Wichtig', 'Wichtigste', 'Blick', 'Kompakt', 'Direkt', 'Privaten ', 'Postfach', 'Anmeldung', 'Quot', 'Ab', 'Aber', 'Abermaliges', 'Abermals', 'Abgerufen', 'Abgerufene', 'Abgerufener', 'Abgerufenes', 'Abgesehen', 'Acht', 'Aehnlich', 'Aehnliche', 'Aehnlichem', 'Aehnlichen', 'Aehnlicher', 'Aehnliches', 'Aehnlichste', 'Aehnlichstem', 'Aehnlichsten', 'Aehnlichster', 'Aehnlichstes', 'Aeusserst', 'Aeusserste', 'Aeusserstem', 'Aeussersten', 'Aeusserster', 'Aeusserstes', 'Ähnlich', 'Ähnliche', 'Ähnlichem', 'Ähnlichen', 'Ähnlicher', 'Ähnliches', 'Ähnlichst', 'Ähnlichste', 'Ähnlichstem', 'Ähnlichsten', 'Ähnlichster', 'Ähnlichstes', 'Alle', 'Allein', 'Alleine', 'Allem', 'Allemal', 'Allen', 'Allenfalls', 'Allenthalben', 'Aller', 'Allerdings', 'Allerlei', 'Alles', 'Allesamt', 'Allg', 'Allg.', 'Allgemein', 'Allgemeine', 'Allgemeinem', 'Allgemeinen', 'Allgemeiner', 'Allgemeines', 'Allgemeinste', 'Allgemeinstem', 'Allgemeinsten', 'Allgemeinster', 'Allgemeinstes', 'Allmählich', 'Allzeit', 'Allzu', 'Als', 'Alsbald', 'Also', 'Am', 'An', 'And', 'Andauernd', 'Andauernde', 'Andauerndem', 'Andauernden', 'Andauernder', 'Andauerndes', 'Ander', 'Andere', 'Anderem', 'Anderen', 'Anderenfalls', 'Anderer', 'Andererseits', 'Anderes', 'Anderm', 'Andern', 'Andernfalls', 'Anderr', 'Anders', 'Anderst', 'Anderweitig', 'Anderweitige', 'Anderweitigem', 'Anderweitigen', 'Anderweitiger', 'Anderweitiges', 'Anerkannt', 'Anerkannte', 'Anerkannter', 'Anerkanntes', 'Anfangen', 'Anfing', 'Angefangen', 'Angesetze', 'Angesetzt', 'Angesetzten', 'Angesetzter', 'Ans', 'Anscheinend', 'Ansetzen', 'Ansonst', 'Ansonsten', 'Anstatt', 'Anstelle', 'Arbeiten', 'Auch', 'Auf', 'Aufgehört', 'Aufgrund', 'Aufhören', 'Aufhörte', 'Aufzusuchen', 'Augenscheinlich', 'Augenscheinliche', 'Augenscheinlichem', 'Augenscheinlichen', 'Augenscheinlicher', 'Augenscheinliches', 'Augenscheinlichst', 'Augenscheinlichste', 'Augenscheinlichstem', 'Augenscheinlichsten', 'Augenscheinlichster', 'Augenscheinlichstes', 'Aus', 'Ausdrücken', 'Ausdrücklich', 'Ausdrückliche', 'Ausdrücklichem', 'Ausdrücklichen', 'Ausdrücklicher', 'Ausdrückliches', 'Ausdrückt', 'Ausdrückte', 'Ausgenommen', 'Ausgenommene', 'Ausgenommenem', 'Ausgenommenen', 'Ausgenommener', 'Ausgenommenes', 'Ausgerechnet', 'Ausgerechnete', 'Ausgerechnetem', 'Ausgerechneten', 'Ausgerechneter', 'Ausgerechnetes', 'Ausnahmslos', 'Ausnahmslose', 'Ausnahmslosem', 'Ausnahmslosen', 'Ausnahmsloser', 'Ausnahmsloses', 'Außen', 'Ausser', 'Ausserdem', 'Außerhalb', 'Äusserst', 'Äusserste', 'Äusserstem', 'Äussersten', 'Äusserster', 'Äusserstes', 'Author', 'Autor', 'Baelde', 'Bald', 'Bälde', 'Bearbeite', 'Bearbeiten', 'Bearbeitete', 'Bearbeiteten', 'Bedarf', 'Bedürfen', 'Bedurfte', 'Been', 'Befahl', 'Befiehlt', 'Befiehlte', 'Befohlene', 'Befohlens', 'Befragen', 'Befragte', 'Befragten', 'Befragter', 'Begann', 'Beginnen', 'Begonnen', 'Behalten', 'Behielt', 'Bei', 'Beide', 'Beidem', 'Beiden', 'Beider', 'Beiderlei', 'Beides', 'Beim', 'Beinahe', 'Beisammen', 'Beispielsweise', 'Beitragen', 'Beitrugen', 'Bekannt', 'Bekannte', 'Bekannter', 'Bekanntlich', 'Bekanntliche', 'Bekanntlichem', 'Bekanntlichen', 'Bekanntlicher', 'Bekanntliches', 'Bekennen', 'Benutzt', 'Bereits', 'Berichten', 'Berichtet', 'Berichtete', 'Berichteten', 'Besonders', 'Besser', 'Bessere', 'Besserem', 'Besseren', 'Besserer', 'Besseres', 'Bestehen', 'Besteht', 'Bestenfalls', 'Bestimmt', 'Bestimmte', 'Bestimmtem', 'Bestimmten', 'Bestimmter', 'Bestimmtes', 'Beträchtlich', 'Beträchtliche', 'Beträchtlichem', 'Beträchtlichen', 'Beträchtlicher', 'Beträchtliches', 'Betraechtlich', 'Betraechtliche', 'Betraechtlichem', 'Betraechtlichen', 'Betraechtlicher', 'Betraechtliches', 'Betreffend', 'Betreffende', 'Betreffendem', 'Betreffenden', 'Betreffender', 'Betreffendes', 'Bevor', 'Bez', 'Bez.', 'Bezgl', 'Bezgl.', 'Bezueglich', 'Bezüglich', 'Bietet', 'Bin', 'Bis', 'Bisher', 'Bisherige', 'Bisherigem', 'Bisherigen', 'Bisheriger', 'Bisheriges', 'Bislang', 'Bisschen', 'Bist', 'Bitte', 'Bleiben', 'Bleibt', 'Blieb', 'Bloss', 'Böden', 'Boeden', 'Brachte', 'Brachten', 'Brauchen', 'Braucht', 'Bräuchte', 'Bringen', 'Bsp', 'Bsp.', 'Bspw', 'Bspw.', 'Bzw', 'Bzw.', 'Ca', 'Ca.', 'Circa', 'Da', 'Dabei', 'Dadurch', 'Dafuer', 'Dafür', 'Dagegen', 'Daher', 'Dahin', 'Dahingehend', 'Dahingehende', 'Dahingehendem', 'Dahingehenden', 'Dahingehender', 'Dahingehendes', 'Dahinter', 'Damalige', 'Damaligem', 'Damaligen', 'Damaliger', 'Damaliges', 'Damals', 'Damit', 'Danach', 'Daneben', 'Dank', 'Danke', 'Danken', 'Dann', 'Dannen', 'Daran', 'Darauf', 'Daraus', 'Darf', 'Darfst', 'Darin', 'Darüber', 'Darüberhinaus', 'Darueber', 'Darueberhinaus', 'Darum', 'Darunter', 'Das', 'Daß', 'Dass', 'Dasselbe', 'Dat', 'Davon', 'Davor', 'Dazu', 'Dazwischen', 'Dein', 'Deine', 'Deinem', 'Deinen', 'Deiner', 'Deines', 'Dem', 'Demgegenüber', 'Demgegenueber', 'Demgemaess', 'Demgemäss', 'Demnach', 'Demselben', 'Den', 'Denen', 'Denkbar', 'Denkbare', 'Denkbarem', 'Denkbaren', 'Denkbarer', 'Denkbares', 'Denn', 'Dennoch', 'Denselben', 'Der', 'Derart', 'Derartig', 'Derartige', 'Derartigem', 'Derartigen', 'Derartiger', 'Derem', 'Deren', 'Derer', 'Derjenige', 'Derjenigen', 'Derselbe', 'Derselben', 'Derzeit', 'Derzeitig', 'Derzeitige', 'Derzeitigem', 'Derzeitigen', 'Derzeitiges', 'Des', 'Deshalb', 'Desselben', 'Dessen', 'Dessenungeachtet', 'Desto', 'Desungeachtet', 'Deswegen', 'Dich', 'Die', 'Diejenige', 'Diejenigen', 'Dies', 'Diese', 'Dieselbe', 'Dieselben', 'Diesem', 'Diesen', 'Dieser', 'Dieses', 'Diesseitig', 'Diesseitige', 'Diesseitigem', 'Diesseitigen', 'Diesseitiger', 'Diesseitiges', 'Diesseits', 'Dinge', 'Dir', 'Direkt', 'Direkte', 'Direkten', 'Direkter', 'Doch', 'Doppelt', 'Dort', 'Dorther', 'Dorthin', 'Dr', 'Dr.', 'Dran', 'Drauf', 'Drei', 'Dreißig', 'Drin', 'Dritte', 'Drüber', 'Drueber', 'Drum', 'Drunter', 'Du', 'Duerfte', 'Duerften', 'Duerftest', 'Duerftet', 'Dunklen', 'Durch', 'Durchaus', 'Durchweg', 'Durchwegs', 'Dürfen', 'Durfte', 'Dürfte', 'Durften', 'Dürften', 'Durftest', 'Dürftest', 'Durftet', 'Dürftet', 'Eben', 'Ebenfalls', 'Ebenso', 'Ect', 'Ect.', 'Ehe', 'Eher', 'Eheste', 'Ehestem', 'Ehesten', 'Ehester', 'Ehestes', 'Eigen', 'Eigene', 'Eigenem', 'Eigenen', 'Eigener', 'Eigenes', 'Eigenst', 'Eigentlich', 'Eigentliche', 'Eigentlichem', 'Eigentlichen', 'Eigentlicher', 'Eigentliches', 'Ein', 'Einbaün', 'Eine', 'Einem', 'Einen', 'Einer', 'Einerlei', 'Einerseits', 'Eines', 'Einfach', 'Einführen', 'Einführte', 'Einführten', 'Eingesetzt', 'Einig', 'Einige', 'Einigem', 'Einigen', 'Einiger', 'Einigermaßen', 'Einiges', 'Einmal', 'Einmalig', 'Einmalige', 'Einmaligem', 'Einmaligen', 'Einmaliger', 'Einmaliges', 'Eins', 'Einseitig', 'Einseitige', 'Einseitigen', 'Einseitiger', 'Einst', 'Einstmals', 'Einzig', 'Empfunden', 'Ende', 'Entgegen', 'Entlang', 'Entsprechend', 'Entsprechende', 'Entsprechendem', 'Entsprechenden', 'Entsprechender', 'Entsprechendes', 'Entweder', 'Er', 'Ergänze', 'Ergänzen', 'Ergänzte', 'Ergänzten', 'Ergo', 'Erhält', 'Erhalten', 'Erhielt', 'Erhielten', 'Erneut', 'Eröffne', 'Eröffnen', 'Eröffnet', 'Eröffnete', 'Eröffnetes', 'Erscheinen', 'Erst', 'Erste', 'Erstem', 'Ersten', 'Erster', 'Erstere', 'Ersterem', 'Ersteren', 'Ersterer', 'Ersteres', 'Erstes', 'Es', 'Etc', 'Etc.', 'Etliche', 'Etlichem', 'Etlichen', 'Etlicher', 'Etliches', 'Etwa', 'Etwaige', 'Etwas', 'Euch', 'Euer', 'Eure', 'Eurem', 'Euren', 'Eurer', 'Eures', 'Euretwegen', 'Fall', 'Falls', 'Fand', 'Fast', 'Ferner', 'Fertig', 'Finde', 'Finden', 'Findest', 'Findet', 'Folgend', 'Folgende', 'Folgendem', 'Folgenden', 'Folgender', 'Folgendermassen', 'Folgendes', 'Folglich', 'For', 'Fordern', 'Fordert', 'Forderte', 'Forderten', 'Fort', 'Fortsetzen', 'Fortsetzt', 'Fortsetzte', 'Fortsetzten', 'Fragte', 'Frau', 'Frei', 'Freie', 'Freier', 'Freies', 'Fuer', 'Fuers', 'Fünf', 'Für', 'Fürs', 'Gab', 'Gaenzlich', 'Gaenzliche', 'Gaenzlichem', 'Gaenzlichen', 'Gaenzlicher', 'Gaenzliches', 'Gängig', 'Gängige', 'Gängigen', 'Gängiger', 'Gängiges', 'Ganz', 'Ganze', 'Ganzem', 'Ganzen', 'Ganzer', 'Ganzes', 'Gänzlich', 'Gänzliche', 'Gänzlichem', 'Gänzlichen', 'Gänzlicher', 'Gänzliches', 'Gar', 'Gbr', 'Geb', 'Geben', 'Geblieben', 'Gebracht', 'Gedurft', 'Geehrt', 'Geehrte', 'Geehrten', 'Geehrter', 'Gefallen', 'Gefälligst', 'Gefällt', 'Gefiel', 'Gegeben', 'Gegen', 'Gegenüber', 'Gegenueber', 'Gehabt', 'Gehalten', 'Gehen', 'Geht', 'Gekommen', 'Gekonnt', 'Gemacht', 'Gemaess', 'Gemäss', 'Gemeinhin', 'Gemocht', 'Genau', 'Genommen', 'Genug', 'Gepriesener', 'Gepriesenes', 'Gerade', 'Gern', 'Gesagt', 'Gesehen', 'Gestern', 'Gestrige', 'Getan', 'Geteilt', 'Geteilte', 'Getragen', 'Getrennt', 'Gewesen', 'Gewiss', 'Gewisse', 'Gewissem', 'Gewissen', 'Gewisser', 'Gewissermaßen', 'Gewisses', 'Gewollt', 'Geworden', 'Ggf', 'Ggf.', 'Gib', 'Gibt', 'Gilt', 'Gleich', 'Gleiche', 'Gleichem', 'Gleichen', 'Gleicher', 'Gleiches', 'Gleichsam', 'Gleichste', 'Gleichstem', 'Gleichsten', 'Gleichster', 'Gleichstes', 'Gleichwohl', 'Gleichzeitig', 'Gleichzeitige', 'Gleichzeitigem', 'Gleichzeitigen', 'Gleichzeitiger', 'Gleichzeitiges', 'Glücklicherweise', 'Gluecklicherweise', 'Gmbh', 'Gottseidank', 'Gratulieren', 'Gratuliert', 'Gratulierte', 'Groesstenteils', 'Grösstenteils', 'Gruendlich', 'Gründlich', 'Gut', 'Gute', 'Guten', 'Hab', 'Habe', 'Haben', 'Habt', 'Haette', 'Haeufig', 'Haeufige', 'Haeufigem', 'Haeufigen', 'Haeufiger', 'Haeufigere', 'Haeufigeren', 'Haeufigerer', 'Haeufigeres', 'Halb', 'Hallo', 'Halten', 'Hast', 'Hat', 'Hätt', 'Hatte', 'Hätte', 'Hatten', 'Hätten', 'Hattest', 'Hattet', 'Häufig', 'Häufige', 'Häufigem', 'Häufigen', 'Häufiger', 'Häufigere', 'Häufigeren', 'Häufigerer', 'Häufigeres', 'Hen', 'Her', 'Herr', 'Heraus', 'Herein', 'Herum', 'Heute', 'Heutige', 'Heutigem', 'Heutigen', 'Heutiger', 'Heutiges', 'Hier', 'Hierbei', 'Hiermit', 'Hiesige', 'Hiesigem', 'Hiesigen', 'Hiesiger', 'Hiesiges', 'Hin', 'Hindurch', 'Hinein', 'Hingegen', 'Hinlanglich', 'Hinlänglich', 'Hinten', 'Hintendran', 'Hinter', 'Hinterher', 'Hinterm', 'Hintern', 'Hinunter', 'Hoch', 'Höchst', 'Höchstens', 'Http', 'Hundert', 'Ich', 'Igitt', 'Ihm', 'Ihn', 'Ihnen', 'Ihr', 'Ihre', 'Ihrem', 'Ihren', 'Ihrer', 'Ihres', 'Ihretwegen', 'Ihrige', 'Ihrigen', 'Ihriges', 'Im', 'Immer', 'Immerhin', 'Immerwaehrend', 'Immerwaehrende', 'Immerwaehrendem', 'Immerwaehrenden', 'Immerwaehrender', 'Immerwaehrendes', 'Immerwährend', 'Immerwährende', 'Immerwährendem', 'Immerwährenden', 'Immerwährender', 'Immerwährendes', 'Immerzu', 'Important', 'In', 'Indem', 'Indessen', 'Inf.', 'Info', 'Infolge', 'Infolgedessen', 'Information', 'Innen', 'Innerhalb', 'Innerlich', 'Ins', 'Insbesondere', 'Insgeheim', 'Insgeheime', 'Insgeheimer', 'Insgesamt', 'Insgesamte', 'Insgesamter', 'Insofern', 'Inzwischen', 'Irgend', 'Irgendein', 'Irgendeine', 'Irgendeinem', 'Irgendeiner', 'Irgendeines', 'Irgendetwas', 'Irgendjemand', 'Irgendjemandem', 'Irgendwann', 'Irgendwas', 'Irgendwelche', 'Irgendwen', 'Irgendwenn', 'Irgendwer', 'Irgendwie', 'Irgendwo', 'Irgendwohin', 'Ist', 'Ja', 'Jaehrig', 'Jaehrige', 'Jaehrigem', 'Jaehrigen', 'Jaehriger', 'Jaehriges', 'Jährig', 'Jährige', 'Jährigem', 'Jährigen', 'Jähriges', 'Je', 'Jede', 'Jedem', 'Jeden', 'Jedenfalls', 'Jeder', 'Jederlei', 'Jedes', 'Jedesmal', 'Jedoch', 'Jeglichem', 'Jeglichen', 'Jeglicher', 'Jegliches', 'Jemals', 'Jemand', 'Jemandem', 'Jemanden', 'Jemandes', 'Jene', 'Jenem', 'Jenen', 'Jener', 'Jenes', 'Jenseitig', 'Jenseitigem', 'Jenseitiger', 'Jenseits', 'Jetzt', 'Jung', 'Junge', 'Jungem', 'Jungen', 'Junger', 'Junges', 'Kaeumlich', 'Kam', 'Kann', 'Kannst', 'Kaum', 'Käumlich', 'Kein', 'Keine', 'Keinem', 'Keinen', 'Keiner', 'Keinerlei', 'Keines', 'Keineswegs', 'Klar', 'Klare', 'Klaren', 'Klares', 'Klein', 'Kleinen', 'Kleiner', 'Kleines', 'Koennen', 'Koennt', 'Koennte', 'Koennten', 'Koenntest', 'Koenntet', 'Komme', 'Kommen', 'Kommt', 'Konkret', 'Konkrete', 'Konkreten', 'Konkreter', 'Konkretes', 'Könn', 'Können', 'Könnt', 'Konnte', 'Könnte', 'Konnten', 'Könnten', 'Konntest', 'Könntest', 'Konntet', 'Könntet', 'Kuenftig', 'Kuerzlich', 'Kuerzlichst', 'Künftig', 'Kürzlich', 'Kürzlichst', 'Laengst', 'Lag', 'Lagen', 'Langsam', 'Längst', 'Längstens', 'Lassen', 'Laut', 'Lediglich', 'Leer', 'Legen', 'Legte', 'Legten', 'Leicht', 'Leider', 'Lesen', 'Letze', 'Letzte', 'Letzten', 'Letztendlich', 'Letztens', 'Letztere', 'Letzterem', 'Letzterer', 'Letzteres', 'Letztes', 'Letztlich', 'Lichten', 'Liegt', 'Liest', 'Links', 'Mache', 'Machen', 'Machst', 'Macht', 'Machte', 'Machten', 'Mag', 'Magst', 'Mal', 'Man', 'Manch', 'Manche', 'Manchem', 'Manchen', 'Mancher', 'Mancherlei', 'Mancherorts', 'Manches', 'Manchmal', 'Mann', 'Margin', 'Massgebend', 'Massgebende', 'Massgebendem', 'Massgebenden', 'Massgebender', 'Massgebendes', 'Massgeblich', 'Massgebliche', 'Massgeblichem', 'Massgeblichen', 'Massgeblicher', 'Mehr', 'Mehrere', 'Mehrerer', 'Mehrfach', 'Mehrmalig', 'Mehrmaligem', 'Mehrmaliger', 'Mehrmaliges', 'Mein', 'Meine', 'Meinem', 'Meinen', 'Meiner', 'Meines', 'Meinetwegen', 'Meins', 'Meist', 'Meiste', 'Meisten', 'Meistens', 'Meistenteils', 'Meta', 'Mich', 'Mindestens', 'Mir', 'Mit', 'Miteinander', 'Mitgleich', 'Mithin', 'Mitnichten', 'Mittels', 'Mittelst', 'Mitten', 'Mittig', 'Mitunter', 'Mitwohl', 'Mochte', 'Möchte', 'Möchten', 'Möchtest', 'Moechte', 'Moeglich', 'Moeglichst', 'Moeglichste', 'Moeglichstem', 'Moeglichsten', 'Moeglichster', 'Mögen', 'Möglich', 'Mögliche', 'Möglichen', 'Möglicher', 'Möglicherweise', 'Möglichst', 'Möglichste', 'Möglichstem', 'Möglichsten', 'Möglichster', 'Morgen', 'Morgige', 'Muessen', 'Muesst', 'Muesste', 'Muss', 'Müssen', 'Musst', 'Müßt', 'Musste', 'Müsste', 'Mussten', 'Müssten', 'Nach', 'Nachdem', 'Nacher', 'Nachher', 'Nachhinein', 'Nächste', 'Nacht', 'Naechste', 'Naemlich', 'Nahm', 'Nämlich', 'Naturgemaess', 'Naturgemäss', 'Natürlich', 'Ncht', 'Neben', 'Nebenan', 'Nehmen', 'Nein', 'Neu', 'Neue', 'Neuem', 'Neuen', 'Neuer', 'Neuerdings', 'Neuerlich', 'Neuerliche', 'Neuerlichem', 'Neuerlicher', 'Neuerliches', 'Neues', 'Neulich', 'Neun', 'Nicht', 'Nichts', 'Nichtsdestotrotz', 'Nichtsdestoweniger', 'Nie', 'Niemals', 'Niemand', 'Niemandem', 'Niemanden', 'Niemandes', 'Nimm', 'Nimmer', 'Nimmt', 'Nirgends', 'Nirgendwo', 'Noch', 'Noetigenfalls', 'Nötigenfalls', 'Nun', 'Nur', 'Nutzen', 'Nutzt', 'Nützt', 'Nutzung', 'Ob', 'Oben', 'Ober', 'Oberen', 'Oberer', 'Oberhalb', 'Oberste', 'Obersten', 'Oberster', 'Obgleich', 'Obs', 'Obschon', 'Obwohl', 'Oder', 'Oefter', 'Oefters', 'Off', 'Offenkundig', 'Offenkundige', 'Offenkundigem', 'Offenkundigen', 'Offenkundiger', 'Offenkundiges', 'Offensichtlich', 'Offensichtliche', 'Offensichtlichem', 'Offensichtlichen', 'Offensichtlicher', 'Offensichtliches', 'Oft', 'Öfter', 'Öfters', 'Oftmals', 'Ohne', 'Ohnedies', 'Online', 'Paar', 'Partout', 'Per', 'Persoenlich', 'Persoenliche', 'Persoenlichem', 'Persoenlicher', 'Persoenliches', 'Persönlich', 'Persönliche', 'Persönlicher', 'Persönliches', 'Pfui', 'Ploetzlich', 'Ploetzliche', 'Ploetzlichem', 'Ploetzlicher', 'Ploetzliches', 'Plötzlich', 'Plötzliche', 'Plötzlichem', 'Plötzlicher', 'Plötzliches', 'Pro', 'Quasi', 'Reagiere', 'Reagieren', 'Reagiert', 'Reagierte', 'Recht', 'Rechts', 'Regelmäßig', 'Reichlich', 'Reichliche', 'Reichlichem', 'Reichlichen', 'Reichlicher', 'Restlos', 'Restlose', 'Restlosem', 'Restlosen', 'Restloser', 'Restloses', 'Richtiggehend', 'Richtiggehende', 'Richtiggehendem', 'Richtiggehenden', 'Richtiggehender', 'Richtiggehendes', 'Rief', 'Rund', 'Rundheraus', 'Rundum', 'Runter', 'S', 'Sage', 'Sagen', 'Sagt', 'Sagte', 'Sagten', 'Sagtest', 'Sagtet', 'Samt', 'Sämtliche', 'Sang', 'Sangen', 'Sattsam', 'Schätzen', 'Schätzt', 'Schätzte', 'Schätzten', 'Scheinbar', 'Scheinen', 'Schlechter', 'Schlicht', 'Schlichtweg', 'Schließlich', 'Schlussendlich', 'Schnell', 'Schon', 'Schreibe', 'Schreiben', 'Schreibens', 'Schreiber', 'Schwerlich', 'Schwerliche', 'Schwerlichem', 'Schwerlichen', 'Schwerlicher', 'Schwerliches', 'Schwierig', 'Sechs', 'Sect', 'Sehe', 'Sehen', 'Sehr', 'Sehrwohl', 'Seht', 'Sei', 'Seid', 'Seien', 'Seiest', 'Seiet', 'Sein', 'Seine', 'Seinem', 'Seinen', 'Seiner', 'Seines', 'Seit', 'Seitdem', 'Seite', 'Seiten', 'Seither', 'Selbe', 'Selben', 'Selber', 'Selbst', 'Selbstredend', 'Selbstredende', 'Selbstredendem', 'Selbstredenden', 'Selbstredender', 'Selbstredendes', 'Seltsamerweise', 'Senke', 'Senken', 'Senkt', 'Senkte', 'Senkten', 'Setzen', 'Setzt', 'Setzte', 'Setzten', 'Sich', 'Sicher', 'Sicherlich', 'Sie', 'Sieben', 'Siebte', 'Siehe', 'Sieht', 'Sind', 'Singen', 'Singt', 'So', 'Sobald', 'Sodaß', 'Soeben', 'Sofern', 'Sofort', 'Sog', 'Sogar', 'Sogleich', 'Solange', 'Solc', 'Solc hen', 'Solch', 'Solche', 'Solchem', 'Solchen', 'Solcher', 'Solches', 'Soll', 'Sollen', 'Sollst', 'Sollt', 'Sollte', 'Sollten', 'Solltest', 'Solltet', 'Somit', 'Sondern', 'Sonst', 'Sonstig', 'Sonstige', 'Sonstigem', 'Sonstiger', 'Sonstwo', 'Sooft', 'Soviel', 'Soweit', 'Sowie', 'Sowieso', 'Sowohl', 'Später', 'Spielen', 'Startet', 'Startete', 'Starteten', 'Statt', 'Stattdessen', 'Steht', 'Steige', 'Steigen', 'Steigt', 'Stellenweise', 'Stellenweisem', 'Stellenweisen', 'Stets', 'Stieg', 'Stiegen', 'Such', 'Suchen', 'Tages', 'Tat', 'Tät', 'Tatsächlich', 'Tatsächlichen', 'Tatsächlicher', 'Tatsächliches', 'Tatsaechlich', 'Tatsaechlichen', 'Tatsaechlicher', 'Tatsaechliches', 'Tausend', 'Teile', 'Teilen', 'Teilte', 'Teilten', 'Tief', 'Titel', 'Toll', 'Total', 'Trage', 'Tragen', 'Trägt', 'Trotzdem', 'Trug', 'Tun', 'Tust', 'Tut', 'Txt', 'Übel', 'Über', 'Überall', 'Überallhin', 'Überaus', 'Überdies', 'Überhaupt', 'Überll', 'Übermorgen', 'Üblicherweise', 'Übrig', 'Übrigens', 'Ueber', 'Ueberall', 'Ueberallhin', 'Ueberaus', 'Ueberdies', 'Ueberhaupt', 'Uebermorgen', 'Ueblicherweise', 'Uebrig', 'Uebrigens', 'Um', 'Ums', 'Umso', 'Umstaendehalber', 'Umständehalber', 'Unbedingt', 'Unbedingte', 'Unbedingter', 'Unbedingtes', 'Und', 'Unerhoert', 'Unerhoerte', 'Unerhoertem', 'Unerhoerten', 'Unerhoerter', 'Unerhoertes', 'Unerhört', 'Unerhörte', 'Unerhörtem', 'Unerhörten', 'Unerhörter', 'Unerhörtes', 'Ungefähr', 'Ungemein', 'Ungewoehnlich', 'Ungewoehnliche', 'Ungewoehnlichem', 'Ungewoehnlichen', 'Ungewoehnlicher', 'Ungewoehnliches', 'Ungewöhnlich', 'Ungewöhnliche', 'Ungewöhnlichem', 'Ungewöhnlichen', 'Ungewöhnlicher', 'Ungewöhnliches', 'Ungleich', 'Ungleiche', 'Ungleichem', 'Ungleichen', 'Ungleicher', 'Ungleiches', 'Unmassgeblich', 'Unmassgebliche', 'Unmassgeblichem', 'Unmassgeblichen', 'Unmassgeblicher', 'Unmassgebliches', 'Unmoeglich', 'Unmoegliche', 'Unmoeglichem', 'Unmoeglichen', 'Unmoeglicher', 'Unmoegliches', 'Unmöglich', 'Unmögliche', 'Unmöglichen', 'Unmöglicher', 'Unnötig', 'Uns', 'Unsaeglich', 'Unsaegliche', 'Unsaeglichem', 'Unsaeglichen', 'Unsaeglicher', 'Unsaegliches', 'Unsagbar', 'Unsagbare', 'Unsagbarem', 'Unsagbaren', 'Unsagbarer', 'Unsagbares', 'Unsäglich', 'Unsägliche', 'Unsäglichem', 'Unsäglichen', 'Unsäglicher', 'Unsägliches', 'Unse', 'Unsem', 'Unsen', 'Unser', 'Unsere', 'Unserem', 'Unseren', 'Unserer', 'Unseres', 'Unserm', 'Unses', 'Unsre', 'Unsrem', 'Unsren', 'Unsrer', 'Unsres', 'Unstreitig', 'Unstreitige', 'Unstreitigem', 'Unstreitigen', 'Unstreitiger', 'Unstreitiges', 'Unten', 'Unter', 'Unterbrach', 'Unterbrechen', 'Untere', 'Unterem', 'Unteres', 'Unterhalb', 'Unterste', 'Unterster', 'Unterstes', 'Unwichtig', 'Unzweifelhaft', 'Unzweifelhafte', 'Unzweifelhaftem', 'Unzweifelhaften', 'Unzweifelhafter', 'Unzweifelhaftes', 'Usw', 'Usw.', 'Vergangen', 'Vergangene', 'Vergangener', 'Vergangenes', 'Vermag', 'Vermögen', 'Vermutlich', 'Vermutliche', 'Vermutlichem', 'Vermutlichen', 'Vermutlicher', 'Vermutliches', 'Veröffentlichen', 'Veröffentlicher', 'Veröffentlicht', 'Veröffentlichte', 'Veröffentlichten', 'Veröffentlichtes', 'Verrate', 'Verraten', 'Verriet', 'Verrieten', 'Version', 'Versorge', 'Versorgen', 'Versorgt', 'Versorgte', 'Versorgten', 'Versorgtes', 'Viel', 'Viele', 'Vielen', 'Vieler', 'Vielerlei', 'Vieles', 'Vielleicht', 'Vielmalig', 'Vielmals', 'Vier', 'Voellig', 'Voellige', 'Voelligem', 'Voelligen', 'Voelliger', 'Voelliges', 'Voelligst', 'Vollends', 'Völlig', 'Völlige', 'Völligem', 'Völligen', 'Völliger', 'Völliges', 'Völligst', 'Vollstaendig', 'Vollstaendige', 'Vollstaendigem', 'Vollstaendigen', 'Vollstaendiger', 'Vollstaendiges', 'Vollständig', 'Vollständige', 'Vollständigem', 'Vollständigen', 'Vollständiger', 'Vollständiges', 'Vom', 'Von', 'Vor', 'Voran', 'Vorbei', 'Vorgestern', 'Vorher', 'Vorherig', 'Vorherige', 'Vorherigem', 'Vorheriger', 'Vorne', 'Vorüber', 'Vorueber', 'Wachen', 'Waehrend', 'Waehrenddessen', 'Waere', 'Während', 'Währenddessen', 'Wann', 'War', 'Wär', 'Wäre', 'Waren', 'Wären', 'Warst', 'Wart', 'Warum', 'Was', 'Weder', 'Weg', 'Wegen', 'Weil', 'Weiß', 'Weit', 'Weiter', 'Weitere', 'Weiterem', 'Weiteren', 'Weiterer', 'Weiteres', 'Weiterhin', 'Weitestgehend', 'Weitestgehende', 'Weitestgehendem', 'Weitestgehenden', 'Weitestgehender', 'Weitestgehendes', 'Weitgehend', 'Weitgehende', 'Weitgehendem', 'Weitgehenden', 'Weitgehender', 'Weitgehendes', 'Welche', 'Welchem', 'Welchen', 'Welcher', 'Welches', 'Wem', 'Wen', 'Wenig', 'Wenige', 'Weniger', 'Wenigstens', 'Wenn', 'Wenngleich', 'Wer', 'Werde', 'Werden', 'Werdet', 'Weshalb', 'Wessen', 'Weswegen', 'Wichtig', 'Wie', 'Wieder', 'Wiederum', 'Wieso', 'Wieviel', 'Wieviele', 'Wievieler', 'Wiewohl', 'Will', 'Willst', 'Wir', 'Wird', 'Wirklich', 'Wirklichem', 'Wirklicher', 'Wirkliches', 'Wirst', 'Wo', 'Wobei', 'Wodurch', 'Wofuer', 'Wofür', 'Wogegen', 'Woher', 'Wohin', 'Wohingegen', 'Wohl', 'Wohlgemerkt', 'Wohlweislich', 'Wolle', 'Wollen', 'Wollt', 'Wollte', 'Wollten', 'Wolltest', 'Wolltet', 'Womit', 'Womoeglich', 'Womoegliche', 'Womoeglichem', 'Womoeglichen', 'Womoeglicher', 'Womoegliches', 'Womöglich', 'Womögliche', 'Womöglichem', 'Womöglichen', 'Womöglicher', 'Womögliches', 'Woran', 'Woraufhin', 'Woraus', 'Worden', 'Worin', 'Wuerde', 'Wuerden', 'Wuerdest', 'Wuerdet', 'Wurde', 'Würde', 'Wurden', 'Würden', 'Wurdest', 'Würdest', 'Wurdet', 'Würdet', 'Www', 'X', 'Z.b.', 'Zahlreich', 'Zahlreichem', 'Zahlreicher', 'Zb', 'Zb.', 'Zehn', 'Zeitweise', 'Zeitweisem', 'Zeitweisen', 'Zeitweiser', 'Ziehen', 'Zieht', 'Ziemlich', 'Ziemliche', 'Ziemlichem', 'Ziemlichen', 'Ziemlicher', 'Ziemliches', 'Zirka', 'Zog', 'Zogen', 'Zu', 'Zudem', 'Zuerst', 'Zufolge', 'Zugleich', 'Zuletzt', 'Zum', 'Zumal', 'Zumeist', 'Zumindest', 'Zunächst', 'Zunaechst', 'Zur', 'Zurück', 'Zurueck', 'Zusammen', 'Zusehends', 'Zuviel', 'Zuviele', 'Zuvieler', 'Zuweilen', 'Zwanzig', 'Zwar', 'Zwei', 'Zweifelsfrei', 'Zweifelsfreie', 'Zweifelsfreiem', 'Zweifelsfreien', 'Zweifelsfreier', 'Zweifelsfreies', 'Zwischen', 'Zwölf', 'spricht ', 'bayern', 'br24', 'newsletter', 'br24-newsletter', 'br-kultur', 'informiert', 'montag', 'montags', 'dienstag', 'dienstags', 'mittwoch', 'mittwochs', 'donnerstag', 'donnerstags', 'freitag', 'freitags ', 'feierabend', 'wichtig', 'wichtigste', 'blick', 'kompakt', 'direkt', 'privaten ', 'postfach', 'anmeldung', 'quot', 'ab', 'aber', 'abermaliges', 'abermals', 'abgerufen', 'abgerufene', 'abgerufener', 'abgerufenes', 'abgesehen', 'acht', 'aehnlich', 'aehnliche', 'aehnlichem', 'aehnlichen', 'aehnlicher', 'aehnliches', 'aehnlichste', 'aehnlichstem', 'aehnlichsten', 'aehnlichster', 'aehnlichstes', 'aeusserst', 'aeusserste', 'aeusserstem', 'aeussersten', 'aeusserster', 'aeusserstes', 'ähnlich', 'ähnliche', 'ähnlichem', 'ähnlichen', 'ähnlicher', 'ähnliches', 'ähnlichst', 'ähnlichste', 'ähnlichstem', 'ähnlichsten', 'ähnlichster', 'ähnlichstes', 'alle', 'allein', 'alleine', 'allem', 'allemal', 'allen', 'allenfalls', 'allenthalben', 'aller', 'allerdings', 'allerlei', 'alles', 'allesamt', 'allg', 'allg.', 'allgemein', 'allgemeine', 'allgemeinem', 'allgemeinen', 'allgemeiner', 'allgemeines', 'allgemeinste', 'allgemeinstem', 'allgemeinsten', 'allgemeinster', 'allgemeinstes', 'allmählich', 'allzeit', 'allzu', 'als', 'alsbald', 'also', 'am', 'an', 'and', 'andauernd', 'andauernde', 'andauerndem', 'andauernden', 'andauernder', 'andauerndes', 'ander', 'andere', 'anderem', 'anderen', 'anderenfalls', 'anderer', 'andererseits', 'anderes', 'anderm', 'andern', 'andernfalls', 'anderr', 'anders', 'anderst', 'anderweitig', 'anderweitige', 'anderweitigem', 'anderweitigen', 'anderweitiger', 'anderweitiges', 'anerkannt', 'anerkannte', 'anerkannter', 'anerkanntes', 'anfangen', 'anfing', 'angefangen', 'angesetze', 'angesetzt', 'angesetzten', 'angesetzter', 'ans', 'anscheinend', 'ansetzen', 'ansonst', 'ansonsten', 'anstatt', 'anstelle', 'arbeiten', 'auch', 'auf', 'aufgehört', 'aufgrund', 'aufhören', 'aufhörte', 'aufzusuchen', 'augenscheinlich', 'augenscheinliche', 'augenscheinlichem', 'augenscheinlichen', 'augenscheinlicher', 'augenscheinliches', 'augenscheinlichst', 'augenscheinlichste', 'augenscheinlichstem', 'augenscheinlichsten', 'augenscheinlichster', 'augenscheinlichstes', 'aus', 'ausdrücken', 'ausdrücklich', 'ausdrückliche', 'ausdrücklichem', 'ausdrücklichen', 'ausdrücklicher', 'ausdrückliches', 'ausdrückt', 'ausdrückte', 'ausgenommen', 'ausgenommene', 'ausgenommenem', 'ausgenommenen', 'ausgenommener', 'ausgenommenes', 'ausgerechnet', 'ausgerechnete', 'ausgerechnetem', 'ausgerechneten', 'ausgerechneter', 'ausgerechnetes', 'ausnahmslos', 'ausnahmslose', 'ausnahmslosem', 'ausnahmslosen', 'ausnahmsloser', 'ausnahmsloses', 'außen', 'ausser', 'ausserdem', 'außerhalb', 'äusserst', 'äusserste', 'äusserstem', 'äussersten', 'äusserster', 'äusserstes', 'author', 'autor', 'baelde', 'bald', 'bälde', 'bearbeite', 'bearbeiten', 'bearbeitete', 'bearbeiteten', 'bedarf', 'bedürfen', 'bedurfte', 'been', 'befahl', 'befiehlt', 'befiehlte', 'befohlene', 'befohlens', 'befragen', 'befragte', 'befragten', 'befragter', 'begann', 'beginnen', 'begonnen', 'behalten', 'behielt', 'bei', 'beide', 'beidem', 'beiden', 'beider', 'beiderlei', 'beides', 'beim', 'beinahe', 'beisammen', 'beispielsweise', 'beitragen', 'beitrugen', 'bekannt', 'bekannte', 'bekannter', 'bekanntlich', 'bekanntliche', 'bekanntlichem', 'bekanntlichen', 'bekanntlicher', 'bekanntliches', 'bekennen', 'benutzt', 'bereits', 'berichten', 'berichtet', 'berichtete', 'berichteten', 'besonders', 'besser', 'bessere', 'besserem', 'besseren', 'besserer', 'besseres', 'bestehen', 'besteht', 'bestenfalls', 'bestimmt', 'bestimmte', 'bestimmtem', 'bestimmten', 'bestimmter', 'bestimmtes', 'beträchtlich', 'beträchtliche', 'beträchtlichem', 'beträchtlichen', 'beträchtlicher', 'beträchtliches', 'betraechtlich', 'betraechtliche', 'betraechtlichem', 'betraechtlichen', 'betraechtlicher', 'betraechtliches', 'betreffend', 'betreffende', 'betreffendem', 'betreffenden', 'betreffender', 'betreffendes', 'bevor', 'bez', 'bez.', 'bezgl', 'bezgl.', 'bezueglich', 'bezüglich', 'bietet', 'bin', 'bis', 'bisher', 'bisherige', 'bisherigem', 'bisherigen', 'bisheriger', 'bisheriges', 'bislang', 'bisschen', 'bist', 'bitte', 'bleiben', 'bleibt', 'blieb', 'bloss', 'böden', 'boeden', 'brachte', 'brachten', 'brauchen', 'braucht', 'bräuchte', 'bringen', 'bsp', 'bsp.', 'bspw', 'bspw.', 'bzw', 'bzw.', 'ca', 'ca.', 'circa', 'da', 'dabei', 'dadurch', 'dafuer', 'dafür', 'dagegen', 'daher', 'dahin', 'dahingehend', 'dahingehende', 'dahingehendem', 'dahingehenden', 'dahingehender', 'dahingehendes', 'dahinter', 'damalige', 'damaligem', 'damaligen', 'damaliger', 'damaliges', 'damals', 'damit', 'danach', 'daneben', 'dank', 'danke', 'danken', 'dann', 'dannen', 'daran', 'darauf', 'daraus', 'darf', 'darfst', 'darin', 'darüber', 'darüberhinaus', 'darueber', 'darueberhinaus', 'darum', 'darunter', 'das', 'daß', 'dass', 'dasselbe', 'Dat', 'davon', 'davor', 'dazu', 'dazwischen', 'dein', 'deine', 'deinem', 'deinen', 'deiner', 'deines', 'dem', 'demgegenüber', 'demgegenueber', 'demgemaess', 'demgemäss', 'demnach', 'demselben', 'den', 'denen', 'denkbar', 'denkbare', 'denkbarem', 'denkbaren', 'denkbarer', 'denkbares', 'denn', 'dennoch', 'denselben', 'der', 'derart', 'derartig', 'derartige', 'derartigem', 'derartigen', 'derartiger', 'derem', 'deren', 'derer', 'derjenige', 'derjenigen', 'derselbe', 'derselben', 'derzeit', 'derzeitig', 'derzeitige', 'derzeitigem', 'derzeitigen', 'derzeitiges', 'des', 'deshalb', 'desselben', 'dessen', 'dessenungeachtet', 'desto', 'desungeachtet', 'deswegen', 'dich', 'die', 'diejenige', 'diejenigen', 'dies', 'diese', 'dieselbe', 'dieselben', 'diesem', 'diesen', 'dieser', 'dieses', 'diesseitig', 'diesseitige', 'diesseitigem', 'diesseitigen', 'diesseitiger', 'diesseitiges', 'diesseits', 'dinge', 'dir', 'direkt', 'direkte', 'direkten', 'direkter', 'doch', 'doppelt', 'dort', 'dorther', 'dorthin', 'dr', 'dr.', 'dran', 'drauf', 'drei', 'dreißig', 'drin', 'dritte', 'drüber', 'drueber', 'drum', 'drunter', 'du', 'duerfte', 'duerften', 'duerftest', 'duerftet', 'dunklen', 'durch', 'durchaus', 'durchweg', 'durchwegs', 'dürfen', 'durfte', 'dürfte', 'durften', 'dürften', 'durftest', 'dürftest', 'durftet', 'dürftet', 'eben', 'ebenfalls', 'ebenso', 'ect', 'ect.', 'ehe', 'eher', 'eheste', 'ehestem', 'ehesten', 'ehester', 'ehestes', 'eigen', 'eigene', 'eigenem', 'eigenen', 'eigener', 'eigenes', 'eigenst', 'eigentlich', 'eigentliche', 'eigentlichem', 'eigentlichen', 'eigentlicher', 'eigentliches', 'ein', 'einbaün', 'eine', 'einem', 'einen', 'einer', 'einerlei', 'einerseits', 'eines', 'einfach', 'einführen', 'einführte', 'einführten', 'eingesetzt', 'einig', 'einige', 'einigem', 'einigen', 'einiger', 'einigermaßen', 'einiges', 'einmal', 'einmalig', 'einmalige', 'einmaligem', 'einmaligen', 'einmaliger', 'einmaliges', 'eins', 'einseitig', 'einseitige', 'einseitigen', 'einseitiger', 'einst', 'einstmals', 'einzig', 'empfunden', 'ende', 'entgegen', 'entlang', 'entsprechend', 'entsprechende', 'entsprechendem', 'entsprechenden', 'entsprechender', 'entsprechendes', 'entweder', 'er', 'ergänze', 'ergänzen', 'ergänzte', 'ergänzten', 'ergo', 'erhält', 'erhalten', 'erhielt', 'erhielten', 'erneut', 'eröffne', 'eröffnen', 'eröffnet', 'eröffnete', 'eröffnetes', 'erscheinen', 'erst', 'erste', 'erstem', 'ersten', 'erster', 'erstere', 'ersterem', 'ersteren', 'ersterer', 'ersteres', 'erstes', 'es', 'etc', 'etc.', 'etliche', 'etlichem', 'etlichen', 'etlicher', 'etliches', 'etwa', 'etwaige', 'etwas', 'euch', 'euer', 'eure', 'eurem', 'euren', 'eurer', 'eures', 'euretwegen', 'fall', 'falls', 'fand', 'fast', 'ferner', 'fertig', 'finde', 'finden', 'findest', 'findet', 'folgend', 'folgende', 'folgendem', 'folgenden', 'folgender', 'folgendermassen', 'folgendes', 'folglich', 'for', 'fordern', 'fordert', 'forderte', 'forderten', 'fort', 'fortsetzen', 'fortsetzt', 'fortsetzte', 'fortsetzten', 'fragte', 'frau', 'frei', 'freie', 'freier', 'freies', 'fuer', 'fuers', 'fünf', 'für', 'fürs', 'gab', 'gaenzlich', 'gaenzliche', 'gaenzlichem', 'gaenzlichen', 'gaenzlicher', 'gaenzliches', 'gängig', 'gängige', 'gängigen', 'gängiger', 'gängiges', 'ganz', 'ganze', 'ganzem', 'ganzen', 'ganzer', 'ganzes', 'gänzlich', 'gänzliche', 'gänzlichem', 'gänzlichen', 'gänzlicher', 'gänzliches', 'gar', 'gbr', 'geb', 'geben', 'geblieben', 'gebracht', 'gedurft', 'geehrt', 'geehrte', 'geehrten', 'geehrter', 'gefallen', 'gefälligst', 'gefällt', 'gefiel', 'gegeben', 'gegen', 'gegenüber', 'gegenueber', 'gehabt', 'gehalten', 'gehen', 'geht', 'gekommen', 'gekonnt', 'gemacht', 'gemaess', 'gemäss', 'gemeinhin', 'gemocht', 'genau', 'genommen', 'genug', 'gepriesener', 'gepriesenes', 'gerade', 'gern', 'gesagt', 'gesehen', 'gestern', 'gestrige', 'getan', 'geteilt', 'geteilte', 'getragen', 'getrennt', 'gewesen', 'gewiss', 'gewisse', 'gewissem', 'gewissen', 'gewisser', 'gewissermaßen', 'gewisses', 'gewollt', 'geworden', 'ggf', 'ggf.', 'gib', 'gibt', 'gilt', 'gleich', 'gleiche', 'gleichem', 'gleichen', 'gleicher', 'gleiches', 'gleichsam', 'gleichste', 'gleichstem', 'gleichsten', 'gleichster', 'gleichstes', 'gleichwohl', 'gleichzeitig', 'gleichzeitige', 'gleichzeitigem', 'gleichzeitigen', 'gleichzeitiger', 'gleichzeitiges', 'glücklicherweise', 'gluecklicherweise', 'gmbh', 'gottseidank', 'gratulieren', 'gratuliert', 'gratulierte', 'groesstenteils', 'grösstenteils', 'gruendlich', 'gründlich', 'gut', 'gute', 'guten', 'hab', 'habe', 'haben', 'habt', 'haette', 'haeufig', 'haeufige', 'haeufigem', 'haeufigen', 'haeufiger', 'haeufigere', 'haeufigeren', 'haeufigerer', 'haeufigeres', 'halb', 'hallo', 'halten', 'hast', 'hat', 'hätt', 'hatte', 'hätte', 'hatten', 'hätten', 'hattest', 'hattet', 'häufig', 'häufige', 'häufigem', 'häufigen', 'häufiger', 'häufigere', 'häufigeren', 'häufigerer', 'häufigeres', 'hen', 'her', 'herr', 'heraus', 'herein', 'herum', 'heute', 'heutige', 'heutigem', 'heutigen', 'heutiger', 'heutiges', 'hier', 'hierbei', 'hiermit', 'hiesige', 'hiesigem', 'hiesigen', 'hiesiger', 'hiesiges', 'hin', 'hindurch', 'hinein', 'hingegen', 'hinlanglich', 'hinlänglich', 'hinten', 'hintendran', 'hinter', 'hinterher', 'hinterm', 'hintern', 'hinunter', 'hoch', 'höchst', 'höchstens', 'http', 'hundert', 'ich', 'igitt', 'ihm', 'ihn', 'ihnen', 'ihr', 'ihre', 'ihrem', 'ihren', 'ihrer', 'ihres', 'ihretwegen', 'ihrige', 'ihrigen', 'ihriges', 'im', 'immer', 'immerhin', 'immerwaehrend', 'immerwaehrende', 'immerwaehrendem', 'immerwaehrenden', 'immerwaehrender', 'immerwaehrendes', 'immerwährend', 'immerwährende', 'immerwährendem', 'immerwährenden', 'immerwährender', 'immerwährendes', 'immerzu', 'important', 'in', 'indem', 'indessen', 'Inf.', 'info', 'infolge', 'infolgedessen', 'information', 'innen', 'innerhalb', 'innerlich', 'ins', 'insbesondere', 'insgeheim', 'insgeheime', 'insgeheimer', 'insgesamt', 'insgesamte', 'insgesamter', 'insofern', 'inzwischen', 'irgend', 'irgendein', 'irgendeine', 'irgendeinem', 'irgendeiner', 'irgendeines', 'irgendetwas', 'irgendjemand', 'irgendjemandem', 'irgendwann', 'irgendwas', 'irgendwelche', 'irgendwen', 'irgendwenn', 'irgendwer', 'irgendwie', 'irgendwo', 'irgendwohin', 'ist', 'ja', 'jaehrig', 'jaehrige', 'jaehrigem', 'jaehrigen', 'jaehriger', 'jaehriges', 'jährig', 'jährige', 'jährigem', 'jährigen', 'jähriges', 'je', 'jede', 'jedem', 'jeden', 'jedenfalls', 'jeder', 'jederlei', 'jedes', 'jedesmal', 'jedoch', 'jeglichem', 'jeglichen', 'jeglicher', 'jegliches', 'jemals', 'jemand', 'jemandem', 'jemanden', 'jemandes', 'jene', 'jenem', 'jenen', 'jener', 'jenes', 'jenseitig', 'jenseitigem', 'jenseitiger', 'jenseits', 'jetzt', 'jung', 'junge', 'jungem', 'jungen', 'junger', 'junges', 'kaeumlich', 'kam', 'kann', 'kannst', 'kaum', 'käumlich', 'kein', 'keine', 'keinem', 'keinen', 'keiner', 'keinerlei', 'keines', 'keineswegs', 'klar', 'klare', 'klaren', 'klares', 'klein', 'kleinen', 'kleiner', 'kleines', 'koennen', 'koennt', 'koennte', 'koennten', 'koenntest', 'koenntet', 'komme', 'kommen', 'kommt', 'konkret', 'konkrete', 'konkreten', 'konkreter', 'konkretes', 'könn', 'können', 'könnt', 'konnte', 'könnte', 'konnten', 'könnten', 'konntest', 'könntest', 'konntet', 'könntet', 'kuenftig', 'kuerzlich', 'kuerzlichst', 'künftig', 'kürzlich', 'kürzlichst', 'laengst', 'lag', 'lagen', 'langsam', 'längst', 'längstens', 'lassen', 'laut', 'lediglich', 'leer', 'legen', 'legte', 'legten', 'leicht', 'leider', 'lesen', 'letze', 'letzte', 'letzten', 'letztendlich', 'letztens', 'letztere', 'letzterem', 'letzterer', 'letzteres', 'letztes', 'letztlich', 'lichten', 'liegt', 'liest', 'links', 'mache', 'machen', 'machst', 'macht', 'machte', 'machten', 'mag', 'magst', 'mal', 'man', 'manch', 'manche', 'manchem', 'manchen', 'mancher', 'mancherlei', 'mancherorts', 'manches', 'manchmal', 'mann', 'margin', 'massgebend', 'massgebende', 'massgebendem', 'massgebenden', 'massgebender', 'massgebendes', 'massgeblich', 'massgebliche', 'massgeblichem', 'massgeblichen', 'massgeblicher', 'mehr', 'mehrere', 'mehrerer', 'mehrfach', 'mehrmalig', 'mehrmaligem', 'mehrmaliger', 'mehrmaliges', 'mein', 'meine', 'meinem', 'meinen', 'meiner', 'meines', 'meinetwegen', 'meins', 'meist', 'meiste', 'meisten', 'meistens', 'meistenteils', 'meta', 'mich', 'mindestens', 'mir', 'mit', 'miteinander', 'mitgleich', 'mithin', 'mitnichten', 'mittels', 'mittelst', 'mitten', 'mittig', 'mitunter', 'mitwohl', 'mochte', 'möchte', 'möchten', 'möchtest', 'moechte', 'moeglich', 'moeglichst', 'moeglichste', 'moeglichstem', 'moeglichsten', 'moeglichster', 'mögen', 'möglich', 'mögliche', 'möglichen', 'möglicher', 'möglicherweise', 'möglichst', 'möglichste', 'möglichstem', 'möglichsten', 'möglichster', 'morgen', 'morgige', 'muessen', 'muesst', 'muesste', 'muss', 'müssen', 'musst', 'müßt', 'musste', 'müsste', 'mussten', 'müssten', 'nach', 'nachdem', 'nacher', 'nachher', 'nachhinein', 'nächste', 'nacht', 'naechste', 'naemlich', 'nahm', 'nämlich', 'naturgemaess', 'naturgemäss', 'natürlich', 'ncht', 'neben', 'nebenan', 'nehmen', 'nein', 'neu', 'neue', 'neuem', 'neuen', 'neuer', 'neuerdings', 'neuerlich', 'neuerliche', 'neuerlichem', 'neuerlicher', 'neuerliches', 'neues', 'neulich', 'neun', 'nicht', 'nichts', 'nichtsdestotrotz', 'nichtsdestoweniger', 'nie', 'niemals', 'niemand', 'niemandem', 'niemanden', 'niemandes', 'nimm', 'nimmer', 'nimmt', 'nirgends', 'nirgendwo', 'noch', 'noetigenfalls', 'nötigenfalls', 'nun', 'nur', 'nutzen', 'nutzt', 'nützt', 'nutzung', 'ob', 'oben', 'ober', 'oberen', 'oberer', 'oberhalb', 'oberste', 'obersten', 'oberster', 'obgleich', 'obs', 'obschon', 'obwohl', 'oder', 'oefter', 'oefters', 'off', 'offenkundig', 'offenkundige', 'offenkundigem', 'offenkundigen', 'offenkundiger', 'offenkundiges', 'offensichtlich', 'offensichtliche', 'offensichtlichem', 'offensichtlichen', 'offensichtlicher', 'offensichtliches', 'oft', 'öfter', 'öfters', 'oftmals', 'ohne', 'ohnedies', 'online', 'paar', 'partout', 'per', 'persoenlich', 'persoenliche', 'persoenlichem', 'persoenlicher', 'persoenliches', 'persönlich', 'persönliche', 'persönlicher', 'persönliches', 'pfui', 'ploetzlich', 'ploetzliche', 'ploetzlichem', 'ploetzlicher', 'ploetzliches', 'plötzlich', 'plötzliche', 'plötzlichem', 'plötzlicher', 'plötzliches', 'pro', 'quasi', 'reagiere', 'reagieren', 'reagiert', 'reagierte', 'recht', 'rechts', 'regelmäßig', 'reichlich', 'reichliche', 'reichlichem', 'reichlichen', 'reichlicher', 'restlos', 'restlose', 'restlosem', 'restlosen', 'restloser', 'restloses', 'richtiggehend', 'richtiggehende', 'richtiggehendem', 'richtiggehenden', 'richtiggehender', 'richtiggehendes', 'rief', 'rund', 'rundheraus', 'rundum', 'runter', 's', 'sage', 'sagen', 'sagt', 'sagte', 'sagten', 'sagtest', 'sagtet', 'samt', 'sämtliche', 'sang', 'sangen', 'sattsam', 'schätzen', 'schätzt', 'schätzte', 'schätzten', 'scheinbar', 'scheinen', 'schlechter', 'schlicht', 'schlichtweg', 'schließlich', 'schlussendlich', 'schnell', 'schon', 'schreibe', 'schreiben', 'schreibens', 'schreiber', 'schwerlich', 'schwerliche', 'schwerlichem', 'schwerlichen', 'schwerlicher', 'schwerliches', 'schwierig', 'sechs', 'sect', 'sehe', 'sehen', 'sehr', 'sehrwohl', 'seht', 'sei', 'seid', 'seien', 'seiest', 'seiet', 'sein', 'seine', 'seinem', 'seinen', 'seiner', 'seines', 'seit', 'seitdem', 'seite', 'seiten', 'seither', 'selbe', 'selben', 'selber', 'selbst', 'selbstredend', 'selbstredende', 'selbstredendem', 'selbstredenden', 'selbstredender', 'selbstredendes', 'seltsamerweise', 'senke', 'senken', 'senkt', 'senkte', 'senkten', 'setzen', 'setzt', 'setzte', 'setzten', 'sich', 'sicher', 'sicherlich', 'sie', 'sieben', 'siebte', 'siehe', 'sieht', 'sind', 'singen', 'singt', 'so', 'sobald', 'sodaß', 'soeben', 'sofern', 'sofort', 'sog', 'sogar', 'sogleich', 'solange', 'solc', 'solc hen', 'solch', 'solche', 'solchem', 'solchen', 'solcher', 'solches', 'soll', 'sollen', 'sollst', 'sollt', 'sollte', 'sollten', 'solltest', 'solltet', 'somit', 'sondern', 'sonst', 'sonstig', 'sonstige', 'sonstigem', 'sonstiger', 'sonstwo', 'sooft', 'soviel', 'soweit', 'sowie', 'sowieso', 'sowohl', 'später', 'spielen', 'startet', 'startete', 'starteten', 'statt', 'stattdessen', 'steht', 'steige', 'steigen', 'steigt', 'stellenweise', 'stellenweisem', 'stellenweisen', 'stets', 'stieg', 'stiegen', 'such', 'suchen', 'tages', 'tat', 'tät', 'tatsächlich', 'tatsächlichen', 'tatsächlicher', 'tatsächliches', 'tatsaechlich', 'tatsaechlichen', 'tatsaechlicher', 'tatsaechliches', 'tausend', 'teile', 'teilen', 'teilte', 'teilten', 'tief', 'titel', 'toll', 'total', 'trage', 'tragen', 'trägt', 'trotzdem', 'trug', 'tun', 'tust', 'tut', 'txt', 'übel', 'über', 'überall', 'überallhin', 'überaus', 'überdies', 'überhaupt', 'überll', 'übermorgen', 'üblicherweise', 'übrig', 'übrigens', 'ueber', 'ueberall', 'ueberallhin', 'ueberaus', 'ueberdies', 'ueberhaupt', 'uebermorgen', 'ueblicherweise', 'uebrig', 'uebrigens', 'um', 'ums', 'umso', 'umstaendehalber', 'umständehalber', 'unbedingt', 'unbedingte', 'unbedingter', 'unbedingtes', 'und', 'unerhoert', 'unerhoerte', 'unerhoertem', 'unerhoerten', 'unerhoerter', 'unerhoertes', 'unerhört', 'unerhörte', 'unerhörtem', 'unerhörten', 'unerhörter', 'unerhörtes', 'ungefähr', 'ungemein', 'ungewoehnlich', 'ungewoehnliche', 'ungewoehnlichem', 'ungewoehnlichen', 'ungewoehnlicher', 'ungewoehnliches', 'ungewöhnlich', 'ungewöhnliche', 'ungewöhnlichem', 'ungewöhnlichen', 'ungewöhnlicher', 'ungewöhnliches', 'ungleich', 'ungleiche', 'ungleichem', 'ungleichen', 'ungleicher', 'ungleiches', 'unmassgeblich', 'unmassgebliche', 'unmassgeblichem', 'unmassgeblichen', 'unmassgeblicher', 'unmassgebliches', 'unmoeglich', 'unmoegliche', 'unmoeglichem', 'unmoeglichen', 'unmoeglicher', 'unmoegliches', 'unmöglich', 'unmögliche', 'unmöglichen', 'unmöglicher', 'unnötig', 'uns', 'unsaeglich', 'unsaegliche', 'unsaeglichem', 'unsaeglichen', 'unsaeglicher', 'unsaegliches', 'unsagbar', 'unsagbare', 'unsagbarem', 'unsagbaren', 'unsagbarer', 'unsagbares', 'unsäglich', 'unsägliche', 'unsäglichem', 'unsäglichen', 'unsäglicher', 'unsägliches', 'unse', 'unsem', 'unsen', 'unser', 'unsere', 'unserem', 'unseren', 'unserer', 'unseres', 'unserm', 'unses', 'unsre', 'unsrem', 'unsren', 'unsrer', 'unsres', 'unstreitig', 'unstreitige', 'unstreitigem', 'unstreitigen', 'unstreitiger', 'unstreitiges', 'unten', 'unter', 'unterbrach', 'unterbrechen', 'untere', 'unterem', 'unteres', 'unterhalb', 'unterste', 'unterster', 'unterstes', 'unwichtig', 'unzweifelhaft', 'unzweifelhafte', 'unzweifelhaftem', 'unzweifelhaften', 'unzweifelhafter', 'unzweifelhaftes', 'usw', 'usw.', 'vergangen', 'vergangene', 'vergangener', 'vergangenes', 'vermag', 'vermögen', 'vermutlich', 'vermutliche', 'vermutlichem', 'vermutlichen', 'vermutlicher', 'vermutliches', 'veröffentlichen', 'veröffentlicher', 'veröffentlicht', 'veröffentlichte', 'veröffentlichten', 'veröffentlichtes', 'verrate', 'verraten', 'verriet', 'verrieten', 'version', 'versorge', 'versorgen', 'versorgt', 'versorgte', 'versorgten', 'versorgtes', 'viel', 'viele', 'vielen', 'vieler', 'vielerlei', 'vieles', 'vielleicht', 'vielmalig', 'vielmals', 'vier', 'voellig', 'voellige', 'voelligem', 'voelligen', 'voelliger', 'voelliges', 'voelligst', 'vollends', 'völlig', 'völlige', 'völligem', 'völligen', 'völliger', 'völliges', 'völligst', 'vollstaendig', 'vollstaendige', 'vollstaendigem', 'vollstaendigen', 'vollstaendiger', 'vollstaendiges', 'vollständig', 'vollständige', 'vollständigem', 'vollständigen', 'vollständiger', 'vollständiges', 'vom', 'von', 'vor', 'voran', 'vorbei', 'vorgestern', 'vorher', 'vorherig', 'vorherige', 'vorherigem', 'vorheriger', 'vorne', 'vorüber', 'vorueber', 'wachen', 'waehrend', 'waehrenddessen', 'waere', 'während', 'währenddessen', 'wann', 'war', 'wär', 'wäre', 'waren', 'wären', 'warst', 'wart', 'warum', 'was', 'weder', 'weg', 'wegen', 'weil', 'weiß', 'weit', 'weiter', 'weitere', 'weiterem', 'weiteren', 'weiterer', 'weiteres', 'weiterhin', 'weitestgehend', 'weitestgehende', 'weitestgehendem', 'weitestgehenden', 'weitestgehender', 'weitestgehendes', 'weitgehend', 'weitgehende', 'weitgehendem', 'weitgehenden', 'weitgehender', 'weitgehendes', 'welche', 'welchem', 'welchen', 'welcher', 'welches', 'wem', 'wen', 'wenig', 'wenige', 'weniger', 'wenigstens', 'wenn', 'wenngleich', 'wer', 'werde', 'werden', 'werdet', 'weshalb', 'wessen', 'weswegen', 'wichtig', 'wie', 'wieder', 'wiederum', 'wieso', 'wieviel', 'wieviele', 'wievieler', 'wiewohl', 'will', 'willst', 'wir', 'wird', 'wirklich', 'wirklichem', 'wirklicher', 'wirkliches', 'wirst', 'wo', 'wobei', 'wodurch', 'wofuer', 'wofür', 'wogegen', 'woher', 'wohin', 'wohingegen', 'wohl', 'wohlgemerkt', 'wohlweislich', 'wolle', 'wollen', 'wollt', 'wollte', 'wollten', 'wolltest', 'wolltet', 'womit', 'womoeglich', 'womoegliche', 'womoeglichem', 'womoeglichen', 'womoeglicher', 'womoegliches', 'womöglich', 'womögliche', 'womöglichem', 'womöglichen', 'womöglicher', 'womögliches', 'woran', 'woraufhin', 'woraus', 'worden', 'worin', 'wuerde', 'wuerden', 'wuerdest', 'wuerdet', 'wurde', 'würde', 'wurden', 'würden', 'wurdest', 'würdest', 'wurdet', 'würdet', 'www', 'x', 'z.B.', 'zahlreich', 'zahlreichem', 'zahlreicher', 'zB', 'zb.', 'zehn', 'zeitweise', 'zeitweisem', 'zeitweisen', 'zeitweiser', 'ziehen', 'zieht', 'ziemlich', 'ziemliche', 'ziemlichem', 'ziemlichen', 'ziemlicher', 'ziemliches', 'zirka', 'zog', 'zogen', 'zu', 'zudem', 'zuerst', 'zufolge', 'zugleich', 'zuletzt', 'zum', 'zumal', 'zumeist', 'zumindest', 'zunächst', 'zunaechst', 'zur', 'zurück', 'zurueck', 'zusammen', 'zusehends', 'zuviel', 'zuviele', 'zuvieler', 'zuweilen', 'zwanzig', 'zwar', 'zwei', 'zweifelsfrei', 'zweifelsfreie', 'zweifelsfreiem', 'zweifelsfreien', 'zweifelsfreier', 'zweifelsfreies', 'zwischen', 'zwölf'] \n",
    "\n",
    "# Remove BR specific stop words\n",
    "df['nouns'] = df['nouns'].apply(lambda x: list(set(x) - set(stopwords)))\n",
    "df['ner'] = df['ner'].apply(lambda x: list(set(x) - set(stopwords)))\n",
    "\n",
    "# Remove overlap between nouns and ner\n",
    "df['nouns'] = df.progress_apply(lambda row: list(set(row['nouns'])-set(row['ner'])), axis=1)"
   ]
  },
  {
   "cell_type": "code",
   "execution_count": 111,
   "id": "8f8fe4ee",
   "metadata": {},
   "outputs": [],
   "source": [
    "df['extractions'] = df['nouns']+df['ner']"
   ]
  },
  {
   "cell_type": "code",
   "execution_count": null,
   "id": "ca417ddb",
   "metadata": {},
   "outputs": [],
   "source": []
  },
  {
   "cell_type": "markdown",
   "id": "eea8a595",
   "metadata": {},
   "source": [
    "# Step 2: Entity Ranking by Frequency"
   ]
  },
  {
   "cell_type": "code",
   "execution_count": 113,
   "id": "f353e3be",
   "metadata": {},
   "outputs": [],
   "source": [
    "def rank_extractions_frequency(row):\n",
    "     \"\"\"\n",
    "    Function takes in one data row from the dataframe and returns a list of 30 tags following the below steps:\n",
    "    1. Calculate the frequency of extractions in the article text\n",
    "    2. For special case, example where 'Merkel' and 'Angela Merkel' are two different extractions and we want to predict 'Angela Merkel'\n",
    "    If an extraction is present as substring in another extraction, add both the frequencies and keep the longer length extraction\n",
    "    \n",
    "    :param row: one row of the dataframe\n",
    "    :return: ordered list of top 30 tags\n",
    "    \"\"\"\n",
    "        \n",
    "    text = row.clean_text.lower()\n",
    "    extractions = row.extractions\n",
    "    \n",
    "    frequency = dict()\n",
    "    for e in extractions:\n",
    "        frequency[e] = text.count(e.lower())\n",
    "    frequency = dict(sorted(frequency.items(), key=lambda x: len(x[0]), reverse=True))\n",
    "    \n",
    "    merged_frequency = dict()\n",
    "    for e in frequency.keys():\n",
    "        if not any([e in m for m in merged_frequency.keys()]):\n",
    "            merged_frequency[e] = frequency[e]\n",
    "        else:\n",
    "            key = [k for k in merged_frequency.keys() if e in k][0]\n",
    "            if merged_frequency[key] < frequency[e]:\n",
    "                merged_frequency[key] = frequency[e]\n",
    "    merged_frequency = sorted(merged_frequency.items(), key=lambda x: x[1], reverse=True)\n",
    "    \n",
    "    predictions = [k[0] for k in merged_frequency[:30]]\n",
    "\n",
    "    return predictions"
   ]
  },
  {
   "cell_type": "code",
   "execution_count": 114,
   "id": "037f4dfd",
   "metadata": {},
   "outputs": [
    {
     "name": "stderr",
     "output_type": "stream",
     "text": [
      "100%|██████████| 1000/1000 [00:05<00:00, 199.12it/s]\n"
     ]
    }
   ],
   "source": [
    "df['in_text_predictions'] = df.progress_apply(rank_extractions_frequency, axis=1)"
   ]
  },
  {
   "cell_type": "code",
   "execution_count": null,
   "id": "a53d1ffd",
   "metadata": {},
   "outputs": [],
   "source": []
  },
  {
   "cell_type": "markdown",
   "id": "6a3172ae",
   "metadata": {},
   "source": [
    "# Find matches"
   ]
  },
  {
   "cell_type": "code",
   "execution_count": 115,
   "id": "6b3afb0e",
   "metadata": {},
   "outputs": [],
   "source": [
    "import difflib"
   ]
  },
  {
   "cell_type": "code",
   "execution_count": 116,
   "id": "f6f2f2f6",
   "metadata": {},
   "outputs": [],
   "source": [
    "def find_matches(truth, predictions):\n",
    "    \"\"\"\n",
    "    Functions compares the truth value (editor tags) and predictions made by the system using the difflib library.\n",
    "    1. A prediction is considered as a match if it a close match and scores at least 0.7 with an editor tag using the difflib.get_close_matches\n",
    "    2. If no match is found then we look for a substring match.\n",
    "    \n",
    "    If both steps do not give a match, then there is no prediction for that particular editor tag.\n",
    "    \n",
    "    :param truth: editor tags\n",
    "    :param predictions: predictions made by the system\n",
    "    :return: those predictions which are correct, i.e., match with editor predictions\n",
    "    \"\"\"\n",
    "    matches = []\n",
    "    for tag in truth:\n",
    "        predicted = difflib.get_close_matches(tag, predictions, 1, 0.7) #closest match\n",
    "        if not predicted:\n",
    "            predicted = [key for key in predictions if tag in key] #if no closest match then take substring match\n",
    "        \n",
    "        if predicted:\n",
    "            matches.append(predicted[0])\n",
    "        else:\n",
    "            continue\n",
    "    return matches"
   ]
  },
  {
   "cell_type": "code",
   "execution_count": null,
   "id": "371d3928",
   "metadata": {},
   "outputs": [],
   "source": []
  },
  {
   "cell_type": "markdown",
   "id": "b0ed736a",
   "metadata": {},
   "source": [
    "# Finding matches of in_text predictions with all tags"
   ]
  },
  {
   "cell_type": "code",
   "execution_count": 117,
   "id": "7c361e2a",
   "metadata": {},
   "outputs": [
    {
     "name": "stderr",
     "output_type": "stream",
     "text": [
      "100%|██████████| 1000/1000 [00:00<00:00, 1492.64it/s]\n"
     ]
    }
   ],
   "source": [
    "df['in_text_predictions_x_tags'] = df.progress_apply(lambda x: find_matches(x['tags'], x['in_text_predictions']), axis=1)"
   ]
  },
  {
   "cell_type": "code",
   "execution_count": 18,
   "id": "32fe0fc7",
   "metadata": {},
   "outputs": [],
   "source": [
    "in_text_predictions_x_tags_acc = df.apply(lambda row: int(((len(row.in_text_predictions_x_tags)/len(row.tags) if len(row.tags) != 0 else 0 ))*100), axis=1)"
   ]
  },
  {
   "cell_type": "code",
   "execution_count": 19,
   "id": "2cd9f918",
   "metadata": {},
   "outputs": [
    {
     "name": "stdout",
     "output_type": "stream",
     "text": [
      "30.832\n"
     ]
    }
   ],
   "source": [
    "print((in_text_predictions_x_tags_acc).mean())"
   ]
  },
  {
   "cell_type": "code",
   "execution_count": null,
   "id": "eae932c3",
   "metadata": {},
   "outputs": [],
   "source": []
  },
  {
   "cell_type": "markdown",
   "id": "1b306980",
   "metadata": {},
   "source": [
    "# Finding matches of in_text predictions with in_text tags"
   ]
  },
  {
   "cell_type": "code",
   "execution_count": 127,
   "id": "517ce1e9",
   "metadata": {},
   "outputs": [
    {
     "name": "stderr",
     "output_type": "stream",
     "text": [
      "100%|██████████| 1000/1000 [00:00<00:00, 3629.37it/s]\n"
     ]
    }
   ],
   "source": [
    "df['in_text_predictions_x_in_text'] = df.progress_apply(lambda x: find_matches(x['in_text'], x['in_text_predictions']), axis=1)"
   ]
  },
  {
   "cell_type": "code",
   "execution_count": 128,
   "id": "99dbfa3e",
   "metadata": {},
   "outputs": [],
   "source": [
    "in_text_predictions_x_in_text_acc = df.apply(lambda row: int(((len(row.in_text_predictions_x_in_text)/len(row.in_text) if len(row.in_text) != 0 else -1 ))*100), axis=1)"
   ]
  },
  {
   "cell_type": "code",
   "execution_count": 12,
   "id": "aa7a3540",
   "metadata": {},
   "outputs": [
    {
     "name": "stdout",
     "output_type": "stream",
     "text": [
      "73.25029515938607\n"
     ]
    }
   ],
   "source": [
    "print(in_text_predictions_x_in_text_acc[in_text_predictions_x_in_text_acc >= 0].mean())"
   ]
  },
  {
   "cell_type": "code",
   "execution_count": null,
   "id": "61e63f70",
   "metadata": {},
   "outputs": [],
   "source": []
  },
  {
   "cell_type": "markdown",
   "id": "3b3d3568",
   "metadata": {},
   "source": [
    "# Out-of-text tag prediction"
   ]
  },
  {
   "cell_type": "code",
   "execution_count": 131,
   "id": "3e3051ee",
   "metadata": {},
   "outputs": [],
   "source": [
    "low_level_categories = {'Automobile' : ['Auto', 'Autoindustrie', 'Automobilindustrie', 'Automobilzulieferer',\n",
    "                                        'Elektromobilität', 'Dieselskandal', 'Diesel', 'A8', 'Lkw'],\n",
    "                        'Bildung' : ['Schule', 'Schulen', 'Schüler', 'Studie', 'Bildung', 'Unterricht', 'Lehrer',\n",
    "                                     'Distanzunterricht', 'Ausbildung', 'Universität', 'Abitur', 'Wechselunterricht',\n",
    "                                     'Hochschule', 'Studium', 'Präsenzunterricht'],\n",
    "                        'Finanzen' : ['Euro', 'Nikkei', 'Deutsche Bank', 'EZB', 'Finanzen', 'Geld', 'Insolvenz',\n",
    "                                      'Steuern', 'Geldpolitik', 'Bilanz', 'Banken', 'Fed', 'US-Notenbank',\n",
    "                                      'Gold', 'Commerzbank', 'BaFin', 'Rente', 'Zinsen'],\n",
    "                        'Elektronik' : ['Smartphone', 'Metall- und Elektroindustrie', 'Handy', 'Fans'],\n",
    "                        'Fußball' : ['Fußball', 'FC Bayern München', 'Bundesliga', '3. Liga', '2. Bundesliga', \n",
    "                                     'DFB', 'Champions League', '1. FC Nürnberg', 'Hansi Flick', 'FC Augsburg',\n",
    "                                     'TSV 1860 München', 'SSV Jahn Regensburg', 'Fußball-EM', 'Würzburger Kickers',\n",
    "                                     'Europameisterschaft', 'SpVgg Greuther Fürth', 'FC Ingolstadt 04', \n",
    "                                     'Joachim Löw', 'DFB-Pokal', 'Türkgücü München', 'SpVgg Unterhaching',\n",
    "                                     'FC Bayern München II', 'Frauenfußball', 'Thomas Müller', 'UEFA', \n",
    "                                     'FC Bayern Frauen', 'Robert Lewandowski', 'Bundestagswahl 2021', 'DFL', \n",
    "                                     'Borussia Dortmund', 'Manuel Neuer', 'Heiko Herrlich', 's.Oliver Würzburg',\n",
    "                                     'Fußball-Bundesliga', 'Karl-Heinz Rummenigge', 'Regionalliga Bayern',\n",
    "                                     'Fußball-Europameisterschaft', 'Rainer Koch', 'Amateurfußball', 'BFV',\n",
    "                                     'Deutscher Fußball-Bund'],\n",
    "                        'Gesellschaft' : ['Urlaub', 'Neustart', 'Ernährung', 'Alkohol', 'Party', 'Spenden', 'Jubiläum',\n",
    "                                          'Tod', 'Müll', 'Arbeitsplätze', 'Familie', 'Ferien', 'Gesellschaft', 'Bier',\n",
    "                                          'Tote', 'Ehrenamt', 'Bergwacht', 'Pflegeheim', 'Schlachthof', 'Hotel', \n",
    "                                          'Gedenken', 'Tradition', 'Wohnen', 'Sommerferien', 'Garten', 'Alkoholverbot',\n",
    "                                          'Soziales', 'Freibad', 'Supermarkt', 'Trauer', 'Bauarbeiten', 'Fleisch',\n",
    "                                          'Umfrage', 'Pendler', 'Architektur', 'Haushalt', 'Geburtstag', 'Ausflug', \n",
    "                                          'Neubau', 'Mode', 'Restaurant', 'Einkaufen', 'Biergarten', 'Hotels',\n",
    "                                          'Essen', 'Gaststätten', 'Schließung', 'Pfingsten', 'Förderung', \n",
    "                                          'Camping', 'Armut', 'Wasserwacht', 'Unglück', 'Fleischindustrie',\n",
    "                                          'Feiertag', 'Straßenbau', 'Seniorenheim', 'Senioren', 'Eltern', 'Altenheim',\n",
    "                                          'Altenpflege', 'Fische'],\n",
    "                        'Gesundheit' : ['Gesundheit', 'Medizin', 'Krankenhaus', 'Pflege', 'Gesundheitsministerium',\n",
    "                                        'Drogen', 'Infektionsschutzgesetz', 'Gesundheitsamt', 'Intensivstation',\n",
    "                                        'Fitnessmagazin', 'Trinkwasser', 'Klinik', 'Verletzte', 'Krankheit', 'Ärzte',\n",
    "                                        'Pflegekräfte', 'Ansteckung', 'Medikamente', 'Krebs', 'Hotspots', 'WHO', \n",
    "                                        'Krankenhäuser', 'Hygienevorschriften', 'LGL', 'Lothar Wieler', 'Klinikum', \n",
    "                                        'Geburt', 'Hausärzte', 'Geflügelpest', 'Depression', 'Aerosole', 'Arzt',\n",
    "                                        'Grippe', 'Stiko', 'Apotheke', 'Patienten', 'Vogelgrippe', 'Impfung', 'RKI', \n",
    "                                        'Robert-Koch-Institut', 'Infektion', 'Präsenzunterricht',\n",
    "                                        'Robert Koch-Institut'],\n",
    "                        'Justiz' : ['Justiz', 'Hof', 'Urteil', 'Kriminalität', 'Staatsanwaltschaft', 'Gericht',\n",
    "                                    'Missbrauch', 'Sexueller Missbrauch', 'Landratsamt', 'Klage', 'Landgericht', \n",
    "                                    'Bayerischer Verwaltungsgerichtshof', 'Bundesverfassungsgericht',\n",
    "                                    'Maskenaffäre', 'Bundesgerichtshof', 'BGH'],\n",
    "                        'Polizei' : ['Kriminalität', 'Gericht', 'Sexueller Missbrauch'],\n",
    "                        'Katastrophe' : ['Brand', 'Hochwasser', 'Verkehrsunfall', 'Unwetter', 'Überschwemmungen',\n",
    "                                         'Gewitter', 'Hochwasserschutz', 'Sachschaden'],\n",
    "                        'Kinder' : ['Kinder', 'Jugendliche', 'Kita', 'Grundschule', 'Kindergarten', 'Kindesmissbrauch',\n",
    "                                    'Kitas', 'Baby', 'Kinderpornografie', 'Kinderbetreuung'],\n",
    "                        'Konjunktur' : ['Verdi', 'Arbeitsmarkt', 'Baustelle', 'Arbeit', 'Konjunktor', \n",
    "                                        'Konjunktur', 'Arbeitslosigkeit',\n",
    "                                        'Mieten', 'BIP', 'Inflation', 'Versicherung', 'Deutsche Post', 'Startup', 'Zoll',\n",
    "                                        'Arbeitslosenzahlen', 'Start-Up', 'Konjunktursorgen', 'Verbraucherschutz',\n",
    "                                        'Konjunkturpaket'],\n",
    "                        'Kultur' : ['Tourismus', 'Kultur', 'Kino', 'Gastronomie', 'Musik', 'Kunst', 'Weihnachten',\n",
    "                                    'Literatur', 'Film', 'Theater', 'Reisen', 'Ausstellung', 'Freizeit', 'Museum',\n",
    "                                    'Geschichte', 'kinokino', 'Wandern', 'Lebensmittel', 'Kontrovers', 'Oktoberfest',\n",
    "                                    'Film und Serie', 'Kritik', 'Handwerk', 'Künstler', 'George Floyd', 'Silvester',\n",
    "                                    'Volksfest', 'Zuschauer', 'Buch', 'Hollywood', 'Konzert', 'Festival', 'Oper',\n",
    "                                    'Albumkritik', 'Schauspieler', 'Fasching', 'Auszeichnung', 'Schausteller',\n",
    "                                    'Reisewarnung', 'Dehoga', 'Kabarett', 'Bücher', 'Pop', 'Lesen', 'Kulturhauptstadt',\n",
    "                                    'Album', 'Richard Wagner', 'Öffnung', 'Veranstaltungen', 'Kultusministerium'],\n",
    "                        'Landwirtschaft' : ['Landwirtschaft', 'Weiden', 'Bauern', 'Landwirte', 'Erntehelfer'],\n",
    "                        'Nachrichten' : ['Rundschau', 'Bayern 2', '#faktenfuchs', 'Bayernthema', 'radioWelt', 'Medien',\n",
    "                                         '#Faktenfuchs', 'B5 aktuell', 'Tagesgespräch', 'ARD', 'Fernsehen', 'BR24Live', \n",
    "                                         'Sternstunden', 'Possoch klärt', 'Journalismus', 'Podcast', 'mehr/wert', \n",
    "                                         'ZDF', 'Pressefreiheit', 'ARD-WIEN', 'Tagesschau', 'ARD-alpha', 'STATIONEN'],\n",
    "                        'Netzwelt' : ['Facebook', 'Internet', 'Datenschutz', 'Twitter', 'Instagram', 'App', 'Social Media',\n",
    "                                      'Streaming', 'Bitcoin', 'TikTok', 'Fake News', 'Netflix', 'Soziale Netzwerke',\n",
    "                                      'Youtube', 'WhatsApp', 'Online', 'Soziale Medien', 'Mobilfunk'],\n",
    "                        'Personen' : ['Demonstration', 'Flüchtlinge', 'Rassismus', 'Protest', 'Streik', 'Warnstreik', 'Antisemitismus',\n",
    "                                      'Verschwörungstheorien', 'Frauen', 'Ausgangssperre', 'Proteste', 'Zweiter Weltkrieg', \n",
    "                                      'Streit', 'Anschlag', 'Querdenken', 'Demokratie', 'Juden', 'BRK', 'Migration', 'Flucht',\n",
    "                                      'Hilfe', 'Asylbewerber', 'Holocaust', 'Homosexualität', 'Diskriminierung',\n",
    "                                      'Körperverletzung', 'Petition', 'Integration', 'Menschen mit Behinderung', \n",
    "                                      'Inklusion', 'Demonstrationen', 'Black Lives Matter', 'Migranten', 'Abschiebung',\n",
    "                                      'Gleichberechtigung', 'Kundgebung', 'Bürgerinitiative', 'Menschenrechte', 'Absage',\n",
    "                                      'Hubschrauber', 'Caritas', 'Geflüchtete', 'Seenotrettung', 'Terrorismus', \n",
    "                                      'Rettungskräfte', 'Rettungshubschrauber', 'Bayerisches Rotes Kreuz', 'Obdachlose', \n",
    "                                      'Nationalsozialismus'],\n",
    "                        'Politik' : ['Markus Söder', 'CSU', 'Donald Trump', 'Angela Merkel', 'SPD', 'Joe Biden',\n",
    "                                     'Bundestagswahl', 'Grüne', 'Jens Spahn', 'Freie Wähler', 'AfD', 'CDU', \n",
    "                                     'Hubert Aiwanger', 'Politik', 'Rechtsextremismus', 'FDP', 'Bundestag', 'Armin Laschet',\n",
    "                                     'Michael Piazolo', 'Landtag', 'Klaus Holetschek', 'Horst Seehofer', 'Joachim Herrmann',\n",
    "                                     'Nationalsozialismus', 'Brexit', 'Olaf Scholz', 'US-Wahl', 'Melanie Huml', \n",
    "                                     'Kanzlerkandidatur', 'Bernd Sibler', 'Kultusministerium', 'Wahl', \n",
    "                                     'Bayerischer Landtag', 'Alexej Nawalny', 'Boris Johnson', 'US-Präsidentschaftswahl', \n",
    "                                     'CDU/CSU', 'Die Grünen', 'Andreas Scheuer', 'Verfassungsschutz', 'Annalena Baerbock',\n",
    "                                     'Dieter Reiter', 'US-Präsident', 'Parteitag', 'Annegret Kramp-Karrenbauer', \n",
    "                                     'Heiko Maas', 'Wladimir Putin', 'Ursula von der Leyen', 'Alexander Lukaschenko',\n",
    "                                     'Sebastian Kurz', 'Wahlkampf', 'Frank-Walter Steinmeier', 'Bündnis 90/Die Grünen',\n",
    "                                     'Linke', 'Kommunalwahl', 'Peter Altmaier', 'Hubertus Heil', 'Thorsten Glauber', \n",
    "                                     'Kommunalpolitik', 'Karl Lauterbach', 'Münchner Runde', 'Robert Habeck',\n",
    "                                     'Kommentar', 'NSU', 'Opposition', 'Benjamin Netanjahu', 'Die Linke', \n",
    "                                     'Friedrich Merz', 'Julia Klöckner', 'Präsidentschaftswahl', 'Heinz-Peter Meidinger',\n",
    "                                     'Kabinett', 'US-Wahlkampf', 'Emmanuel Macron'],\n",
    "                        'Polizei' : ['Polizei', 'Polizeimeldung', 'Mord', 'Gewalt', 'Ermittlungen', 'Betrug', 'Fahndung',\n",
    "                                     'Messerattacke', 'Festnahme', 'Bundespolizei', 'Diebstahl', 'Terror', 'Mordprozess', \n",
    "                                     'Vergewaltigung', 'Polizeieinsatz', 'Kriminalpolizei', 'Polizeigewalt', \n",
    "                                     'Brandstiftung', 'Kripo', 'Fliegerbombe', 'Totschlag', 'Einbruch', 'Angriff', \n",
    "                                     'Zeugen', 'Großeinsatz', 'Vermisstensuche', 'Gefängnis', 'Hacker', 'Vermisste', \n",
    "                                     'Messerangriff', 'Hackerangriff', 'Cybercrime', 'Tötungsdelikt', 'Schleuser',\n",
    "                                     'Schlägerei'],\n",
    "                        'Regierung' : ['Prozess', 'Stadtrat', 'Bundesregierung', 'Bundeswehr', 'Grenze', 'Grenzkontrollen',\n",
    "                                       'Staatsregierung', 'Sanierung', 'Ausgangsbeschränkung', 'Kontaktbeschränkungen',\n",
    "                                       'Oberbürgermeister', 'Sicherheit', 'Kommunen', 'Bürgermeister', 'Bürgerentscheid',\n",
    "                                       'Bußgeld', 'Kontrollen', 'Sperrung', 'IHK', 'Rathaus', 'Verwaltungsgericht',\n",
    "                                       'Denkmalschutz', 'Öffentlicher Dienst', 'Korruption', 'Razzia', 'Waffen', \n",
    "                                       'Landrat', 'Militär', 'Untersuchungsausschuss', 'THW', 'LGL',\n",
    "                                       'Landesamt für Gesundheit und Lebensmittelsicherheit', 'Truppenabzug', 'NATO', 'Zollstreit'],\n",
    "                        'Religion' : ['Religion', 'Kirche', 'Katholische Kirche', 'Evangelische Kirche', 'Glaube',\n",
    "                                      'Gottesdienst', 'Judentum', 'Islam', 'Papst Franziskus', 'Muslime', 'Papst', \n",
    "                                      'Synagoge'],\n",
    "                        'Sport' : ['Sport', 'Basketball', 'Nationalmannschaft', 'BBL', 'Olympia', 'FC Bayern Basketball',\n",
    "                                   'Basketball-Bundesliga', 'Brose Bamberg', 'Olympische Spiele', 'Tokio 2020',\n",
    "                                   'Tennis', 'Schwimmen', 'Radsport', 'medi bayreuth', 'Formel 1', 'Handball', 'Motorsport',\n",
    "                                   'Transfer', 'Breitensport', 'Schwimmbad', 'Blickpunkt Sport', 'Markus Eisenbichler', \n",
    "                                   'Gymnasium', 'Geisterspiele', 'Karl Geiger', 'Doping', 'Sebastian Vettel'],\n",
    "                        'Tierwelt' : ['Tiere', 'Tierschutz', 'Artenschutz', 'Hunde', 'Vögel', 'Wildtiere', \n",
    "                                      'Landesbund für Vogelschutz', 'Wolf', 'Bienen', 'Zoo', 'Haustiere', 'Pferde', \n",
    "                                      'Tierheim', 'Schweine', 'Tierwohl', 'Bund Naturschutz'],\n",
    "                        'Transport' : ['Verkehr', 'Bahn', 'Autobahn', 'Fahrrad', 'ÖPNV', 'Deutsche Bahn',\n",
    "                                       'A3', 'Mobilität', 'Motorrad', 'Stau', 'A9', 'Flughafen', 'Nahverkehr',\n",
    "                                       'Bus', 'Bahnhof', 'Öffentlicher Nahverkehr', 'Flugverkehr', 'Radfahrer',\n",
    "                                       'S-Bahn', 'Zug', 'Fahrradfahrer', 'Lastwagen', 'Flugzeug', 'Motorradfahrer',\n",
    "                                       'Straßenverkehr', 'ICE'],\n",
    "                        'Umwelt' : ['Klimawandel', 'Wald', 'Umwelt', 'Klimaschutz', 'Naturschutz', 'Wetter', 'Natur', 'Umweltschutz',\n",
    "                                    'Bayerischer Wald', 'Schnee', 'Winter', 'Regen', 'Sommer', 'Bund Naturschutz',\n",
    "                                    'Starkregen', 'Wasser', 'Klima', 'Hitze', 'Trockenheit', 'Fridays for Future', 'LBV', \n",
    "                                    'Berge', 'Wiesn', 'Insekten', 'Bäume', 'Artenvielfalt', 'Pflanzen', 'Erderwärmung',\n",
    "                                    'Deutscher Wetterdienst', 'Fluss', 'Hagel', 'Ökologie', 'Treibhausgase'],\n",
    "                        'Unfall' : ['Feuerwehr', 'Unfall', 'Feuer', 'tödlicher Unfall', 'Explosion', 'Raser',\n",
    "                                    'Evakuierung', 'Rettung', 'Unfälle', 'Notbremse', 'Badeunfall', 'Sachschaden'],\n",
    "                        'Wintersport' : ['Wintersport', 'Ski Alpin', 'Eishockey', 'Biathlon', 'Skispringen', \n",
    "                                         'DEL', 'Deutsche Eishockey-Liga', 'Skifahren', 'Straubing Tigers',\n",
    "                                         'Rodeln', 'Langlauf'],\n",
    "                        'Wirtschaft' : ['Wirtschaft', 'Einzelhandel', 'IG Metall', 'Gewerkschaft', 'Union', \n",
    "                                        'Kurzarbeit', 'Handelskonflikt', 'Stellenabbau', 'Nachhaltigkeit',\n",
    "                                        'Tarifverhandlungen', 'Ölpreis', 'Handel', 'Handelsstreit', 'Verbraucher',\n",
    "                                        'Immobilien', 'Wirtschaftswachstum', 'Brauchtum', 'Industrie', 'Brauerei',\n",
    "                                        'Online-Handel', 'Holz', 'Geschäfte', 'DGB'],\n",
    "                        'Wissen' : ['Datenschutz', 'Forschung', 'Wissenschaft', 'Digitalisierung', \n",
    "                                    'Energiewende', 'Weltraum', 'Energie', 'Raumfahrt', 'CO2', 'Astronomie', \n",
    "                                    'Faktencheck', 'Luftfahrt', 'Archäologie', 'Statistik', \n",
    "                                    'Künstliche Intelligenz', 'Psychologie', 'Strom', 'Windkraft', \n",
    "                                    'Erneuerbare Energien', 'Atomkraft', 'ifo-Institut', 'Wasserstoff',\n",
    "                                    'Treibhausgase', 'Atommüll', 'Weltall', 'Photovoltaik', 'NASA'],\n",
    "                        'Coronavirus' : ['Coronavirus', 'Corona', 'Corona-Krise', 'Covid-19', 'Pandemie', \n",
    "                                         'Lockdown', 'Coronakrise', 'Corona-Pandemie', 'RKI', 'Robert-Koch-Institut',\n",
    "                                         'Impfung', 'SARS-CoV-2', 'Maskenpflicht', '7-Tage-Inzidenz', 'Impfstoff',\n",
    "                                         'Corona-Maßnahmen', 'Corona-Test', 'Corona-Impfungen',\n",
    "                                         'Corona-Impfstoff', 'Quarantäne', 'Neuinfektionen', 'Lockerungen',\n",
    "                                         'Liveticker', 'Impfzentrum', 'Inzidenzwert', 'Biontech', \n",
    "                                         'Corona-Mutation', 'Infektion', 'Homeoffice','Homeschooling', \n",
    "                                         'AstraZeneca', 'Schnelltest', 'FFP2-Masken', 'Sieben-Tage-Inzidenz', \n",
    "                                         'Corona-Regeln', 'Corona-Lockerungen', 'Mund-Nasen-Masken'\n",
    "                                         'Ausgangssperre', 'Teil-Lockdown', 'Coronatest', 'Ausgangsbeschränkung',\n",
    "                                         'Corona-Virus', 'Corona-Warn-App', 'Kontaktbeschränkungen','Testpflicht', \n",
    "                                         'Intensivstation', 'Hygienekonzept', 'Virus', 'Präsenzunterricht', \n",
    "                                         'Robert Koch-Institut','Hygiene', 'Infektionszahlen', 'Robert Koch-Institut',\n",
    "                                         'Reiserückkehrer', 'Abstandsregelung', 'Masken', 'Moderna', \n",
    "                                         'Querdenken','Todesfälle', 'Astrazeneca', 'R-Wert', 'Risikogebiet', \n",
    "                                         'Corona-Auflagen', 'Intensivbetten', 'Delta-Variante', 'Corona-Impfung', \n",
    "                                         'Pfizer', 'Test', 'Mund-Nasen-Schutz', 'PCR-Test', 'Corona-App', \n",
    "                                         'Infektionsschutz', 'Corona-Demo', 'Corona-Teststation', 'Impfpflicht', \n",
    "                                         'Impfzentren, ''Sars-CoV-2-Virus', 'Corona-Schnelltest'],\n",
    "                        'Börse' : ['Börse', 'Aktien', 'DAX', 'Euro', 'Dow Jones', 'MDAX', 'Nasdaq', 'B5 Börse', 'Wall Street', 'Nikkei']}"
   ]
  },
  {
   "cell_type": "code",
   "execution_count": 132,
   "id": "cfb4e2bd",
   "metadata": {},
   "outputs": [],
   "source": [
    "import tensorflow_hub as hub\n",
    "import numpy as np\n",
    "import tensorflow_text\n",
    "import tensorflow as tf\n",
    "import os"
   ]
  },
  {
   "cell_type": "code",
   "execution_count": 133,
   "id": "bddc9523",
   "metadata": {},
   "outputs": [],
   "source": [
    "embed = hub.load(\"https://tfhub.dev/google/universal-sentence-encoder-multilingual-large/3\")"
   ]
  },
  {
   "cell_type": "code",
   "execution_count": null,
   "id": "bd6fb942",
   "metadata": {},
   "outputs": [],
   "source": []
  },
  {
   "cell_type": "markdown",
   "id": "9447630d",
   "metadata": {},
   "source": [
    "# Step 1: Predict low-level category of the article using embedding similarity of article text and low-level tag cluster"
   ]
  },
  {
   "cell_type": "code",
   "execution_count": null,
   "id": "69a96c8c",
   "metadata": {},
   "outputs": [],
   "source": [
    "# Calculate the embeddings of the low-level tag cluster for all low-level categories in the dictionary\n",
    "\n",
    "categories_embedding_2 = np.zeros(shape=(30,512)) # initialize with zeroes\n",
    "\n",
    "for idx, c in enumerate(list(low_level_categories.keys())): \n",
    "    category_embeddings = embed(c) # embedding of the low-level category name\n",
    "    value_embeddings = np.mean(embed(low_level_categories[c]), axis=0) # mean of embedding of all tags in the low-level category\n",
    "    cluster_embeddings = (np.array(category_embeddings) + np.array(value_embeddings)) / 2 # mean of embeddings of the low-level category name and the tags in the category\n",
    "    categories_embedding_2[idx] = cluster_embeddings"
   ]
  },
  {
   "cell_type": "code",
   "execution_count": 134,
   "id": "21e81d3b",
   "metadata": {},
   "outputs": [],
   "source": [
    "def predict_category(row):\n",
    "    \n",
    "    \"\"\"\n",
    "    Function takes an article and returns a list of 3 low-level categories for that article following below steps:\n",
    "    1. Embeddings of the low-level tag cluster are calculated only once\n",
    "    2. Embed the text of the article\n",
    "    3. Calculate distance between the text embedding and low-level tag cluster embeddings\n",
    "    4. Order these distances\n",
    "    5. Collect top 3 low-level categories with the closest distance to the article embeddings\n",
    "    \n",
    "    :param row: one row of the dataframe\n",
    "    :return: list of top 3 categories for the article\n",
    "    \"\"\"\n",
    "    \n",
    "    article_embedding = embed(row.clean_text[:20000]).numpy()\n",
    "    \n",
    "    distances = np.dot(article_embedding, np.transpose(categories_embedding_2))[0]\n",
    "    category_indices = distances.argsort()[-3:][::-1]\n",
    "\n",
    "    categories = [list(low_level_categories)[c] for c in category_indices]\n",
    "\n",
    "    return categories"
   ]
  },
  {
   "cell_type": "code",
   "execution_count": 135,
   "id": "9d25b452",
   "metadata": {},
   "outputs": [
    {
     "name": "stderr",
     "output_type": "stream",
     "text": [
      "100%|██████████| 1000/1000 [07:41<00:00,  2.17it/s]\n"
     ]
    }
   ],
   "source": [
    "df['low_level_category_predictions'] = df.progress_apply(predict_category, axis=1)"
   ]
  },
  {
   "cell_type": "code",
   "execution_count": null,
   "id": "1bd6da4f",
   "metadata": {},
   "outputs": [],
   "source": []
  },
  {
   "cell_type": "markdown",
   "id": "667397f9",
   "metadata": {},
   "source": [
    "# Step 2: Predict 10 ‘most similar tags’ for the article depending on the low-level category tags"
   ]
  },
  {
   "cell_type": "code",
   "execution_count": 136,
   "id": "5ba33d77",
   "metadata": {},
   "outputs": [],
   "source": [
    "def predict_tags(text, tag_list):\n",
    "    \n",
    "    \"\"\"\n",
    "    Function takes an article text and a tag_list composed of tags in the predicted top 3 low-level categories.\n",
    "    It returns 10 most similar tags from the list depending on the article text, following the below steps:\n",
    "    1. Embed the text of the article\n",
    "    2. Embed the tags in the tag_list\n",
    "    3. Calculate distance between the text embedding and tag embeddings\n",
    "    4. Order these distances \n",
    "    5. Collect top 10 tags which are closest to the article embeddings\n",
    "    \n",
    "    :param text: article text\n",
    "    :param tag_list: list of tags in the top 3 low-level categories\n",
    "    :return: list of top 10 most similar tags for the article\n",
    "    \"\"\"\n",
    "    \n",
    "    article_embedding = embed(text[:20000]).numpy()\n",
    "    tag_embedding = embed(tag_list).numpy()\n",
    "    \n",
    "    distances = np.dot(tag_embedding, article_embedding.reshape(-1,1))\n",
    "    zipped = zip(distances, tag_list)\n",
    "    sorted_zipped = sorted(zipped, key = lambda t: t[0])\n",
    "    tags = list(list(zip(*sorted_zipped[-10:]))[1:][0])\n",
    "    tags.reverse()\n",
    "        \n",
    "    return tags"
   ]
  },
  {
   "cell_type": "code",
   "execution_count": 137,
   "id": "79b08606",
   "metadata": {},
   "outputs": [
    {
     "name": "stderr",
     "output_type": "stream",
     "text": [
      "100%|██████████| 1000/1000 [09:14<00:00,  1.80it/s]\n"
     ]
    }
   ],
   "source": [
    "df['out_of_text_predictions'] = df.progress_apply(lambda x: predict_tags(x['clean_text'], low_level_categories[x['low_level_category_predictions'][0]]+low_level_categories[x['low_level_category_predictions'][1]]+low_level_categories[x['low_level_category_predictions'][2]]), axis=1)"
   ]
  },
  {
   "cell_type": "code",
   "execution_count": null,
   "id": "cad9ba62",
   "metadata": {},
   "outputs": [],
   "source": []
  },
  {
   "cell_type": "code",
   "execution_count": null,
   "id": "f91318af",
   "metadata": {},
   "outputs": [],
   "source": []
  },
  {
   "cell_type": "markdown",
   "id": "dd794388",
   "metadata": {},
   "source": [
    "# Finding matches of out_of_text predictions with out_of_text tags"
   ]
  },
  {
   "cell_type": "code",
   "execution_count": 138,
   "id": "fecb179e",
   "metadata": {},
   "outputs": [
    {
     "name": "stderr",
     "output_type": "stream",
     "text": [
      "100%|██████████| 1000/1000 [00:00<00:00, 3923.32it/s]\n"
     ]
    }
   ],
   "source": [
    "df['out_of_text_predictions_x_out_of_text'] = df.progress_apply(lambda x: find_matches(x['out_of_text'], x['out_of_text_predictions']), axis=1)"
   ]
  },
  {
   "cell_type": "code",
   "execution_count": 20,
   "id": "28f9ee38",
   "metadata": {},
   "outputs": [],
   "source": [
    "out_of_text_predictions_x_out_of_text_acc = df.apply(lambda row: int(((len(row.out_of_text_predictions_x_out_of_text)/len(row.out_of_text) if len(row.out_of_text) != 0 else -1 ))*100), axis=1)"
   ]
  },
  {
   "cell_type": "code",
   "execution_count": 21,
   "id": "4f426f97",
   "metadata": {},
   "outputs": [
    {
     "name": "stdout",
     "output_type": "stream",
     "text": [
      "7.3969696969696965\n"
     ]
    }
   ],
   "source": [
    "print(out_of_text_predictions_x_out_of_text_acc[out_of_text_predictions_x_out_of_text_acc >= 0].mean())"
   ]
  },
  {
   "cell_type": "code",
   "execution_count": null,
   "id": "1feed630",
   "metadata": {},
   "outputs": [],
   "source": []
  },
  {
   "cell_type": "code",
   "execution_count": null,
   "id": "1b591a39",
   "metadata": {},
   "outputs": [],
   "source": []
  },
  {
   "cell_type": "markdown",
   "id": "74757b60",
   "metadata": {},
   "source": [
    "# Evaluating combined in_text and out_of_text predictions"
   ]
  },
  {
   "cell_type": "code",
   "execution_count": 145,
   "id": "684546bf",
   "metadata": {},
   "outputs": [],
   "source": [
    "df['combined_prediction'] = df['in_text_predictions'] + df['out_of_text_predictions']"
   ]
  },
  {
   "cell_type": "code",
   "execution_count": 146,
   "id": "c3c9c3a3",
   "metadata": {},
   "outputs": [
    {
     "name": "stderr",
     "output_type": "stream",
     "text": [
      "100%|██████████| 1000/1000 [00:00<00:00, 1141.28it/s]\n"
     ]
    }
   ],
   "source": [
    "df['combined_prediction_x_tags'] = df.progress_apply(lambda x: find_matches(x['tags'], x['combined_prediction']), axis=1)"
   ]
  },
  {
   "cell_type": "code",
   "execution_count": 22,
   "id": "523b6b50",
   "metadata": {},
   "outputs": [],
   "source": [
    "df['combined_prediction_x_tags_acc'] = df.apply(lambda row: int(((len(row.combined_prediction_x_tags)/len(row.tags) if len(row.tags) != 0 else 0 ))*100), axis=1)"
   ]
  },
  {
   "cell_type": "code",
   "execution_count": 23,
   "id": "bb92a427",
   "metadata": {},
   "outputs": [
    {
     "name": "stdout",
     "output_type": "stream",
     "text": [
      "35.542\n"
     ]
    }
   ],
   "source": [
    "print(df['combined_prediction_x_tags_acc'].mean())"
   ]
  },
  {
   "cell_type": "code",
   "execution_count": null,
   "id": "fdf9326b",
   "metadata": {},
   "outputs": [],
   "source": []
  },
  {
   "cell_type": "code",
   "execution_count": null,
   "id": "19014688",
   "metadata": {},
   "outputs": [],
   "source": []
  },
  {
   "cell_type": "code",
   "execution_count": 26,
   "id": "fc53125e",
   "metadata": {},
   "outputs": [],
   "source": [
    "df.to_pickle('../data/kaggle_evaluation.pkl', compression='zip')"
   ]
  },
  {
   "cell_type": "code",
   "execution_count": null,
   "id": "0c1fed94",
   "metadata": {},
   "outputs": [],
   "source": []
  }
 ],
 "metadata": {
  "environment": {
   "name": "common-cpu.m65",
   "type": "gcloud",
   "uri": "gcr.io/deeplearning-platform-release/base-cpu:m65"
  },
  "kernelspec": {
   "display_name": "Python 3",
   "language": "python",
   "name": "python3"
  },
  "language_info": {
   "codemirror_mode": {
    "name": "ipython",
    "version": 3
   },
   "file_extension": ".py",
   "mimetype": "text/x-python",
   "name": "python",
   "nbconvert_exporter": "python",
   "pygments_lexer": "ipython3",
   "version": "3.7.10"
  }
 },
 "nbformat": 4,
 "nbformat_minor": 5
}
